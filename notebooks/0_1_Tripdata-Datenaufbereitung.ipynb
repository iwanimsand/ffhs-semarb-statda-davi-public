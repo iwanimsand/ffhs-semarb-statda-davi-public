{
 "cells": [
  {
   "cell_type": "markdown",
   "metadata": {},
   "source": [
    "FFHS DAS Data Science  \n",
    "Semesterarbeit FS20  \n",
    "Iwan Imsand"
   ]
  },
  {
   "cell_type": "markdown",
   "metadata": {
    "pycharm": {
     "name": "#%% md\n"
    }
   },
   "source": [
    "# Datenaufbereitung ```tripdata```"
   ]
  },
  {
   "cell_type": "markdown",
   "metadata": {},
   "source": [
    "# Einleitung"
   ]
  },
  {
   "cell_type": "markdown",
   "metadata": {},
   "source": [
    "In diesem Notebook werden die beschafften Tripdaten aufbereitet."
   ]
  },
  {
   "cell_type": "markdown",
   "metadata": {},
   "source": [
    "# Imports und Einstellung "
   ]
  },
  {
   "cell_type": "code",
   "execution_count": 1,
   "metadata": {},
   "outputs": [],
   "source": [
    "%matplotlib inline"
   ]
  },
  {
   "cell_type": "code",
   "execution_count": 2,
   "metadata": {
    "pycharm": {
     "name": "#%%\n"
    }
   },
   "outputs": [],
   "source": [
    "import os\n",
    "import re\n",
    "import pandas as pd\n",
    "import numpy as np\n",
    "import multiprocessing as mp\n",
    "from functools import partial\n",
    "from calendar import monthrange\n",
    "\n",
    "import matplotlib.pyplot as plt\n",
    "import matplotlib.gridspec as gridspec"
   ]
  },
  {
   "cell_type": "code",
   "execution_count": 3,
   "metadata": {},
   "outputs": [],
   "source": [
    "plt.rcParams[\"figure.figsize\"] = (18,8)"
   ]
  },
  {
   "cell_type": "code",
   "execution_count": 4,
   "metadata": {},
   "outputs": [],
   "source": [
    "pd.options.display.float_format = '{:.5f}'.format"
   ]
  },
  {
   "cell_type": "markdown",
   "metadata": {},
   "source": [
    "# Globale Variablen"
   ]
  },
  {
   "cell_type": "markdown",
   "metadata": {},
   "source": [
    "Festlegung des Pfades aus welchem die Tripdaten gelesen werden."
   ]
  },
  {
   "cell_type": "code",
   "execution_count": 5,
   "metadata": {
    "pycharm": {
     "name": "#%%\n"
    }
   },
   "outputs": [],
   "source": [
    "path = './../data/citibike/tripdata'"
   ]
  },
  {
   "cell_type": "markdown",
   "metadata": {},
   "source": [
    "Die Spalten wie sie beim Einlesen benannt werden sollen."
   ]
  },
  {
   "cell_type": "code",
   "execution_count": 6,
   "metadata": {},
   "outputs": [],
   "source": [
    "header_names = [\n",
    "    'Trip Duration', 'Start Time', 'Stop Time',\n",
    "    'Start Station ID', 'Start Station Name', 'Start Station Latitude', 'Start Station Longitude',\n",
    "    'End Station ID', 'End Station Name', 'End Station Latitude', 'End Station Longitude',\n",
    "    'Bike ID',\n",
    "    'User Type', 'Birth Year', 'Gender'\n",
    "]"
   ]
  },
  {
   "cell_type": "markdown",
   "metadata": {},
   "source": [
    "Definition der Datentypen der einzelnen Spalten."
   ]
  },
  {
   "cell_type": "code",
   "execution_count": 7,
   "metadata": {},
   "outputs": [],
   "source": [
    "dtypes = {\n",
    "    'Trip Duration': 'Int64',\n",
    "    'Start Station ID': 'Int64',\n",
    "    'End Station ID': 'Int64',\n",
    "    'Bike ID': 'Int64',\n",
    "    'User Type': 'category',\n",
    "    'Birth Year': 'Int64',\n",
    "    'Gender': 'category'\n",
    "}"
   ]
  },
  {
   "cell_type": "markdown",
   "metadata": {},
   "source": [
    "# Hilfsmethoden"
   ]
  },
  {
   "cell_type": "markdown",
   "metadata": {},
   "source": [
    "## Einlesen der Dateien"
   ]
  },
  {
   "cell_type": "markdown",
   "metadata": {},
   "source": [
    "Hilfsmethoden die zum einlesen der Dateien verwendet werden."
   ]
  },
  {
   "cell_type": "code",
   "execution_count": 8,
   "metadata": {},
   "outputs": [],
   "source": [
    "def get_files_iterator(path, filename_filter):\n",
    "    \"\"\"\n",
    "    A file iterator for iterating over all files in a given path.\n",
    "    A file filter can be used to include or exclude files from the iterator.\n",
    "    \"\"\"\n",
    "    files = os.listdir(path)\n",
    "    for file in files:\n",
    "        if filename_filter(file):\n",
    "            yield os.path.join(path, file)"
   ]
  },
  {
   "cell_type": "code",
   "execution_count": 9,
   "metadata": {},
   "outputs": [],
   "source": [
    "def read(file):\n",
    "    \"\"\"\n",
    "    Reads a file to a DataFrame with the read_csv method.\n",
    "    \"\"\"\n",
    "    df = pd.read_csv(\n",
    "        file, \n",
    "        header= 0, names=header_names,\n",
    "        parse_dates=False,\n",
    "        index_col=None,\n",
    "        dtype=dtypes,\n",
    "        na_values=['\\\\N']\n",
    "    )\n",
    "    \n",
    "    return df"
   ]
  },
  {
   "cell_type": "markdown",
   "metadata": {},
   "source": [
    "## Datum, Zeit und Zeitzone"
   ]
  },
  {
   "cell_type": "markdown",
   "metadata": {},
   "source": [
    "In den Dateien sind sehr unterschiedliche Datums- und Zeitformate vorhanden. Daher werden hier Funktionen zur Verfügung gestellt, welche die nötigen Merkmale, entsprechend dem in der Datei verwendeten Format, in ein ```datetime``` konvertieren."
   ]
  },
  {
   "cell_type": "markdown",
   "metadata": {},
   "source": [
    "### Alle möglichen Formate aus allen Dateien auflisten"
   ]
  },
  {
   "cell_type": "code",
   "execution_count": 10,
   "metadata": {},
   "outputs": [],
   "source": [
    "files_iterator = get_files_iterator(os.path.join(path, 'src'), lambda filename: re.match('[0-9]{4}.*\\.csv', filename))"
   ]
  },
  {
   "cell_type": "code",
   "execution_count": 11,
   "metadata": {},
   "outputs": [],
   "source": [
    "def get_datetime_examples(file):\n",
    "    try:\n",
    "        print('Get datetime examples from {}.'.format(file))\n",
    "        df = read(file)\n",
    "        \n",
    "        return pd.DataFrame(\n",
    "            [\n",
    "                [\n",
    "                    df['Start Time'].iloc[5],\n",
    "                    df['Start Time'].iloc[-1],\n",
    "                    df['Stop Time'].iloc[5],\n",
    "                    df['Stop Time'].iloc[-1]\n",
    "                ]\n",
    "            ],\n",
    "            index=[file],\n",
    "            columns=['Start Time fifth', 'Start Time last', 'Stop Time fifth', 'Stop Time last']\n",
    "        )\n",
    "    \n",
    "    except Exception as e:\n",
    "        print('ERROR: Exception when getting datetime examples for file {}: {}'.format(file, str(e)))"
   ]
  },
  {
   "cell_type": "code",
   "execution_count": 12,
   "metadata": {},
   "outputs": [
    {
     "name": "stdout",
     "output_type": "stream",
     "text": [
      "Get datetime examples from ./../data/citibike/tripdata/src/201706-citibike-tripdata.csv.Get datetime examples from ./../data/citibike/tripdata/src/201912-citibike-tripdata.csv.Get datetime examples from ./../data/citibike/tripdata/src/201510-citibike-tripdata.csv.Get datetime examples from ./../data/citibike/tripdata/src/201810-citibike-tripdata.csv.Get datetime examples from ./../data/citibike/tripdata/src/201311-citibike-tripdata.csv.Get datetime examples from ./../data/citibike/tripdata/src/201405-citibike-tripdata.csv.Get datetime examples from ./../data/citibike/tripdata/src/201905-citibike-tripdata.csv.Get datetime examples from ./../data/citibike/tripdata/src/201902-citibike-tripdata.csv.Get datetime examples from ./../data/citibike/tripdata/src/201412-citibike-tripdata.csv.Get datetime examples from ./../data/citibike/tripdata/src/201309-citibike-tripdata.csv.Get datetime examples from ./../data/citibike/tripdata/src/201605-citibike-tripdata.csv.Get datetime examples from ./../data/citibike/tripdata/src/202004-citibike-tripdata.csv.Get datetime examples from ./../data/citibike/tripdata/src/201407-citibike-tripdata.csv.Get datetime examples from ./../data/citibike/tripdata/src/201606-citibike-tripdata.csv.\n",
      "\n",
      "Get datetime examples from ./../data/citibike/tripdata/src/201508-citibike-tripdata.csv.Get datetime examples from ./../data/citibike/tripdata/src/201307-citibike-tripdata.csv.\n",
      "Get datetime examples from ./../data/citibike/tripdata/src/201811-citibike-tripdata.csv.\n",
      "Get datetime examples from ./../data/citibike/tripdata/src/201909-citibike-tripdata.csv.Get datetime examples from ./../data/citibike/tripdata/src/201609-citibike-tripdata.csv.Get datetime examples from ./../data/citibike/tripdata/src/201808-citibike-tripdata.csv.\n",
      "Get datetime examples from ./../data/citibike/tripdata/src/201910-citibike-tripdata.csv.Get datetime examples from ./../data/citibike/tripdata/src/201409-citibike-tripdata.csv.\n",
      "Get datetime examples from ./../data/citibike/tripdata/src/201906-citibike-tripdata.csv.Get datetime examples from ./../data/citibike/tripdata/src/201601-citibike-tripdata.csv.\n",
      "Get datetime examples from ./../data/citibike/tripdata/src/202002-citibike-tripdata.csv.\n",
      "Get datetime examples from ./../data/citibike/tripdata/src/201607-citibike-tripdata.csv.Get datetime examples from ./../data/citibike/tripdata/src/201703-citibike-tripdata.csv.Get datetime examples from ./../data/citibike/tripdata/src/201504-citibike-tripdata.csv.\n",
      "\n",
      "\n",
      "\n",
      "Get datetime examples from ./../data/citibike/tripdata/src/201806-citibike-tripdata.csv.\n",
      "\n",
      "\n",
      "\n",
      "\n",
      "\n",
      "\n",
      "\n",
      "\n",
      "\n",
      "\n",
      "\n",
      "\n",
      "\n",
      "\n",
      "\n",
      "\n",
      "Get datetime examples from ./../data/citibike/tripdata/src/201907-citibike-tripdata.csv.Get datetime examples from ./../data/citibike/tripdata/src/201712-citibike-tripdata.csv.\n",
      "\n",
      "Get datetime examples from ./../data/citibike/tripdata/src/201512-citibike-tripdata.csv.\n",
      "Get datetime examples from ./../data/citibike/tripdata/src/201702-citibike-tripdata.csv.\n",
      "Get datetime examples from ./../data/citibike/tripdata/src/201602-citibike-tripdata.csv.\n",
      "Get datetime examples from ./../data/citibike/tripdata/src/201803-citibike-tripdata.csv.\n",
      "Get datetime examples from ./../data/citibike/tripdata/src/201707-citibike-tripdata.csv.\n",
      "Get datetime examples from ./../data/citibike/tripdata/src/202003-citibike-tripdata.csv.\n",
      "Get datetime examples from ./../data/citibike/tripdata/src/201410-citibike-tripdata.csv.\n",
      "Get datetime examples from ./../data/citibike/tripdata/src/201308-citibike-tripdata.csv.\n",
      "Get datetime examples from ./../data/citibike/tripdata/src/201804-citibike-tripdata.csv.\n",
      "Get datetime examples from ./../data/citibike/tripdata/src/201608-citibike-tripdata.csv.\n",
      "Get datetime examples from ./../data/citibike/tripdata/src/202001-citibike-tripdata.csv.\n",
      "Get datetime examples from ./../data/citibike/tripdata/src/201802-citibike-tripdata.csv.\n",
      "Get datetime examples from ./../data/citibike/tripdata/src/201408-citibike-tripdata.csv.\n",
      "Get datetime examples from ./../data/citibike/tripdata/src/201505-citibike-tripdata.csv.\n",
      "Get datetime examples from ./../data/citibike/tripdata/src/201709-citibike-tripdata.csv.\n",
      "Get datetime examples from ./../data/citibike/tripdata/src/201411-citibike-tripdata.csv.\n",
      "Get datetime examples from ./../data/citibike/tripdata/src/201805-citibike-tripdata.csv.\n",
      "Get datetime examples from ./../data/citibike/tripdata/src/201904-citibike-tripdata.csv.\n",
      "Get datetime examples from ./../data/citibike/tripdata/src/201506-citibike-tripdata.csv.\n",
      "Get datetime examples from ./../data/citibike/tripdata/src/201502-citibike-tripdata.csv.\n",
      "Get datetime examples from ./../data/citibike/tripdata/src/201705-citibike-tripdata.csv.\n",
      "Get datetime examples from ./../data/citibike/tripdata/src/201801-citibike-tripdata.csv.\n",
      "Get datetime examples from ./../data/citibike/tripdata/src/201901-citibike-tripdata.csv.\n",
      "Get datetime examples from ./../data/citibike/tripdata/src/201603-citibike-tripdata.csv.\n",
      "Get datetime examples from ./../data/citibike/tripdata/src/201310-citibike-tripdata.csv.\n",
      "Get datetime examples from ./../data/citibike/tripdata/src/201612-citibike-tripdata.csv.\n",
      "Get datetime examples from ./../data/citibike/tripdata/src/201306-citibike-tripdata.csv.Get datetime examples from ./../data/citibike/tripdata/src/201903-citibike-tripdata.csv.\n",
      "\n",
      "Get datetime examples from ./../data/citibike/tripdata/src/201809-citibike-tripdata.csv.\n",
      "Get datetime examples from ./../data/citibike/tripdata/src/201312-citibike-tripdata.csv.\n",
      "Get datetime examples from ./../data/citibike/tripdata/src/201503-citibike-tripdata.csv.\n",
      "Get datetime examples from ./../data/citibike/tripdata/src/201604-citibike-tripdata.csv.\n",
      "Get datetime examples from ./../data/citibike/tripdata/src/201403-citibike-tripdata.csv.\n",
      "Get datetime examples from ./../data/citibike/tripdata/src/201708-citibike-tripdata.csv.\n",
      "Get datetime examples from ./../data/citibike/tripdata/src/201509-citibike-tripdata.csv.\n",
      "Get datetime examples from ./../data/citibike/tripdata/src/201610-citibike-tripdata.csv.\n",
      "Get datetime examples from ./../data/citibike/tripdata/src/201911-citibike-tripdata.csv.\n",
      "Get datetime examples from ./../data/citibike/tripdata/src/201501-citibike-tripdata.csv.\n",
      "Get datetime examples from ./../data/citibike/tripdata/src/201812-citibike-tripdata.csv.\n",
      "Get datetime examples from ./../data/citibike/tripdata/src/201402-citibike-tripdata.csv.\n",
      "Get datetime examples from ./../data/citibike/tripdata/src/201704-citibike-tripdata.csv.\n",
      "Get datetime examples from ./../data/citibike/tripdata/src/201710-citibike-tripdata.csv.\n",
      "Get datetime examples from ./../data/citibike/tripdata/src/201711-citibike-tripdata.csv.\n",
      "Get datetime examples from ./../data/citibike/tripdata/src/201807-citibike-tripdata.csv.\n",
      "Get datetime examples from ./../data/citibike/tripdata/src/201401-citibike-tripdata.csv.\n",
      "Get datetime examples from ./../data/citibike/tripdata/src/201611-citibike-tripdata.csv.\n",
      "Get datetime examples from ./../data/citibike/tripdata/src/201404-citibike-tripdata.csv.\n",
      "Get datetime examples from ./../data/citibike/tripdata/src/201701-citibike-tripdata.csv.\n",
      "Get datetime examples from ./../data/citibike/tripdata/src/201507-citibike-tripdata.csv.\n",
      "Get datetime examples from ./../data/citibike/tripdata/src/201406-citibike-tripdata.csv.\n",
      "Get datetime examples from ./../data/citibike/tripdata/src/201511-citibike-tripdata.csv.\n",
      "Get datetime examples from ./../data/citibike/tripdata/src/201908-citibike-tripdata.csv.\n",
      "*** Completed! ***\n"
     ]
    }
   ],
   "source": [
    "try:\n",
    "    # see https://www.machinelearningplus.com/python/parallel-processing-python/\n",
    "    pool = mp.Pool(mp.cpu_count())\n",
    "    df_datetime_examples_list = pool.map(func=get_datetime_examples, iterable=files_iterator)\n",
    "finally:\n",
    "    pool.close()\n",
    "    \n",
    "print(\"*** Completed! ***\")"
   ]
  },
  {
   "cell_type": "code",
   "execution_count": 13,
   "metadata": {},
   "outputs": [],
   "source": [
    "df_datetime_examples = pd.concat(df_datetime_examples_list).sort_index()"
   ]
  },
  {
   "cell_type": "markdown",
   "metadata": {},
   "source": [
    "Das DataFrame wird in eine Datei geschrieben, um die verschiedenen Formate zu untersuchen und eine entsprechend Funktion zur Ermittlung des Formats und der Konvertierung geschrieben."
   ]
  },
  {
   "cell_type": "code",
   "execution_count": 14,
   "metadata": {},
   "outputs": [],
   "source": [
    "df_datetime_examples.to_csv(os.path.join(path, 'datetime-examples-tripdata-citibike.csv'), index=True)"
   ]
  },
  {
   "cell_type": "markdown",
   "metadata": {},
   "source": [
    "### Ermittlung des Datumsformats und korrektes Parsen"
   ]
  },
  {
   "cell_type": "code",
   "execution_count": 15,
   "metadata": {},
   "outputs": [],
   "source": [
    "def parse_datetimes(file, df):\n",
    "    \"\"\"\n",
    "    Convert fields to datetime with selecting the correct format for conversion.\n",
    "    The timezone will be set to 'US/Eastern' directly after conversion.\n",
    "    \"\"\"\n",
    "    yearmonth = int(file[-28:-22])\n",
    "    datetime_format = ''\n",
    "    \n",
    "    if (yearmonth <= 201408 or \n",
    "        (yearmonth >= 201610 and yearmonth <= 201712)):\n",
    "        datetime_format = '%Y-%m-%d %H:%M:%S'\n",
    "    elif ((yearmonth >= 201409 and yearmonth <= 201412) or \n",
    "          (yearmonth >= 201504 and yearmonth <= 201505) or\n",
    "          (yearmonth >= 201507 and yearmonth <= 201609)):\n",
    "        datetime_format = '%m/%d/%Y %H:%M:%S'\n",
    "    elif ((yearmonth >= 201501 and yearmonth <= 201503) or\n",
    "         yearmonth == 201506):\n",
    "        datetime_format = '%m/%d/%Y %H:%M'\n",
    "    elif (yearmonth >= 201801):\n",
    "        datetime_format = '%Y-%m-%d %H:%M:%S.%f'\n",
    "    else:\n",
    "        raise ValueError('Unknown YearMonth %s, can not evaluate correct datetime format of file %s!' % (yearmonth, file))\n",
    "    \n",
    "    df['Start Time'] = pd.to_datetime(df['Start Time'], format=datetime_format)\n",
    "    df['Stop Time'] = pd.to_datetime(df['Stop Time'], format=datetime_format)\n",
    "    \n",
    "    # We need only seconds, microseconds can be removed\n",
    "    df['Start Time'] = df['Start Time'].dt.floor('s')\n",
    "    df['Stop Time'] = df['Stop Time'].dt.floor('s')\n",
    "    \n",
    "    return df"
   ]
  },
  {
   "cell_type": "markdown",
   "metadata": {},
   "source": [
    "### Zeitzone 'US/Eastern' mit Berücksichtigung Daylight Saving Time (DST)"
   ]
  },
  {
   "cell_type": "code",
   "execution_count": 16,
   "metadata": {},
   "outputs": [],
   "source": [
    "def dst_time(df):\n",
    "    \"\"\"\n",
    "    Evaluates entries in daylight saving times for New York in timezone 'US/Eastern'\n",
    "    \"\"\"\n",
    "        \n",
    "    return (\n",
    "        ((df >= '2010-03-14 02:00:00') & (df < '2010-11-07 02:00:00')) |\n",
    "        ((df >= '2011-03-13 02:00:00') & (df < '2011-11-06 02:00:00')) |\n",
    "        ((df >= '2012-03-11 02:00:00') & (df < '2012-11-04 02:00:00')) |\n",
    "        ((df >= '2013-03-10 02:00:00') & (df < '2013-11-03 02:00:00')) |\n",
    "        ((df >= '2014-03-09 02:00:00') & (df < '2014-11-02 02:00:00')) |\n",
    "        ((df >= '2015-03-08 02:00:00') & (df < '2015-11-01 02:00:00')) |\n",
    "        ((df >= '2016-03-13 02:00:00') & (df < '2016-11-06 02:00:00')) |\n",
    "        ((df >= '2017-03-12 02:00:00') & (df < '2017-11-05 02:00:00')) |\n",
    "        ((df >= '2018-03-11 02:00:00') & (df < '2018-11-04 02:00:00')) |\n",
    "        ((df >= '2019-03-10 02:00:00') & (df < '2019-11-03 02:00:00')) |\n",
    "        ((df >= '2020-03-08 02:00:00') & (df < '2020-11-01 02:00:00'))\n",
    "    )"
   ]
  },
  {
   "cell_type": "code",
   "execution_count": 17,
   "metadata": {},
   "outputs": [],
   "source": [
    "def update_tzinfo(df):\n",
    "    \"\"\"\n",
    "    Updates the given DataFrame to 'US/Eastern' timezone with respecting DST.\n",
    "    \"\"\"\n",
    "        \n",
    "    dst_start = dst_time(df['Start Time'])\n",
    "    df['Start Time'] = df['Start Time'].dt.tz_localize('US/Eastern', ambiguous=dst_start, nonexistent='NaT')\n",
    "    \n",
    "    dst_stop = dst_time(df['Stop Time'])\n",
    "    df['Stop Time'] = df['Stop Time'].dt.tz_localize('US/Eastern', ambiguous=dst_stop, nonexistent='NaT')\n",
    "\n",
    "    return df"
   ]
  },
  {
   "cell_type": "markdown",
   "metadata": {},
   "source": [
    "<a id='hilfsmethoden_cleanup_missing_id'></a>\n",
    "## Bereinigung fehlender Daten"
   ]
  },
  {
   "cell_type": "markdown",
   "metadata": {},
   "source": [
    "Wegen viel fehlender Informationen in den Daten vom Monat Juni 2013, soll diese Datei nicht verarbeitet werden. Dazu den folgenden Dateifilter benutzen:"
   ]
  },
  {
   "cell_type": "code",
   "execution_count": 18,
   "metadata": {},
   "outputs": [],
   "source": [
    "def no_missing_data_file_filter(filename):\n",
    "    \"\"\"\n",
    "    Special file filter. Exclude files because of too much missing data.\n",
    "    \"\"\"\n",
    "    return filename.endswith('citibike-tripdata.csv') & (filename.startswith('201306') == False)"
   ]
  },
  {
   "cell_type": "markdown",
   "metadata": {},
   "source": [
    "Bereinigung fehlender Informationen im DataFrame. Dazu die folgende Funktion benutzen und diese direkt nach dem Einlesen einer Datei aufrufen:"
   ]
  },
  {
   "cell_type": "code",
   "execution_count": 19,
   "metadata": {},
   "outputs": [],
   "source": [
    "def fix_missing_data(df):\n",
    "    \"\"\"\n",
    "    Fix missing data in a given DataFrame.\n",
    "    \"\"\"\n",
    "    \n",
    "    # Set all NA in User Type to Customer\n",
    "    df['User Type'] = df['User Type'].fillna(value='Customer')\n",
    "    # Remove all rows with missing Station ID\n",
    "    df = df.dropna(subset=['Start Station ID', 'End Station ID'])\n",
    "    \n",
    "    return df"
   ]
  },
  {
   "cell_type": "markdown",
   "metadata": {},
   "source": [
    "Die folgende Funktion gibt eine kurze Statistik über die fehlenden Werte aus. Es wird die gesamte Anzahl fehlender Werte pro Spalte berechnet sowie der Prozentanteil gemessen an der Anzahl aller vorhandenen Einträgen."
   ]
  },
  {
   "cell_type": "code",
   "execution_count": 20,
   "metadata": {},
   "outputs": [],
   "source": [
    "def missing_values(df):\n",
    "    \"\"\"\n",
    "    Create a DataFrame with statistics about the missing Data in the given DataFrame.\n",
    "    \"\"\"\n",
    "    \n",
    "    values = {\n",
    "        'Count': df.isna().sum().values,\n",
    "        'Percent': df.isna().sum().values / len(df) * 100,\n",
    "    }\n",
    "    return pd.DataFrame(data=values, index=df.columns.values)"
   ]
  },
  {
   "cell_type": "markdown",
   "metadata": {},
   "source": [
    "## Bereinigung unrealistischer Daten für die tägliche Zusammenfassung"
   ]
  },
  {
   "cell_type": "markdown",
   "metadata": {},
   "source": [
    "Für die tägliche Zusammenfassung sollten extreme Ausreisser sowie unrealistische Daten entfernt werden. Ansonsten könnte z.B. der Durchschnitt stark verfälscht werden. Die folgende Methode kann dafür benutzt werden um einen Datensatz vor der Aggregation zu bereinigen."
   ]
  },
  {
   "cell_type": "code",
   "execution_count": 21,
   "metadata": {},
   "outputs": [],
   "source": [
    "def clean_up_for_summary(df):  \n",
    "    # remove unrealistic trips, would misleading the daily summaries\n",
    "    df = (\n",
    "        df[(df['Trip Duration'] <= 1*60*60*6) # only trips under 6h\n",
    "           & (df['Linear Distance'] <= 30) # only trips with linear distance smaller than 30km between stations\n",
    "           & (df['Age 2020'] <= 81) # only ages under 81 years (found out in question 'Who is the oldest user?')\n",
    "          ]\n",
    "    )\n",
    "    \n",
    "    return df"
   ]
  },
  {
   "cell_type": "markdown",
   "metadata": {},
   "source": [
    "## Haversine zur Berechnung der Distanz zwischen zwei Punkten in km"
   ]
  },
  {
   "cell_type": "markdown",
   "metadata": {},
   "source": [
    "Berechnet die Distanz in Kilometer zwischen zwei Punkten."
   ]
  },
  {
   "cell_type": "code",
   "execution_count": 22,
   "metadata": {},
   "outputs": [],
   "source": [
    "from math import radians, cos, sin, asin, sqrt\n",
    "\n",
    "def haversine(lon1, lat1, lon2, lat2):\n",
    "    \"\"\"    \n",
    "    Calculate the great circle distance between two points \n",
    "    on the earth (specified in decimal degrees)\n",
    "    \"\"\"\n",
    "    \n",
    "    # convert decimal degrees to radians\n",
    "    lon1, lat1, lon2, lat2 = map(np.radians, [lon1, lat1, lon2, lat2])\n",
    "\n",
    "    # haversine formula \n",
    "    dlon = lon2 - lon1 \n",
    "    dlat = lat2 - lat1 \n",
    "    a = np.sin(dlat/2.0)**2 + np.cos(lat1) * np.cos(lat2) * np.sin(dlon/2.0)**2\n",
    "    c = 2 * np.arctan2(np.sqrt(a), np.sqrt(1-a)) \n",
    "    r = 6371 # Radius of earth in kilometers. Use 3956 for miles\n",
    "    return c * r"
   ]
  },
  {
   "cell_type": "markdown",
   "metadata": {},
   "source": [
    "## Zusätzliche Merkmale"
   ]
  },
  {
   "cell_type": "code",
   "execution_count": 23,
   "metadata": {},
   "outputs": [],
   "source": [
    "def add_linear_distance(df):\n",
    "    \"\"\"\n",
    "    Add the linear distance column to the given DataFrame.\n",
    "    \"\"\"\n",
    "    \n",
    "    df['Linear Distance'] = haversine(\n",
    "        df['Start Station Longitude'], df['Start Station Latitude'],\n",
    "        df['End Station Longitude'], df['End Station Latitude']\n",
    "    )\n",
    "    return df"
   ]
  },
  {
   "cell_type": "code",
   "execution_count": 24,
   "metadata": {},
   "outputs": [],
   "source": [
    "def add_age_2020(df):\n",
    "    \"\"\"\n",
    "    Add the calculated age 2020 column to the given DataFrame.\n",
    "    \"\"\"\n",
    "    \n",
    "    df['Age 2020'] = 2020 - df['Birth Year']\n",
    "    \n",
    "    return df"
   ]
  },
  {
   "cell_type": "markdown",
   "metadata": {
    "pycharm": {
     "name": "#%% md\n"
    }
   },
   "source": [
    "# Datenaufbereitung, kompletter Oktober 2019"
   ]
  },
  {
   "cell_type": "code",
   "execution_count": 25,
   "metadata": {},
   "outputs": [],
   "source": [
    "actual_filename = os.path.join(path, 'src', '201910-citibike-tripdata.csv')"
   ]
  },
  {
   "cell_type": "code",
   "execution_count": 26,
   "metadata": {
    "pycharm": {
     "name": "#%%\n"
    }
   },
   "outputs": [],
   "source": [
    "tripdata = read(actual_filename)"
   ]
  },
  {
   "cell_type": "code",
   "execution_count": 27,
   "metadata": {},
   "outputs": [],
   "source": [
    "tripdata = parse_datetimes(actual_filename, tripdata)"
   ]
  },
  {
   "cell_type": "code",
   "execution_count": 28,
   "metadata": {},
   "outputs": [],
   "source": [
    "tripdata = update_tzinfo(tripdata)"
   ]
  },
  {
   "cell_type": "code",
   "execution_count": 29,
   "metadata": {},
   "outputs": [],
   "source": [
    "tripdata = add_linear_distance(tripdata)"
   ]
  },
  {
   "cell_type": "code",
   "execution_count": 30,
   "metadata": {},
   "outputs": [],
   "source": [
    "tripdata = add_age_2020(tripdata)"
   ]
  },
  {
   "cell_type": "code",
   "execution_count": 31,
   "metadata": {},
   "outputs": [
    {
     "name": "stdout",
     "output_type": "stream",
     "text": [
      "<class 'pandas.core.frame.DataFrame'>\n",
      "RangeIndex: 2092573 entries, 0 to 2092572\n",
      "Data columns (total 17 columns):\n",
      " #   Column                   Dtype                     \n",
      "---  ------                   -----                     \n",
      " 0   Trip Duration            Int64                     \n",
      " 1   Start Time               datetime64[ns, US/Eastern]\n",
      " 2   Stop Time                datetime64[ns, US/Eastern]\n",
      " 3   Start Station ID         Int64                     \n",
      " 4   Start Station Name       object                    \n",
      " 5   Start Station Latitude   float64                   \n",
      " 6   Start Station Longitude  float64                   \n",
      " 7   End Station ID           Int64                     \n",
      " 8   End Station Name         object                    \n",
      " 9   End Station Latitude     float64                   \n",
      " 10  End Station Longitude    float64                   \n",
      " 11  Bike ID                  Int64                     \n",
      " 12  User Type                category                  \n",
      " 13  Birth Year               Int64                     \n",
      " 14  Gender                   category                  \n",
      " 15  Linear Distance          float64                   \n",
      " 16  Age 2020                 Int64                     \n",
      "dtypes: Int64(6), category(2), datetime64[ns, US/Eastern](2), float64(5), object(2)\n",
      "memory usage: 255.4+ MB\n"
     ]
    }
   ],
   "source": [
    "tripdata.info()"
   ]
  },
  {
   "cell_type": "code",
   "execution_count": 32,
   "metadata": {},
   "outputs": [
    {
     "data": {
      "text/html": [
       "<div>\n",
       "<style scoped>\n",
       "    .dataframe tbody tr th:only-of-type {\n",
       "        vertical-align: middle;\n",
       "    }\n",
       "\n",
       "    .dataframe tbody tr th {\n",
       "        vertical-align: top;\n",
       "    }\n",
       "\n",
       "    .dataframe thead th {\n",
       "        text-align: right;\n",
       "    }\n",
       "</style>\n",
       "<table border=\"1\" class=\"dataframe\">\n",
       "  <thead>\n",
       "    <tr style=\"text-align: right;\">\n",
       "      <th></th>\n",
       "      <th>Trip Duration</th>\n",
       "      <th>Start Time</th>\n",
       "      <th>Stop Time</th>\n",
       "      <th>Start Station ID</th>\n",
       "      <th>Start Station Name</th>\n",
       "      <th>Start Station Latitude</th>\n",
       "      <th>Start Station Longitude</th>\n",
       "      <th>End Station ID</th>\n",
       "      <th>End Station Name</th>\n",
       "      <th>End Station Latitude</th>\n",
       "      <th>End Station Longitude</th>\n",
       "      <th>Bike ID</th>\n",
       "      <th>User Type</th>\n",
       "      <th>Birth Year</th>\n",
       "      <th>Gender</th>\n",
       "      <th>Linear Distance</th>\n",
       "      <th>Age 2020</th>\n",
       "    </tr>\n",
       "  </thead>\n",
       "  <tbody>\n",
       "    <tr>\n",
       "      <th>0</th>\n",
       "      <td>527</td>\n",
       "      <td>2019-10-01 00:00:05-04:00</td>\n",
       "      <td>2019-10-01 00:08:52-04:00</td>\n",
       "      <td>3746</td>\n",
       "      <td>6 Ave &amp; Broome St</td>\n",
       "      <td>40.72431</td>\n",
       "      <td>-74.00473</td>\n",
       "      <td>223</td>\n",
       "      <td>W 13 St &amp; 7 Ave</td>\n",
       "      <td>40.73782</td>\n",
       "      <td>-73.99995</td>\n",
       "      <td>41750</td>\n",
       "      <td>Subscriber</td>\n",
       "      <td>1993</td>\n",
       "      <td>1</td>\n",
       "      <td>1.55503</td>\n",
       "      <td>27</td>\n",
       "    </tr>\n",
       "    <tr>\n",
       "      <th>1</th>\n",
       "      <td>174</td>\n",
       "      <td>2019-10-01 00:00:15-04:00</td>\n",
       "      <td>2019-10-01 00:03:10-04:00</td>\n",
       "      <td>3301</td>\n",
       "      <td>Columbus Ave &amp; W 95 St</td>\n",
       "      <td>40.79196</td>\n",
       "      <td>-73.96809</td>\n",
       "      <td>3283</td>\n",
       "      <td>W 89 St &amp; Columbus Ave</td>\n",
       "      <td>40.78822</td>\n",
       "      <td>-73.97042</td>\n",
       "      <td>18264</td>\n",
       "      <td>Subscriber</td>\n",
       "      <td>1992</td>\n",
       "      <td>1</td>\n",
       "      <td>0.45920</td>\n",
       "      <td>28</td>\n",
       "    </tr>\n",
       "    <tr>\n",
       "      <th>2</th>\n",
       "      <td>759</td>\n",
       "      <td>2019-10-01 00:00:19-04:00</td>\n",
       "      <td>2019-10-01 00:12:59-04:00</td>\n",
       "      <td>161</td>\n",
       "      <td>LaGuardia Pl &amp; W 3 St</td>\n",
       "      <td>40.72917</td>\n",
       "      <td>-73.99810</td>\n",
       "      <td>174</td>\n",
       "      <td>E 25 St &amp; 1 Ave</td>\n",
       "      <td>40.73818</td>\n",
       "      <td>-73.97739</td>\n",
       "      <td>25525</td>\n",
       "      <td>Subscriber</td>\n",
       "      <td>1995</td>\n",
       "      <td>1</td>\n",
       "      <td>2.01235</td>\n",
       "      <td>25</td>\n",
       "    </tr>\n",
       "    <tr>\n",
       "      <th>3</th>\n",
       "      <td>615</td>\n",
       "      <td>2019-10-01 00:00:21-04:00</td>\n",
       "      <td>2019-10-01 00:10:36-04:00</td>\n",
       "      <td>254</td>\n",
       "      <td>W 11 St &amp; 6 Ave</td>\n",
       "      <td>40.73532</td>\n",
       "      <td>-73.99800</td>\n",
       "      <td>477</td>\n",
       "      <td>W 41 St &amp; 8 Ave</td>\n",
       "      <td>40.75641</td>\n",
       "      <td>-73.99003</td>\n",
       "      <td>30186</td>\n",
       "      <td>Subscriber</td>\n",
       "      <td>1992</td>\n",
       "      <td>1</td>\n",
       "      <td>2.43857</td>\n",
       "      <td>28</td>\n",
       "    </tr>\n",
       "    <tr>\n",
       "      <th>4</th>\n",
       "      <td>761</td>\n",
       "      <td>2019-10-01 00:00:26-04:00</td>\n",
       "      <td>2019-10-01 00:13:08-04:00</td>\n",
       "      <td>161</td>\n",
       "      <td>LaGuardia Pl &amp; W 3 St</td>\n",
       "      <td>40.72917</td>\n",
       "      <td>-73.99810</td>\n",
       "      <td>174</td>\n",
       "      <td>E 25 St &amp; 1 Ave</td>\n",
       "      <td>40.73818</td>\n",
       "      <td>-73.97739</td>\n",
       "      <td>25597</td>\n",
       "      <td>Subscriber</td>\n",
       "      <td>1992</td>\n",
       "      <td>1</td>\n",
       "      <td>2.01235</td>\n",
       "      <td>28</td>\n",
       "    </tr>\n",
       "  </tbody>\n",
       "</table>\n",
       "</div>"
      ],
      "text/plain": [
       "   Trip Duration                Start Time                 Stop Time  \\\n",
       "0            527 2019-10-01 00:00:05-04:00 2019-10-01 00:08:52-04:00   \n",
       "1            174 2019-10-01 00:00:15-04:00 2019-10-01 00:03:10-04:00   \n",
       "2            759 2019-10-01 00:00:19-04:00 2019-10-01 00:12:59-04:00   \n",
       "3            615 2019-10-01 00:00:21-04:00 2019-10-01 00:10:36-04:00   \n",
       "4            761 2019-10-01 00:00:26-04:00 2019-10-01 00:13:08-04:00   \n",
       "\n",
       "   Start Station ID      Start Station Name  Start Station Latitude  \\\n",
       "0              3746       6 Ave & Broome St                40.72431   \n",
       "1              3301  Columbus Ave & W 95 St                40.79196   \n",
       "2               161   LaGuardia Pl & W 3 St                40.72917   \n",
       "3               254         W 11 St & 6 Ave                40.73532   \n",
       "4               161   LaGuardia Pl & W 3 St                40.72917   \n",
       "\n",
       "   Start Station Longitude  End Station ID        End Station Name  \\\n",
       "0                -74.00473             223         W 13 St & 7 Ave   \n",
       "1                -73.96809            3283  W 89 St & Columbus Ave   \n",
       "2                -73.99810             174         E 25 St & 1 Ave   \n",
       "3                -73.99800             477         W 41 St & 8 Ave   \n",
       "4                -73.99810             174         E 25 St & 1 Ave   \n",
       "\n",
       "   End Station Latitude  End Station Longitude  Bike ID   User Type  \\\n",
       "0              40.73782              -73.99995    41750  Subscriber   \n",
       "1              40.78822              -73.97042    18264  Subscriber   \n",
       "2              40.73818              -73.97739    25525  Subscriber   \n",
       "3              40.75641              -73.99003    30186  Subscriber   \n",
       "4              40.73818              -73.97739    25597  Subscriber   \n",
       "\n",
       "   Birth Year Gender  Linear Distance  Age 2020  \n",
       "0        1993      1          1.55503        27  \n",
       "1        1992      1          0.45920        28  \n",
       "2        1995      1          2.01235        25  \n",
       "3        1992      1          2.43857        28  \n",
       "4        1992      1          2.01235        28  "
      ]
     },
     "execution_count": 32,
     "metadata": {},
     "output_type": "execute_result"
    }
   ],
   "source": [
    "tripdata.head()"
   ]
  },
  {
   "cell_type": "code",
   "execution_count": 33,
   "metadata": {
    "pycharm": {
     "name": "#%%\n"
    }
   },
   "outputs": [
    {
     "data": {
      "text/html": [
       "<div>\n",
       "<style scoped>\n",
       "    .dataframe tbody tr th:only-of-type {\n",
       "        vertical-align: middle;\n",
       "    }\n",
       "\n",
       "    .dataframe tbody tr th {\n",
       "        vertical-align: top;\n",
       "    }\n",
       "\n",
       "    .dataframe thead th {\n",
       "        text-align: right;\n",
       "    }\n",
       "</style>\n",
       "<table border=\"1\" class=\"dataframe\">\n",
       "  <thead>\n",
       "    <tr style=\"text-align: right;\">\n",
       "      <th></th>\n",
       "      <th>Trip Duration</th>\n",
       "      <th>Start Time</th>\n",
       "      <th>Stop Time</th>\n",
       "      <th>Start Station ID</th>\n",
       "      <th>Start Station Name</th>\n",
       "      <th>Start Station Latitude</th>\n",
       "      <th>Start Station Longitude</th>\n",
       "      <th>End Station ID</th>\n",
       "      <th>End Station Name</th>\n",
       "      <th>End Station Latitude</th>\n",
       "      <th>End Station Longitude</th>\n",
       "      <th>Bike ID</th>\n",
       "      <th>User Type</th>\n",
       "      <th>Birth Year</th>\n",
       "      <th>Gender</th>\n",
       "      <th>Linear Distance</th>\n",
       "      <th>Age 2020</th>\n",
       "    </tr>\n",
       "  </thead>\n",
       "  <tbody>\n",
       "    <tr>\n",
       "      <th>2092568</th>\n",
       "      <td>729</td>\n",
       "      <td>2019-10-31 23:59:12-04:00</td>\n",
       "      <td>2019-11-01 00:11:21-04:00</td>\n",
       "      <td>237</td>\n",
       "      <td>E 11 St &amp; 2 Ave</td>\n",
       "      <td>40.73047</td>\n",
       "      <td>-73.98672</td>\n",
       "      <td>311</td>\n",
       "      <td>Norfolk St &amp; Broome St</td>\n",
       "      <td>40.71723</td>\n",
       "      <td>-73.98802</td>\n",
       "      <td>25725</td>\n",
       "      <td>Subscriber</td>\n",
       "      <td>1995</td>\n",
       "      <td>1</td>\n",
       "      <td>1.47690</td>\n",
       "      <td>25</td>\n",
       "    </tr>\n",
       "    <tr>\n",
       "      <th>2092569</th>\n",
       "      <td>645</td>\n",
       "      <td>2019-10-31 23:59:17-04:00</td>\n",
       "      <td>2019-11-01 00:10:02-04:00</td>\n",
       "      <td>3259</td>\n",
       "      <td>9 Ave &amp; W 28 St</td>\n",
       "      <td>40.74937</td>\n",
       "      <td>-73.99923</td>\n",
       "      <td>461</td>\n",
       "      <td>E 20 St &amp; 2 Ave</td>\n",
       "      <td>40.73588</td>\n",
       "      <td>-73.98205</td>\n",
       "      <td>39583</td>\n",
       "      <td>Customer</td>\n",
       "      <td>1969</td>\n",
       "      <td>0</td>\n",
       "      <td>2.08493</td>\n",
       "      <td>51</td>\n",
       "    </tr>\n",
       "    <tr>\n",
       "      <th>2092570</th>\n",
       "      <td>257</td>\n",
       "      <td>2019-10-31 23:59:22-04:00</td>\n",
       "      <td>2019-11-01 00:03:40-04:00</td>\n",
       "      <td>3798</td>\n",
       "      <td>W 40 St &amp; 5 Ave</td>\n",
       "      <td>40.75227</td>\n",
       "      <td>-73.98208</td>\n",
       "      <td>505</td>\n",
       "      <td>6 Ave &amp; W 33 St</td>\n",
       "      <td>40.74901</td>\n",
       "      <td>-73.98848</td>\n",
       "      <td>21240</td>\n",
       "      <td>Subscriber</td>\n",
       "      <td>1985</td>\n",
       "      <td>1</td>\n",
       "      <td>0.64977</td>\n",
       "      <td>35</td>\n",
       "    </tr>\n",
       "    <tr>\n",
       "      <th>2092571</th>\n",
       "      <td>466</td>\n",
       "      <td>2019-10-31 23:59:23-04:00</td>\n",
       "      <td>2019-11-01 00:07:09-04:00</td>\n",
       "      <td>328</td>\n",
       "      <td>Watts St &amp; Greenwich St</td>\n",
       "      <td>40.72406</td>\n",
       "      <td>-74.00966</td>\n",
       "      <td>361</td>\n",
       "      <td>Allen St &amp; Hester St</td>\n",
       "      <td>40.71606</td>\n",
       "      <td>-73.99191</td>\n",
       "      <td>34916</td>\n",
       "      <td>Subscriber</td>\n",
       "      <td>1989</td>\n",
       "      <td>0</td>\n",
       "      <td>1.74037</td>\n",
       "      <td>31</td>\n",
       "    </tr>\n",
       "    <tr>\n",
       "      <th>2092572</th>\n",
       "      <td>81</td>\n",
       "      <td>2019-10-31 23:59:51-04:00</td>\n",
       "      <td>2019-11-01 00:01:13-04:00</td>\n",
       "      <td>539</td>\n",
       "      <td>Metropolitan Ave &amp; Bedford Ave</td>\n",
       "      <td>40.71535</td>\n",
       "      <td>-73.96024</td>\n",
       "      <td>3093</td>\n",
       "      <td>N 6 St &amp; Bedford Ave</td>\n",
       "      <td>40.71745</td>\n",
       "      <td>-73.95851</td>\n",
       "      <td>25745</td>\n",
       "      <td>Subscriber</td>\n",
       "      <td>1990</td>\n",
       "      <td>1</td>\n",
       "      <td>0.27570</td>\n",
       "      <td>30</td>\n",
       "    </tr>\n",
       "  </tbody>\n",
       "</table>\n",
       "</div>"
      ],
      "text/plain": [
       "         Trip Duration                Start Time                 Stop Time  \\\n",
       "2092568            729 2019-10-31 23:59:12-04:00 2019-11-01 00:11:21-04:00   \n",
       "2092569            645 2019-10-31 23:59:17-04:00 2019-11-01 00:10:02-04:00   \n",
       "2092570            257 2019-10-31 23:59:22-04:00 2019-11-01 00:03:40-04:00   \n",
       "2092571            466 2019-10-31 23:59:23-04:00 2019-11-01 00:07:09-04:00   \n",
       "2092572             81 2019-10-31 23:59:51-04:00 2019-11-01 00:01:13-04:00   \n",
       "\n",
       "         Start Station ID              Start Station Name  \\\n",
       "2092568               237                 E 11 St & 2 Ave   \n",
       "2092569              3259                 9 Ave & W 28 St   \n",
       "2092570              3798                 W 40 St & 5 Ave   \n",
       "2092571               328         Watts St & Greenwich St   \n",
       "2092572               539  Metropolitan Ave & Bedford Ave   \n",
       "\n",
       "         Start Station Latitude  Start Station Longitude  End Station ID  \\\n",
       "2092568                40.73047                -73.98672             311   \n",
       "2092569                40.74937                -73.99923             461   \n",
       "2092570                40.75227                -73.98208             505   \n",
       "2092571                40.72406                -74.00966             361   \n",
       "2092572                40.71535                -73.96024            3093   \n",
       "\n",
       "               End Station Name  End Station Latitude  End Station Longitude  \\\n",
       "2092568  Norfolk St & Broome St              40.71723              -73.98802   \n",
       "2092569         E 20 St & 2 Ave              40.73588              -73.98205   \n",
       "2092570         6 Ave & W 33 St              40.74901              -73.98848   \n",
       "2092571    Allen St & Hester St              40.71606              -73.99191   \n",
       "2092572    N 6 St & Bedford Ave              40.71745              -73.95851   \n",
       "\n",
       "         Bike ID   User Type  Birth Year Gender  Linear Distance  Age 2020  \n",
       "2092568    25725  Subscriber        1995      1          1.47690        25  \n",
       "2092569    39583    Customer        1969      0          2.08493        51  \n",
       "2092570    21240  Subscriber        1985      1          0.64977        35  \n",
       "2092571    34916  Subscriber        1989      0          1.74037        31  \n",
       "2092572    25745  Subscriber        1990      1          0.27570        30  "
      ]
     },
     "execution_count": 33,
     "metadata": {},
     "output_type": "execute_result"
    }
   ],
   "source": [
    "tripdata.tail()"
   ]
  },
  {
   "cell_type": "code",
   "execution_count": 34,
   "metadata": {},
   "outputs": [
    {
     "data": {
      "text/plain": [
       "(2092573, 17)"
      ]
     },
     "execution_count": 34,
     "metadata": {},
     "output_type": "execute_result"
    }
   ],
   "source": [
    "tripdata.shape"
   ]
  },
  {
   "cell_type": "code",
   "execution_count": 35,
   "metadata": {},
   "outputs": [
    {
     "data": {
      "text/html": [
       "<div>\n",
       "<style scoped>\n",
       "    .dataframe tbody tr th:only-of-type {\n",
       "        vertical-align: middle;\n",
       "    }\n",
       "\n",
       "    .dataframe tbody tr th {\n",
       "        vertical-align: top;\n",
       "    }\n",
       "\n",
       "    .dataframe thead th {\n",
       "        text-align: right;\n",
       "    }\n",
       "</style>\n",
       "<table border=\"1\" class=\"dataframe\">\n",
       "  <thead>\n",
       "    <tr style=\"text-align: right;\">\n",
       "      <th></th>\n",
       "      <th>Count</th>\n",
       "      <th>Percent</th>\n",
       "    </tr>\n",
       "  </thead>\n",
       "  <tbody>\n",
       "    <tr>\n",
       "      <th>Trip Duration</th>\n",
       "      <td>0</td>\n",
       "      <td>0.00000</td>\n",
       "    </tr>\n",
       "    <tr>\n",
       "      <th>Start Time</th>\n",
       "      <td>0</td>\n",
       "      <td>0.00000</td>\n",
       "    </tr>\n",
       "    <tr>\n",
       "      <th>Stop Time</th>\n",
       "      <td>0</td>\n",
       "      <td>0.00000</td>\n",
       "    </tr>\n",
       "    <tr>\n",
       "      <th>Start Station ID</th>\n",
       "      <td>0</td>\n",
       "      <td>0.00000</td>\n",
       "    </tr>\n",
       "    <tr>\n",
       "      <th>Start Station Name</th>\n",
       "      <td>0</td>\n",
       "      <td>0.00000</td>\n",
       "    </tr>\n",
       "    <tr>\n",
       "      <th>Start Station Latitude</th>\n",
       "      <td>0</td>\n",
       "      <td>0.00000</td>\n",
       "    </tr>\n",
       "    <tr>\n",
       "      <th>Start Station Longitude</th>\n",
       "      <td>0</td>\n",
       "      <td>0.00000</td>\n",
       "    </tr>\n",
       "    <tr>\n",
       "      <th>End Station ID</th>\n",
       "      <td>0</td>\n",
       "      <td>0.00000</td>\n",
       "    </tr>\n",
       "    <tr>\n",
       "      <th>End Station Name</th>\n",
       "      <td>0</td>\n",
       "      <td>0.00000</td>\n",
       "    </tr>\n",
       "    <tr>\n",
       "      <th>End Station Latitude</th>\n",
       "      <td>0</td>\n",
       "      <td>0.00000</td>\n",
       "    </tr>\n",
       "    <tr>\n",
       "      <th>End Station Longitude</th>\n",
       "      <td>0</td>\n",
       "      <td>0.00000</td>\n",
       "    </tr>\n",
       "    <tr>\n",
       "      <th>Bike ID</th>\n",
       "      <td>0</td>\n",
       "      <td>0.00000</td>\n",
       "    </tr>\n",
       "    <tr>\n",
       "      <th>User Type</th>\n",
       "      <td>0</td>\n",
       "      <td>0.00000</td>\n",
       "    </tr>\n",
       "    <tr>\n",
       "      <th>Birth Year</th>\n",
       "      <td>0</td>\n",
       "      <td>0.00000</td>\n",
       "    </tr>\n",
       "    <tr>\n",
       "      <th>Gender</th>\n",
       "      <td>0</td>\n",
       "      <td>0.00000</td>\n",
       "    </tr>\n",
       "    <tr>\n",
       "      <th>Linear Distance</th>\n",
       "      <td>0</td>\n",
       "      <td>0.00000</td>\n",
       "    </tr>\n",
       "    <tr>\n",
       "      <th>Age 2020</th>\n",
       "      <td>0</td>\n",
       "      <td>0.00000</td>\n",
       "    </tr>\n",
       "  </tbody>\n",
       "</table>\n",
       "</div>"
      ],
      "text/plain": [
       "                         Count  Percent\n",
       "Trip Duration                0  0.00000\n",
       "Start Time                   0  0.00000\n",
       "Stop Time                    0  0.00000\n",
       "Start Station ID             0  0.00000\n",
       "Start Station Name           0  0.00000\n",
       "Start Station Latitude       0  0.00000\n",
       "Start Station Longitude      0  0.00000\n",
       "End Station ID               0  0.00000\n",
       "End Station Name             0  0.00000\n",
       "End Station Latitude         0  0.00000\n",
       "End Station Longitude        0  0.00000\n",
       "Bike ID                      0  0.00000\n",
       "User Type                    0  0.00000\n",
       "Birth Year                   0  0.00000\n",
       "Gender                       0  0.00000\n",
       "Linear Distance              0  0.00000\n",
       "Age 2020                     0  0.00000"
      ]
     },
     "execution_count": 35,
     "metadata": {},
     "output_type": "execute_result"
    }
   ],
   "source": [
    "missing_values(tripdata)"
   ]
  },
  {
   "cell_type": "markdown",
   "metadata": {},
   "source": [
    "## Export der Daten"
   ]
  },
  {
   "cell_type": "code",
   "execution_count": 36,
   "metadata": {},
   "outputs": [],
   "source": [
    "tripdata.to_parquet(os.path.join(path, '201910-citibike-tripdata.parquet'), index=None)"
   ]
  },
  {
   "cell_type": "code",
   "execution_count": 37,
   "metadata": {},
   "outputs": [],
   "source": [
    "tripdata.to_csv(os.path.join(path, '201910-citibike-tripdata.csv'), index=None)"
   ]
  },
  {
   "cell_type": "markdown",
   "metadata": {},
   "source": [
    "# Untersuchung fehlender Daten über alle Jahre"
   ]
  },
  {
   "cell_type": "code",
   "execution_count": 38,
   "metadata": {},
   "outputs": [],
   "source": [
    "files_iterator = get_files_iterator(os.path.join(path, 'src'), lambda filename: filename.endswith('citibike-tripdata.csv'))"
   ]
  },
  {
   "cell_type": "code",
   "execution_count": 39,
   "metadata": {},
   "outputs": [],
   "source": [
    "def get_missing_values_stats(file):\n",
    "    try:\n",
    "        print('Get missing value stats from {}.'.format(file))\n",
    "        df = read(file)\n",
    "        \n",
    "        return (file, missing_values(df))\n",
    "    \n",
    "    except Exception as e:\n",
    "        print('ERROR: Exception when getting missing value stats file {}: {}'.format(file, e))"
   ]
  },
  {
   "cell_type": "code",
   "execution_count": 40,
   "metadata": {},
   "outputs": [
    {
     "name": "stdout",
     "output_type": "stream",
     "text": [
      "Get missing value stats from ./../data/citibike/tripdata/src/201706-citibike-tripdata.csv.Get missing value stats from ./../data/citibike/tripdata/src/201905-citibike-tripdata.csv.Get missing value stats from ./../data/citibike/tripdata/src/201311-citibike-tripdata.csv.Get missing value stats from ./../data/citibike/tripdata/src/201510-citibike-tripdata.csv.Get missing value stats from ./../data/citibike/tripdata/src/201912-citibike-tripdata.csv.Get missing value stats from ./../data/citibike/tripdata/src/201810-citibike-tripdata.csv.Get missing value stats from ./../data/citibike/tripdata/src/201412-citibike-tripdata.csv.Get missing value stats from ./../data/citibike/tripdata/src/201902-citibike-tripdata.csv.Get missing value stats from ./../data/citibike/tripdata/src/201605-citibike-tripdata.csv.Get missing value stats from ./../data/citibike/tripdata/src/201606-citibike-tripdata.csv.Get missing value stats from ./../data/citibike/tripdata/src/202004-citibike-tripdata.csv.Get missing value stats from ./../data/citibike/tripdata/src/201405-citibike-tripdata.csv.Get missing value stats from ./../data/citibike/tripdata/src/201309-citibike-tripdata.csv.Get missing value stats from ./../data/citibike/tripdata/src/201909-citibike-tripdata.csv.Get missing value stats from ./../data/citibike/tripdata/src/201307-citibike-tripdata.csv.Get missing value stats from ./../data/citibike/tripdata/src/201407-citibike-tripdata.csv.Get missing value stats from ./../data/citibike/tripdata/src/201811-citibike-tripdata.csv.Get missing value stats from ./../data/citibike/tripdata/src/201508-citibike-tripdata.csv.\n",
      "\n",
      "\n",
      "Get missing value stats from ./../data/citibike/tripdata/src/201609-citibike-tripdata.csv.Get missing value stats from ./../data/citibike/tripdata/src/201808-citibike-tripdata.csv.Get missing value stats from ./../data/citibike/tripdata/src/201910-citibike-tripdata.csv.\n",
      "Get missing value stats from ./../data/citibike/tripdata/src/201601-citibike-tripdata.csv.Get missing value stats from ./../data/citibike/tripdata/src/201906-citibike-tripdata.csv.Get missing value stats from ./../data/citibike/tripdata/src/201504-citibike-tripdata.csv.\n",
      "Get missing value stats from ./../data/citibike/tripdata/src/202002-citibike-tripdata.csv.Get missing value stats from ./../data/citibike/tripdata/src/201712-citibike-tripdata.csv.\n",
      "Get missing value stats from ./../data/citibike/tripdata/src/201907-citibike-tripdata.csv.Get missing value stats from ./../data/citibike/tripdata/src/201512-citibike-tripdata.csv.\n",
      "\n",
      "Get missing value stats from ./../data/citibike/tripdata/src/201703-citibike-tripdata.csv.Get missing value stats from ./../data/citibike/tripdata/src/201806-citibike-tripdata.csv.\n",
      "\n",
      "Get missing value stats from ./../data/citibike/tripdata/src/201409-citibike-tripdata.csv.\n",
      "Get missing value stats from ./../data/citibike/tripdata/src/201607-citibike-tripdata.csv.\n",
      "\n",
      "\n",
      "\n",
      "\n",
      "\n",
      "\n",
      "\n",
      "\n",
      "\n",
      "\n",
      "\n",
      "\n",
      "\n",
      "\n",
      "\n",
      "\n",
      "\n",
      "\n",
      "\n",
      "\n",
      "Get missing value stats from ./../data/citibike/tripdata/src/201702-citibike-tripdata.csv.\n",
      "Get missing value stats from ./../data/citibike/tripdata/src/201602-citibike-tripdata.csv.\n",
      "Get missing value stats from ./../data/citibike/tripdata/src/201803-citibike-tripdata.csv.\n",
      "Get missing value stats from ./../data/citibike/tripdata/src/201707-citibike-tripdata.csv.\n",
      "Get missing value stats from ./../data/citibike/tripdata/src/202003-citibike-tripdata.csv.\n",
      "Get missing value stats from ./../data/citibike/tripdata/src/201410-citibike-tripdata.csv.\n",
      "Get missing value stats from ./../data/citibike/tripdata/src/201308-citibike-tripdata.csv.\n",
      "Get missing value stats from ./../data/citibike/tripdata/src/201804-citibike-tripdata.csv.\n",
      "Get missing value stats from ./../data/citibike/tripdata/src/201608-citibike-tripdata.csv.\n",
      "Get missing value stats from ./../data/citibike/tripdata/src/202001-citibike-tripdata.csv.\n",
      "Get missing value stats from ./../data/citibike/tripdata/src/201802-citibike-tripdata.csv.\n",
      "Get missing value stats from ./../data/citibike/tripdata/src/201408-citibike-tripdata.csv.\n",
      "Get missing value stats from ./../data/citibike/tripdata/src/201505-citibike-tripdata.csv.\n",
      "Get missing value stats from ./../data/citibike/tripdata/src/201709-citibike-tripdata.csv.\n",
      "Get missing value stats from ./../data/citibike/tripdata/src/201411-citibike-tripdata.csv.\n",
      "Get missing value stats from ./../data/citibike/tripdata/src/201805-citibike-tripdata.csv.Get missing value stats from ./../data/citibike/tripdata/src/201904-citibike-tripdata.csv.\n",
      "\n",
      "Get missing value stats from ./../data/citibike/tripdata/src/201506-citibike-tripdata.csv.\n",
      "Get missing value stats from ./../data/citibike/tripdata/src/201502-citibike-tripdata.csv.\n",
      "Get missing value stats from ./../data/citibike/tripdata/src/201705-citibike-tripdata.csv.\n",
      "Get missing value stats from ./../data/citibike/tripdata/src/201801-citibike-tripdata.csv.\n",
      "Get missing value stats from ./../data/citibike/tripdata/src/201901-citibike-tripdata.csv.\n",
      "Get missing value stats from ./../data/citibike/tripdata/src/201603-citibike-tripdata.csv.\n",
      "Get missing value stats from ./../data/citibike/tripdata/src/201310-citibike-tripdata.csv.\n",
      "Get missing value stats from ./../data/citibike/tripdata/src/201612-citibike-tripdata.csv.\n",
      "Get missing value stats from ./../data/citibike/tripdata/src/201306-citibike-tripdata.csv.\n",
      "Get missing value stats from ./../data/citibike/tripdata/src/201903-citibike-tripdata.csv.\n",
      "Get missing value stats from ./../data/citibike/tripdata/src/201809-citibike-tripdata.csv.\n",
      "Get missing value stats from ./../data/citibike/tripdata/src/201312-citibike-tripdata.csv.\n",
      "Get missing value stats from ./../data/citibike/tripdata/src/201503-citibike-tripdata.csv.\n",
      "Get missing value stats from ./../data/citibike/tripdata/src/201604-citibike-tripdata.csv.\n",
      "Get missing value stats from ./../data/citibike/tripdata/src/201403-citibike-tripdata.csv.\n",
      "Get missing value stats from ./../data/citibike/tripdata/src/201708-citibike-tripdata.csv.\n",
      "Get missing value stats from ./../data/citibike/tripdata/src/201509-citibike-tripdata.csv.Get missing value stats from ./../data/citibike/tripdata/src/201610-citibike-tripdata.csv.\n",
      "\n",
      "Get missing value stats from ./../data/citibike/tripdata/src/201911-citibike-tripdata.csv.\n",
      "Get missing value stats from ./../data/citibike/tripdata/src/201501-citibike-tripdata.csv.\n",
      "Get missing value stats from ./../data/citibike/tripdata/src/201812-citibike-tripdata.csv.\n",
      "Get missing value stats from ./../data/citibike/tripdata/src/201402-citibike-tripdata.csv.\n",
      "Get missing value stats from ./../data/citibike/tripdata/src/201704-citibike-tripdata.csv.\n",
      "Get missing value stats from ./../data/citibike/tripdata/src/201710-citibike-tripdata.csv.\n",
      "Get missing value stats from ./../data/citibike/tripdata/src/201711-citibike-tripdata.csv.\n",
      "Get missing value stats from ./../data/citibike/tripdata/src/201807-citibike-tripdata.csv.\n",
      "Get missing value stats from ./../data/citibike/tripdata/src/201401-citibike-tripdata.csv.\n",
      "Get missing value stats from ./../data/citibike/tripdata/src/201611-citibike-tripdata.csv.\n",
      "Get missing value stats from ./../data/citibike/tripdata/src/201404-citibike-tripdata.csv.\n",
      "Get missing value stats from ./../data/citibike/tripdata/src/201701-citibike-tripdata.csv.\n",
      "Get missing value stats from ./../data/citibike/tripdata/src/201507-citibike-tripdata.csv.\n",
      "Get missing value stats from ./../data/citibike/tripdata/src/201406-citibike-tripdata.csv.\n",
      "Get missing value stats from ./../data/citibike/tripdata/src/201511-citibike-tripdata.csv.\n",
      "Get missing value stats from ./../data/citibike/tripdata/src/201908-citibike-tripdata.csv.\n",
      "*** Completed! ***\n"
     ]
    }
   ],
   "source": [
    "func = partial(get_missing_values_stats)\n",
    "\n",
    "try:\n",
    "    # see https://www.machinelearningplus.com/python/parallel-processing-python/\n",
    "    pool = mp.Pool(mp.cpu_count())\n",
    "    missing_stats = pool.map(func=func, iterable=files_iterator)\n",
    "\n",
    "finally:\n",
    "    pool.close()\n",
    "\n",
    "print(\"*** Completed! ***\")"
   ]
  },
  {
   "cell_type": "code",
   "execution_count": 41,
   "metadata": {},
   "outputs": [],
   "source": [
    "def get_df_stats(stats):\n",
    "    count_list = []\n",
    "    percent_list = []\n",
    "    for file, df_stats in stats:\n",
    "        files_year_month = '{}-{}'.format(file[-28:-24], file[-24:-22])\n",
    "        count_list.append(pd.DataFrame(data=df_stats['Count'].values, columns=[files_year_month], index=df_stats.index).T)\n",
    "        percent_list.append(pd.DataFrame(data=df_stats['Percent'].values, columns=[files_year_month], index=df_stats.index).T)\n",
    "        \n",
    "    count = pd.concat(count_list).sort_index()\n",
    "    percent = pd.concat(percent_list).sort_index()\n",
    "    \n",
    "    return (count, percent)"
   ]
  },
  {
   "cell_type": "code",
   "execution_count": 42,
   "metadata": {},
   "outputs": [],
   "source": [
    "df_count, df_percent = get_df_stats(missing_stats)"
   ]
  },
  {
   "cell_type": "code",
   "execution_count": 43,
   "metadata": {},
   "outputs": [
    {
     "data": {
      "text/plain": [
       "Trip Duration                    0\n",
       "Start Time                       0\n",
       "Stop Time                        0\n",
       "Start Station ID              2677\n",
       "Start Station Name            2677\n",
       "Start Station Latitude           0\n",
       "Start Station Longitude          0\n",
       "End Station ID               20736\n",
       "End Station Name             20736\n",
       "End Station Latitude         18059\n",
       "End Station Longitude        18059\n",
       "Bike ID                          0\n",
       "User Type                    51780\n",
       "Birth Year                 6229475\n",
       "Gender                           0\n",
       "dtype: int64"
      ]
     },
     "execution_count": 43,
     "metadata": {},
     "output_type": "execute_result"
    }
   ],
   "source": [
    "df_count.sum()"
   ]
  },
  {
   "cell_type": "code",
   "execution_count": 44,
   "metadata": {},
   "outputs": [],
   "source": [
    "df_count.to_csv(os.path.join(path, 'missing-count-citibike-tripdata.csv'), index=True)\n",
    "df_count.to_parquet(os.path.join(path, 'missing-count-citibike-tripdata.parquet'), index=True)\n",
    "df_percent.to_csv(os.path.join(path, 'missing-percent-citibike-tripdata.csv'), index=True)\n",
    "df_percent.to_parquet(os.path.join(path, 'missing-percent-citibike-tripdata.csv'), index=True)"
   ]
  },
  {
   "cell_type": "code",
   "execution_count": 45,
   "metadata": {},
   "outputs": [],
   "source": [
    "def plot_missing_values(na_count):\n",
    "    fig = plt.figure(constrained_layout=True)\n",
    "    gs = gridspec.GridSpec(2,2, figure=fig)\n",
    "\n",
    "    fig.suptitle('Missing Values', fontsize=16)\n",
    "\n",
    "    ax1 = fig.add_subplot(gs[0, 0])\n",
    "    ax1.set_title('Over all years')\n",
    "    ax1.set_xlabel('Missing values')\n",
    "    ax1.barh(y=na_count.columns, width=na_count.sum().values)\n",
    "\n",
    "    # new df with removed birth year for further plots\n",
    "    na_count_without_birth_year = na_count.drop('Birth Year', axis=1)\n",
    "\n",
    "    ax2 = fig.add_subplot(gs[0, 1])\n",
    "    ax2.set_title('Over all years (excluded \"Birth Year\")')\n",
    "    ax2.set_xlabel('Missing values')\n",
    "    ax2.barh(y=na_count_without_birth_year.columns, width=na_count_without_birth_year.sum().values)\n",
    "    \n",
    "    plt.show()    "
   ]
  },
  {
   "cell_type": "code",
   "execution_count": 46,
   "metadata": {},
   "outputs": [
    {
     "data": {
      "image/png": "[encoded data removed]",
      "text/plain": [
       "<Figure size 1296x576 with 2 Axes>"
      ]
     },
     "metadata": {
      "needs_background": "light"
     },
     "output_type": "display_data"
    }
   ],
   "source": [
    "plot_missing_values(df_count)"
   ]
  },
  {
   "cell_type": "markdown",
   "metadata": {},
   "source": [
    "Es ist ersichtlich das hier einige Daten fehlen. Bei Birth Year sind es so viele das alle anderen Spalten untergehen. Daher wurde rechts nochmal ein Plot erstellt ohne die Spalte Birth Year. So ist ersichtlich, dass auch bei User Type einige Daten fehlen, sowie Informationen zur End oder Start-Station nicht vorhanden sind."
   ]
  },
  {
   "cell_type": "markdown",
   "metadata": {},
   "source": [
    "## Untersuchung fehlender Daten auf Monatsebene"
   ]
  },
  {
   "cell_type": "markdown",
   "metadata": {},
   "source": [
    "Damit man die Daten besser säubern kann, wird noch geprüft ob nur bei bestimmten Monaten oder Jahren Daten fehlen."
   ]
  },
  {
   "cell_type": "code",
   "execution_count": 47,
   "metadata": {},
   "outputs": [],
   "source": [
    "def plot_missing_values_months(na_count, na_percent):\n",
    "    \n",
    "    # only columns with na values, not interested in all others\n",
    "    cols_with_na = df_count.loc[:, (df_count > 0).any()].columns\n",
    "    \n",
    "    for idx, col in enumerate(cols_with_na):\n",
    "        print(col)\n",
    "\n",
    "        fig = plt.figure(constrained_layout=True)\n",
    "        gs = gridspec.GridSpec(2, 1, figure=fig)\n",
    "\n",
    "        ax1 = fig.add_subplot(gs[0, 0])\n",
    "        ax1.set_title(col)\n",
    "        ax1.set_xlabel('Year and Month')\n",
    "        ax1.set_ylabel('Count of Missing values')\n",
    "        ax1.bar(x=na_count[col].index, height=na_count[col])\n",
    "        ax1.tick_params(axis='x', rotation=90)\n",
    "\n",
    "        ax2 = fig.add_subplot(gs[1, 0])\n",
    "        ax2.set_title(col)\n",
    "        ax2.set_xlabel('Year and Month')\n",
    "        ax2.set_ylabel('Missing values in %')\n",
    "        ax2.bar(x=na_percent[col].index, height=na_percent[col])\n",
    "        ax2.tick_params(axis='x', rotation=90)\n",
    "        \n",
    "        plt.show()   "
   ]
  },
  {
   "cell_type": "code",
   "execution_count": 48,
   "metadata": {},
   "outputs": [
    {
     "name": "stdout",
     "output_type": "stream",
     "text": [
      "Start Station ID\n"
     ]
    },
    {
     "data": {
      "image/png": "[encoded data removed]",
      "text/plain": [
       "<Figure size 1296x576 with 2 Axes>"
      ]
     },
     "metadata": {
      "needs_background": "light"
     },
     "output_type": "display_data"
    },
    {
     "name": "stdout",
     "output_type": "stream",
     "text": [
      "Start Station Name\n"
     ]
    },
    {
     "data": {
      "image/png": "[encoded data removed]",
      "text/plain": [
       "<Figure size 1296x576 with 2 Axes>"
      ]
     },
     "metadata": {
      "needs_background": "light"
     },
     "output_type": "display_data"
    },
    {
     "name": "stdout",
     "output_type": "stream",
     "text": [
      "End Station ID\n"
     ]
    },
    {
     "data": {
      "image/png": "[encoded data removed]",
      "text/plain": [
       "<Figure size 1296x576 with 2 Axes>"
      ]
     },
     "metadata": {
      "needs_background": "light"
     },
     "output_type": "display_data"
    },
    {
     "name": "stdout",
     "output_type": "stream",
     "text": [
      "End Station Name\n"
     ]
    },
    {
     "data": {
      "image/png": "[encoded data removed]",
      "text/plain": [
       "<Figure size 1296x576 with 2 Axes>"
      ]
     },
     "metadata": {
      "needs_background": "light"
     },
     "output_type": "display_data"
    },
    {
     "name": "stdout",
     "output_type": "stream",
     "text": [
      "End Station Latitude\n"
     ]
    },
    {
     "data": {
      "image/png": "[encoded data removed]",
      "text/plain": [
       "<Figure size 1296x576 with 2 Axes>"
      ]
     },
     "metadata": {
      "needs_background": "light"
     },
     "output_type": "display_data"
    },
    {
     "name": "stdout",
     "output_type": "stream",
     "text": [
      "End Station Longitude\n"
     ]
    },
    {
     "data": {
      "image/png": "[encoded data removed]",
      "text/plain": [
       "<Figure size 1296x576 with 2 Axes>"
      ]
     },
     "metadata": {
      "needs_background": "light"
     },
     "output_type": "display_data"
    },
    {
     "name": "stdout",
     "output_type": "stream",
     "text": [
      "User Type\n"
     ]
    },
    {
     "data": {
      "image/png": "[encoded data removed]",
      "text/plain": [
       "<Figure size 1296x576 with 2 Axes>"
      ]
     },
     "metadata": {
      "needs_background": "light"
     },
     "output_type": "display_data"
    },
    {
     "name": "stdout",
     "output_type": "stream",
     "text": [
      "Birth Year\n"
     ]
    },
    {
     "data": {
      "image/png": "[encoded data removed]",
      "text/plain": [
       "<Figure size 1296x576 with 2 Axes>"
      ]
     },
     "metadata": {
      "needs_background": "light"
     },
     "output_type": "display_data"
    }
   ],
   "source": [
    "plot_missing_values_months(df_count, df_percent)"
   ]
  },
  {
   "cell_type": "markdown",
   "metadata": {},
   "source": [
    "## Beurteilung und Bereinigungsfunktion für die nachfolgenden Datenaufbereitungen"
   ]
  },
  {
   "cell_type": "markdown",
   "metadata": {},
   "source": [
    "Die Daten werden nun aufgrund der Plots gesäubert, d.h. es wird eine Methode zur Verfügung gestellt, welche in den folgenden Datenaufbereitungen benutzt werden kann.\n",
    "\n",
    "**Aufgrund der Plots werden die Daten wie folgt beim Einlesen bereinigt:**\n",
    "\n",
    "* Daten aus 06.2013 werden keine Berücksichtigt, d.h. die Datei wird gar nicht erst benutzt.\n",
    "* Fehelende Daten in User Type werden mit Customer befüllt.\n",
    "* Zeilen mit fehlender Station ID werden verworfen (der relative Anteil ist sehr klein, daher spielen diese keine Rolle).\n",
    "* Am Geburtsjahr wird nichts verändert und einfach leer belassen falls dieses fehlt.\n",
    "\n",
    "Die Funktionen dazu sind unter [Hilfsmethoden, Fehlende Daten bereinigen](#hilfsmethoden_cleanup_missing_id) definiert."
   ]
  },
  {
   "cell_type": "markdown",
   "metadata": {},
   "source": [
    "# Datenaufbereitung, zufällige Stichproben"
   ]
  },
  {
   "cell_type": "markdown",
   "metadata": {},
   "source": [
    "**Damit bei jeder Generierung der Datei die gleichen Stichproben gezogen werden, muss immer ```SEED``` mitgegeben werden wenn ```sample()``` aufgerufen wird!**"
   ]
  },
  {
   "cell_type": "markdown",
   "metadata": {},
   "source": [
    "## Für jeden Monat über alle Jahre"
   ]
  },
  {
   "cell_type": "code",
   "execution_count": 49,
   "metadata": {},
   "outputs": [],
   "source": [
    "N_MONTH = 100 # Anzahl der Stichproben pro Monat\n",
    "SEED_MONTH = 1234567890"
   ]
  },
  {
   "cell_type": "code",
   "execution_count": 50,
   "metadata": {},
   "outputs": [],
   "source": [
    "files_iterator = get_files_iterator(os.path.join(path, 'src'), no_missing_data_file_filter)"
   ]
  },
  {
   "cell_type": "code",
   "execution_count": 51,
   "metadata": {},
   "outputs": [],
   "source": [
    "def get_samples_per_month(number_of_samples, seed, file):\n",
    "    try:\n",
    "        print('Get samples from {}.'.format(file))\n",
    "        df = read(file)\n",
    "        df = fix_missing_data(df)\n",
    "        df = parse_datetimes(file, df)\n",
    "        df = update_tzinfo(df)\n",
    "        \n",
    "        df = add_linear_distance(df)\n",
    "        df = add_age_2020(df)\n",
    "        \n",
    "        samples = df.sample(n=number_of_samples, random_state=seed)\n",
    "        if len(samples) != number_of_samples:\n",
    "            raise ValueError('Only {} samples exists, but should be {} (file: {})!'.format(len(samples), number_of_samples, file))\n",
    "        return samples\n",
    "    except Exception as e:\n",
    "        print('ERROR: Exception when getting samples for file {}: {}'.format(file, str(e)))"
   ]
  },
  {
   "cell_type": "code",
   "execution_count": 52,
   "metadata": {},
   "outputs": [
    {
     "name": "stdout",
     "output_type": "stream",
     "text": [
      "Get samples from ./../data/citibike/tripdata/src/201311-citibike-tripdata.csv.Get samples from ./../data/citibike/tripdata/src/201912-citibike-tripdata.csv.Get samples from ./../data/citibike/tripdata/src/201706-citibike-tripdata.csv.Get samples from ./../data/citibike/tripdata/src/201902-citibike-tripdata.csv.Get samples from ./../data/citibike/tripdata/src/201510-citibike-tripdata.csv.Get samples from ./../data/citibike/tripdata/src/201810-citibike-tripdata.csv.Get samples from ./../data/citibike/tripdata/src/201405-citibike-tripdata.csv.Get samples from ./../data/citibike/tripdata/src/201605-citibike-tripdata.csv.Get samples from ./../data/citibike/tripdata/src/201905-citibike-tripdata.csv.Get samples from ./../data/citibike/tripdata/src/201412-citibike-tripdata.csv.Get samples from ./../data/citibike/tripdata/src/201811-citibike-tripdata.csv.Get samples from ./../data/citibike/tripdata/src/201606-citibike-tripdata.csv.\n",
      "Get samples from ./../data/citibike/tripdata/src/201307-citibike-tripdata.csv.Get samples from ./../data/citibike/tripdata/src/201508-citibike-tripdata.csv.\n",
      "\n",
      "Get samples from ./../data/citibike/tripdata/src/201407-citibike-tripdata.csv.\n",
      "Get samples from ./../data/citibike/tripdata/src/201309-citibike-tripdata.csv.\n",
      "Get samples from ./../data/citibike/tripdata/src/201909-citibike-tripdata.csv.\n",
      "Get samples from ./../data/citibike/tripdata/src/201910-citibike-tripdata.csv.\n",
      "Get samples from ./../data/citibike/tripdata/src/202004-citibike-tripdata.csv.Get samples from ./../data/citibike/tripdata/src/201808-citibike-tripdata.csv.\n",
      "Get samples from ./../data/citibike/tripdata/src/201601-citibike-tripdata.csv.\n",
      "Get samples from ./../data/citibike/tripdata/src/202002-citibike-tripdata.csv.Get samples from ./../data/citibike/tripdata/src/201609-citibike-tripdata.csv.\n",
      "Get samples from ./../data/citibike/tripdata/src/201712-citibike-tripdata.csv.Get samples from ./../data/citibike/tripdata/src/201806-citibike-tripdata.csv.\n",
      "Get samples from ./../data/citibike/tripdata/src/201409-citibike-tripdata.csv.Get samples from ./../data/citibike/tripdata/src/201504-citibike-tripdata.csv.\n",
      "\n",
      "Get samples from ./../data/citibike/tripdata/src/201512-citibike-tripdata.csv.\n",
      "Get samples from ./../data/citibike/tripdata/src/201607-citibike-tripdata.csv.Get samples from ./../data/citibike/tripdata/src/201907-citibike-tripdata.csv.\n",
      "Get samples from ./../data/citibike/tripdata/src/201703-citibike-tripdata.csv.\n",
      "Get samples from ./../data/citibike/tripdata/src/201906-citibike-tripdata.csv.\n",
      "\n",
      "\n",
      "\n",
      "\n",
      "\n",
      "\n",
      "\n",
      "\n",
      "\n",
      "\n",
      "\n",
      "\n",
      "\n",
      "\n",
      "\n",
      "Get samples from ./../data/citibike/tripdata/src/201702-citibike-tripdata.csv.\n",
      "Get samples from ./../data/citibike/tripdata/src/201602-citibike-tripdata.csv.\n",
      "Get samples from ./../data/citibike/tripdata/src/201803-citibike-tripdata.csv.\n",
      "Get samples from ./../data/citibike/tripdata/src/201707-citibike-tripdata.csv.\n",
      "Get samples from ./../data/citibike/tripdata/src/202003-citibike-tripdata.csv.\n",
      "Get samples from ./../data/citibike/tripdata/src/201410-citibike-tripdata.csv.Get samples from ./../data/citibike/tripdata/src/201308-citibike-tripdata.csv.\n",
      "\n",
      "Get samples from ./../data/citibike/tripdata/src/201804-citibike-tripdata.csv.\n",
      "Get samples from ./../data/citibike/tripdata/src/201608-citibike-tripdata.csv.\n",
      "Get samples from ./../data/citibike/tripdata/src/202001-citibike-tripdata.csv.\n",
      "Get samples from ./../data/citibike/tripdata/src/201802-citibike-tripdata.csv.\n",
      "Get samples from ./../data/citibike/tripdata/src/201408-citibike-tripdata.csv.\n",
      "Get samples from ./../data/citibike/tripdata/src/201505-citibike-tripdata.csv.\n",
      "Get samples from ./../data/citibike/tripdata/src/201709-citibike-tripdata.csv.\n",
      "Get samples from ./../data/citibike/tripdata/src/201411-citibike-tripdata.csv.\n",
      "Get samples from ./../data/citibike/tripdata/src/201805-citibike-tripdata.csv.\n",
      "Get samples from ./../data/citibike/tripdata/src/201904-citibike-tripdata.csv.\n",
      "Get samples from ./../data/citibike/tripdata/src/201506-citibike-tripdata.csv.\n",
      "Get samples from ./../data/citibike/tripdata/src/201502-citibike-tripdata.csv.\n",
      "Get samples from ./../data/citibike/tripdata/src/201705-citibike-tripdata.csv.\n",
      "Get samples from ./../data/citibike/tripdata/src/201801-citibike-tripdata.csv.\n",
      "Get samples from ./../data/citibike/tripdata/src/201901-citibike-tripdata.csv.Get samples from ./../data/citibike/tripdata/src/201603-citibike-tripdata.csv.\n",
      "\n",
      "Get samples from ./../data/citibike/tripdata/src/201310-citibike-tripdata.csv.\n",
      "Get samples from ./../data/citibike/tripdata/src/201612-citibike-tripdata.csv.\n",
      "Get samples from ./../data/citibike/tripdata/src/201903-citibike-tripdata.csv.\n",
      "Get samples from ./../data/citibike/tripdata/src/201809-citibike-tripdata.csv.\n",
      "Get samples from ./../data/citibike/tripdata/src/201312-citibike-tripdata.csv.\n",
      "Get samples from ./../data/citibike/tripdata/src/201503-citibike-tripdata.csv.\n",
      "Get samples from ./../data/citibike/tripdata/src/201604-citibike-tripdata.csv.\n",
      "Get samples from ./../data/citibike/tripdata/src/201403-citibike-tripdata.csv.\n",
      "Get samples from ./../data/citibike/tripdata/src/201708-citibike-tripdata.csv.\n",
      "Get samples from ./../data/citibike/tripdata/src/201509-citibike-tripdata.csv.\n",
      "Get samples from ./../data/citibike/tripdata/src/201610-citibike-tripdata.csv.\n",
      "Get samples from ./../data/citibike/tripdata/src/201911-citibike-tripdata.csv.\n",
      "Get samples from ./../data/citibike/tripdata/src/201501-citibike-tripdata.csv.\n",
      "Get samples from ./../data/citibike/tripdata/src/201812-citibike-tripdata.csv.\n",
      "Get samples from ./../data/citibike/tripdata/src/201402-citibike-tripdata.csv.\n",
      "Get samples from ./../data/citibike/tripdata/src/201704-citibike-tripdata.csv.\n",
      "Get samples from ./../data/citibike/tripdata/src/201710-citibike-tripdata.csv.\n",
      "Get samples from ./../data/citibike/tripdata/src/201711-citibike-tripdata.csv.\n",
      "Get samples from ./../data/citibike/tripdata/src/201401-citibike-tripdata.csv.Get samples from ./../data/citibike/tripdata/src/201807-citibike-tripdata.csv.\n",
      "\n",
      "Get samples from ./../data/citibike/tripdata/src/201611-citibike-tripdata.csv.\n",
      "Get samples from ./../data/citibike/tripdata/src/201404-citibike-tripdata.csv.\n",
      "Get samples from ./../data/citibike/tripdata/src/201701-citibike-tripdata.csv.Get samples from ./../data/citibike/tripdata/src/201507-citibike-tripdata.csv.\n",
      "\n",
      "Get samples from ./../data/citibike/tripdata/src/201406-citibike-tripdata.csv.\n",
      "Get samples from ./../data/citibike/tripdata/src/201511-citibike-tripdata.csv.\n",
      "Get samples from ./../data/citibike/tripdata/src/201908-citibike-tripdata.csv.\n",
      "*** Completed! ***\n"
     ]
    }
   ],
   "source": [
    "func = partial(get_samples_per_month, N_MONTH, SEED_MONTH)\n",
    "\n",
    "try:\n",
    "    # see https://www.machinelearningplus.com/python/parallel-processing-python/\n",
    "    pool = mp.Pool(mp.cpu_count())\n",
    "    samples_per_month = pool.map(func=func, iterable=files_iterator)\n",
    "finally:\n",
    "    pool.close()\n",
    "    \n",
    "print(\"*** Completed! ***\")"
   ]
  },
  {
   "cell_type": "code",
   "execution_count": 53,
   "metadata": {},
   "outputs": [],
   "source": [
    "tripdata_samples_per_month = pd.concat(samples_per_month)"
   ]
  },
  {
   "cell_type": "code",
   "execution_count": 54,
   "metadata": {},
   "outputs": [
    {
     "data": {
      "text/plain": [
       "(8200, 17)"
      ]
     },
     "execution_count": 54,
     "metadata": {},
     "output_type": "execute_result"
    }
   ],
   "source": [
    "tripdata_samples_per_month.shape"
   ]
  },
  {
   "cell_type": "code",
   "execution_count": 55,
   "metadata": {},
   "outputs": [],
   "source": [
    "tripdata_samples_per_month = tripdata_samples_per_month.sort_values('Start Time')"
   ]
  },
  {
   "cell_type": "code",
   "execution_count": 56,
   "metadata": {},
   "outputs": [
    {
     "data": {
      "text/html": [
       "<div>\n",
       "<style scoped>\n",
       "    .dataframe tbody tr th:only-of-type {\n",
       "        vertical-align: middle;\n",
       "    }\n",
       "\n",
       "    .dataframe tbody tr th {\n",
       "        vertical-align: top;\n",
       "    }\n",
       "\n",
       "    .dataframe thead th {\n",
       "        text-align: right;\n",
       "    }\n",
       "</style>\n",
       "<table border=\"1\" class=\"dataframe\">\n",
       "  <thead>\n",
       "    <tr style=\"text-align: right;\">\n",
       "      <th></th>\n",
       "      <th>Trip Duration</th>\n",
       "      <th>Start Time</th>\n",
       "      <th>Stop Time</th>\n",
       "      <th>Start Station ID</th>\n",
       "      <th>Start Station Name</th>\n",
       "      <th>Start Station Latitude</th>\n",
       "      <th>Start Station Longitude</th>\n",
       "      <th>End Station ID</th>\n",
       "      <th>End Station Name</th>\n",
       "      <th>End Station Latitude</th>\n",
       "      <th>End Station Longitude</th>\n",
       "      <th>Bike ID</th>\n",
       "      <th>User Type</th>\n",
       "      <th>Birth Year</th>\n",
       "      <th>Gender</th>\n",
       "      <th>Linear Distance</th>\n",
       "      <th>Age 2020</th>\n",
       "    </tr>\n",
       "  </thead>\n",
       "  <tbody>\n",
       "    <tr>\n",
       "      <th>10867</th>\n",
       "      <td>921</td>\n",
       "      <td>2013-07-01 18:35:06-04:00</td>\n",
       "      <td>2013-07-01 18:50:27-04:00</td>\n",
       "      <td>281</td>\n",
       "      <td>Grand Army Plaza &amp; Central Park S</td>\n",
       "      <td>40.76440</td>\n",
       "      <td>-73.97371</td>\n",
       "      <td>249</td>\n",
       "      <td>Harrison St &amp; Hudson St</td>\n",
       "      <td>40.71871</td>\n",
       "      <td>-74.00900</td>\n",
       "      <td>17128</td>\n",
       "      <td>Subscriber</td>\n",
       "      <td>1961</td>\n",
       "      <td>1</td>\n",
       "      <td>5.88607</td>\n",
       "      <td>59</td>\n",
       "    </tr>\n",
       "    <tr>\n",
       "      <th>16134</th>\n",
       "      <td>299</td>\n",
       "      <td>2013-07-01 22:48:13-04:00</td>\n",
       "      <td>2013-07-01 22:53:12-04:00</td>\n",
       "      <td>396</td>\n",
       "      <td>Lefferts Pl &amp; Franklin Ave</td>\n",
       "      <td>40.68034</td>\n",
       "      <td>-73.95577</td>\n",
       "      <td>275</td>\n",
       "      <td>Washington Ave &amp; Greene Ave</td>\n",
       "      <td>40.68650</td>\n",
       "      <td>-73.96563</td>\n",
       "      <td>15939</td>\n",
       "      <td>Subscriber</td>\n",
       "      <td>1984</td>\n",
       "      <td>1</td>\n",
       "      <td>1.07737</td>\n",
       "      <td>36</td>\n",
       "    </tr>\n",
       "    <tr>\n",
       "      <th>21829</th>\n",
       "      <td>333</td>\n",
       "      <td>2013-07-02 09:43:17-04:00</td>\n",
       "      <td>2013-07-02 09:48:50-04:00</td>\n",
       "      <td>546</td>\n",
       "      <td>E 30 St &amp; Park Ave S</td>\n",
       "      <td>40.74445</td>\n",
       "      <td>-73.98304</td>\n",
       "      <td>536</td>\n",
       "      <td>1 Ave &amp; E 30 St</td>\n",
       "      <td>40.74144</td>\n",
       "      <td>-73.97536</td>\n",
       "      <td>19973</td>\n",
       "      <td>Subscriber</td>\n",
       "      <td>1960</td>\n",
       "      <td>1</td>\n",
       "      <td>0.72780</td>\n",
       "      <td>60</td>\n",
       "    </tr>\n",
       "    <tr>\n",
       "      <th>32781</th>\n",
       "      <td>948</td>\n",
       "      <td>2013-07-02 18:09:36-04:00</td>\n",
       "      <td>2013-07-02 18:25:24-04:00</td>\n",
       "      <td>387</td>\n",
       "      <td>Centre St &amp; Chambers St</td>\n",
       "      <td>40.71273</td>\n",
       "      <td>-74.00461</td>\n",
       "      <td>144</td>\n",
       "      <td>Nassau St &amp; Navy St</td>\n",
       "      <td>40.69840</td>\n",
       "      <td>-73.98069</td>\n",
       "      <td>19363</td>\n",
       "      <td>Subscriber</td>\n",
       "      <td>1983</td>\n",
       "      <td>2</td>\n",
       "      <td>2.57005</td>\n",
       "      <td>37</td>\n",
       "    </tr>\n",
       "    <tr>\n",
       "      <th>38397</th>\n",
       "      <td>441</td>\n",
       "      <td>2013-07-02 21:51:10-04:00</td>\n",
       "      <td>2013-07-02 21:58:31-04:00</td>\n",
       "      <td>524</td>\n",
       "      <td>W 43 St &amp; 6 Ave</td>\n",
       "      <td>40.75527</td>\n",
       "      <td>-73.98317</td>\n",
       "      <td>251</td>\n",
       "      <td>Mott St &amp; Prince St</td>\n",
       "      <td>40.72318</td>\n",
       "      <td>-73.99480</td>\n",
       "      <td>18940</td>\n",
       "      <td>Customer</td>\n",
       "      <td>&lt;NA&gt;</td>\n",
       "      <td>0</td>\n",
       "      <td>3.70072</td>\n",
       "      <td>&lt;NA&gt;</td>\n",
       "    </tr>\n",
       "  </tbody>\n",
       "</table>\n",
       "</div>"
      ],
      "text/plain": [
       "       Trip Duration                Start Time                 Stop Time  \\\n",
       "10867            921 2013-07-01 18:35:06-04:00 2013-07-01 18:50:27-04:00   \n",
       "16134            299 2013-07-01 22:48:13-04:00 2013-07-01 22:53:12-04:00   \n",
       "21829            333 2013-07-02 09:43:17-04:00 2013-07-02 09:48:50-04:00   \n",
       "32781            948 2013-07-02 18:09:36-04:00 2013-07-02 18:25:24-04:00   \n",
       "38397            441 2013-07-02 21:51:10-04:00 2013-07-02 21:58:31-04:00   \n",
       "\n",
       "       Start Station ID                 Start Station Name  \\\n",
       "10867               281  Grand Army Plaza & Central Park S   \n",
       "16134               396         Lefferts Pl & Franklin Ave   \n",
       "21829               546               E 30 St & Park Ave S   \n",
       "32781               387            Centre St & Chambers St   \n",
       "38397               524                    W 43 St & 6 Ave   \n",
       "\n",
       "       Start Station Latitude  Start Station Longitude  End Station ID  \\\n",
       "10867                40.76440                -73.97371             249   \n",
       "16134                40.68034                -73.95577             275   \n",
       "21829                40.74445                -73.98304             536   \n",
       "32781                40.71273                -74.00461             144   \n",
       "38397                40.75527                -73.98317             251   \n",
       "\n",
       "                  End Station Name  End Station Latitude  \\\n",
       "10867      Harrison St & Hudson St              40.71871   \n",
       "16134  Washington Ave & Greene Ave              40.68650   \n",
       "21829              1 Ave & E 30 St              40.74144   \n",
       "32781          Nassau St & Navy St              40.69840   \n",
       "38397          Mott St & Prince St              40.72318   \n",
       "\n",
       "       End Station Longitude  Bike ID   User Type  Birth Year Gender  \\\n",
       "10867              -74.00900    17128  Subscriber        1961      1   \n",
       "16134              -73.96563    15939  Subscriber        1984      1   \n",
       "21829              -73.97536    19973  Subscriber        1960      1   \n",
       "32781              -73.98069    19363  Subscriber        1983      2   \n",
       "38397              -73.99480    18940    Customer        <NA>      0   \n",
       "\n",
       "       Linear Distance  Age 2020  \n",
       "10867          5.88607        59  \n",
       "16134          1.07737        36  \n",
       "21829          0.72780        60  \n",
       "32781          2.57005        37  \n",
       "38397          3.70072      <NA>  "
      ]
     },
     "execution_count": 56,
     "metadata": {},
     "output_type": "execute_result"
    }
   ],
   "source": [
    "tripdata_samples_per_month.head()"
   ]
  },
  {
   "cell_type": "code",
   "execution_count": 57,
   "metadata": {},
   "outputs": [
    {
     "data": {
      "text/html": [
       "<div>\n",
       "<style scoped>\n",
       "    .dataframe tbody tr th:only-of-type {\n",
       "        vertical-align: middle;\n",
       "    }\n",
       "\n",
       "    .dataframe tbody tr th {\n",
       "        vertical-align: top;\n",
       "    }\n",
       "\n",
       "    .dataframe thead th {\n",
       "        text-align: right;\n",
       "    }\n",
       "</style>\n",
       "<table border=\"1\" class=\"dataframe\">\n",
       "  <thead>\n",
       "    <tr style=\"text-align: right;\">\n",
       "      <th></th>\n",
       "      <th>Count</th>\n",
       "      <th>Percent</th>\n",
       "    </tr>\n",
       "  </thead>\n",
       "  <tbody>\n",
       "    <tr>\n",
       "      <th>Trip Duration</th>\n",
       "      <td>0</td>\n",
       "      <td>0.00000</td>\n",
       "    </tr>\n",
       "    <tr>\n",
       "      <th>Start Time</th>\n",
       "      <td>0</td>\n",
       "      <td>0.00000</td>\n",
       "    </tr>\n",
       "    <tr>\n",
       "      <th>Stop Time</th>\n",
       "      <td>0</td>\n",
       "      <td>0.00000</td>\n",
       "    </tr>\n",
       "    <tr>\n",
       "      <th>Start Station ID</th>\n",
       "      <td>0</td>\n",
       "      <td>0.00000</td>\n",
       "    </tr>\n",
       "    <tr>\n",
       "      <th>Start Station Name</th>\n",
       "      <td>0</td>\n",
       "      <td>0.00000</td>\n",
       "    </tr>\n",
       "    <tr>\n",
       "      <th>Start Station Latitude</th>\n",
       "      <td>0</td>\n",
       "      <td>0.00000</td>\n",
       "    </tr>\n",
       "    <tr>\n",
       "      <th>Start Station Longitude</th>\n",
       "      <td>0</td>\n",
       "      <td>0.00000</td>\n",
       "    </tr>\n",
       "    <tr>\n",
       "      <th>End Station ID</th>\n",
       "      <td>0</td>\n",
       "      <td>0.00000</td>\n",
       "    </tr>\n",
       "    <tr>\n",
       "      <th>End Station Name</th>\n",
       "      <td>0</td>\n",
       "      <td>0.00000</td>\n",
       "    </tr>\n",
       "    <tr>\n",
       "      <th>End Station Latitude</th>\n",
       "      <td>0</td>\n",
       "      <td>0.00000</td>\n",
       "    </tr>\n",
       "    <tr>\n",
       "      <th>End Station Longitude</th>\n",
       "      <td>0</td>\n",
       "      <td>0.00000</td>\n",
       "    </tr>\n",
       "    <tr>\n",
       "      <th>Bike ID</th>\n",
       "      <td>0</td>\n",
       "      <td>0.00000</td>\n",
       "    </tr>\n",
       "    <tr>\n",
       "      <th>User Type</th>\n",
       "      <td>0</td>\n",
       "      <td>0.00000</td>\n",
       "    </tr>\n",
       "    <tr>\n",
       "      <th>Birth Year</th>\n",
       "      <td>532</td>\n",
       "      <td>6.48780</td>\n",
       "    </tr>\n",
       "    <tr>\n",
       "      <th>Gender</th>\n",
       "      <td>0</td>\n",
       "      <td>0.00000</td>\n",
       "    </tr>\n",
       "    <tr>\n",
       "      <th>Linear Distance</th>\n",
       "      <td>0</td>\n",
       "      <td>0.00000</td>\n",
       "    </tr>\n",
       "    <tr>\n",
       "      <th>Age 2020</th>\n",
       "      <td>532</td>\n",
       "      <td>6.48780</td>\n",
       "    </tr>\n",
       "  </tbody>\n",
       "</table>\n",
       "</div>"
      ],
      "text/plain": [
       "                         Count  Percent\n",
       "Trip Duration                0  0.00000\n",
       "Start Time                   0  0.00000\n",
       "Stop Time                    0  0.00000\n",
       "Start Station ID             0  0.00000\n",
       "Start Station Name           0  0.00000\n",
       "Start Station Latitude       0  0.00000\n",
       "Start Station Longitude      0  0.00000\n",
       "End Station ID               0  0.00000\n",
       "End Station Name             0  0.00000\n",
       "End Station Latitude         0  0.00000\n",
       "End Station Longitude        0  0.00000\n",
       "Bike ID                      0  0.00000\n",
       "User Type                    0  0.00000\n",
       "Birth Year                 532  6.48780\n",
       "Gender                       0  0.00000\n",
       "Linear Distance              0  0.00000\n",
       "Age 2020                   532  6.48780"
      ]
     },
     "execution_count": 57,
     "metadata": {},
     "output_type": "execute_result"
    }
   ],
   "source": [
    "missing_values(tripdata_samples_per_month)"
   ]
  },
  {
   "cell_type": "code",
   "execution_count": 58,
   "metadata": {},
   "outputs": [
    {
     "name": "stdout",
     "output_type": "stream",
     "text": [
      "<class 'pandas.core.frame.DataFrame'>\n",
      "Int64Index: 8200 entries, 10867 to 676916\n",
      "Data columns (total 17 columns):\n",
      " #   Column                   Non-Null Count  Dtype                     \n",
      "---  ------                   --------------  -----                     \n",
      " 0   Trip Duration            8200 non-null   Int64                     \n",
      " 1   Start Time               8200 non-null   datetime64[ns, US/Eastern]\n",
      " 2   Stop Time                8200 non-null   datetime64[ns, US/Eastern]\n",
      " 3   Start Station ID         8200 non-null   Int64                     \n",
      " 4   Start Station Name       8200 non-null   object                    \n",
      " 5   Start Station Latitude   8200 non-null   float64                   \n",
      " 6   Start Station Longitude  8200 non-null   float64                   \n",
      " 7   End Station ID           8200 non-null   Int64                     \n",
      " 8   End Station Name         8200 non-null   object                    \n",
      " 9   End Station Latitude     8200 non-null   float64                   \n",
      " 10  End Station Longitude    8200 non-null   float64                   \n",
      " 11  Bike ID                  8200 non-null   Int64                     \n",
      " 12  User Type                8200 non-null   category                  \n",
      " 13  Birth Year               7668 non-null   Int64                     \n",
      " 14  Gender                   8200 non-null   category                  \n",
      " 15  Linear Distance          8200 non-null   float64                   \n",
      " 16  Age 2020                 7668 non-null   Int64                     \n",
      "dtypes: Int64(6), category(2), datetime64[ns, US/Eastern](2), float64(5), object(2)\n",
      "memory usage: 1.1+ MB\n"
     ]
    }
   ],
   "source": [
    "tripdata_samples_per_month.info()"
   ]
  },
  {
   "cell_type": "markdown",
   "metadata": {},
   "source": [
    "### Sortierung"
   ]
  },
  {
   "cell_type": "code",
   "execution_count": 59,
   "metadata": {},
   "outputs": [],
   "source": [
    "tripdata_samples_per_month = tripdata_samples_per_month.sort_values('Start Time')"
   ]
  },
  {
   "cell_type": "code",
   "execution_count": 60,
   "metadata": {},
   "outputs": [
    {
     "data": {
      "text/html": [
       "<div>\n",
       "<style scoped>\n",
       "    .dataframe tbody tr th:only-of-type {\n",
       "        vertical-align: middle;\n",
       "    }\n",
       "\n",
       "    .dataframe tbody tr th {\n",
       "        vertical-align: top;\n",
       "    }\n",
       "\n",
       "    .dataframe thead th {\n",
       "        text-align: right;\n",
       "    }\n",
       "</style>\n",
       "<table border=\"1\" class=\"dataframe\">\n",
       "  <thead>\n",
       "    <tr style=\"text-align: right;\">\n",
       "      <th></th>\n",
       "      <th>Trip Duration</th>\n",
       "      <th>Start Time</th>\n",
       "      <th>Stop Time</th>\n",
       "      <th>Start Station ID</th>\n",
       "      <th>Start Station Name</th>\n",
       "      <th>Start Station Latitude</th>\n",
       "      <th>Start Station Longitude</th>\n",
       "      <th>End Station ID</th>\n",
       "      <th>End Station Name</th>\n",
       "      <th>End Station Latitude</th>\n",
       "      <th>End Station Longitude</th>\n",
       "      <th>Bike ID</th>\n",
       "      <th>User Type</th>\n",
       "      <th>Birth Year</th>\n",
       "      <th>Gender</th>\n",
       "      <th>Linear Distance</th>\n",
       "      <th>Age 2020</th>\n",
       "    </tr>\n",
       "  </thead>\n",
       "  <tbody>\n",
       "    <tr>\n",
       "      <th>16134</th>\n",
       "      <td>299</td>\n",
       "      <td>2013-07-01 22:48:13-04:00</td>\n",
       "      <td>2013-07-01 22:53:12-04:00</td>\n",
       "      <td>396</td>\n",
       "      <td>Lefferts Pl &amp; Franklin Ave</td>\n",
       "      <td>40.68034</td>\n",
       "      <td>-73.95577</td>\n",
       "      <td>275</td>\n",
       "      <td>Washington Ave &amp; Greene Ave</td>\n",
       "      <td>40.68650</td>\n",
       "      <td>-73.96563</td>\n",
       "      <td>15939</td>\n",
       "      <td>Subscriber</td>\n",
       "      <td>1984</td>\n",
       "      <td>1</td>\n",
       "      <td>1.07737</td>\n",
       "      <td>36</td>\n",
       "    </tr>\n",
       "    <tr>\n",
       "      <th>676916</th>\n",
       "      <td>2929</td>\n",
       "      <td>2020-04-30 16:58:18-04:00</td>\n",
       "      <td>2020-04-30 17:47:08-04:00</td>\n",
       "      <td>533</td>\n",
       "      <td>Broadway &amp; W 38 St</td>\n",
       "      <td>40.75300</td>\n",
       "      <td>-73.98722</td>\n",
       "      <td>533</td>\n",
       "      <td>Broadway &amp; W 38 St</td>\n",
       "      <td>40.75300</td>\n",
       "      <td>-73.98722</td>\n",
       "      <td>43273</td>\n",
       "      <td>Subscriber</td>\n",
       "      <td>1962</td>\n",
       "      <td>1</td>\n",
       "      <td>0.00000</td>\n",
       "      <td>58</td>\n",
       "    </tr>\n",
       "  </tbody>\n",
       "</table>\n",
       "</div>"
      ],
      "text/plain": [
       "        Trip Duration                Start Time                 Stop Time  \\\n",
       "16134             299 2013-07-01 22:48:13-04:00 2013-07-01 22:53:12-04:00   \n",
       "676916           2929 2020-04-30 16:58:18-04:00 2020-04-30 17:47:08-04:00   \n",
       "\n",
       "        Start Station ID          Start Station Name  Start Station Latitude  \\\n",
       "16134                396  Lefferts Pl & Franklin Ave                40.68034   \n",
       "676916               533          Broadway & W 38 St                40.75300   \n",
       "\n",
       "        Start Station Longitude  End Station ID             End Station Name  \\\n",
       "16134                 -73.95577             275  Washington Ave & Greene Ave   \n",
       "676916                -73.98722             533           Broadway & W 38 St   \n",
       "\n",
       "        End Station Latitude  End Station Longitude  Bike ID   User Type  \\\n",
       "16134               40.68650              -73.96563    15939  Subscriber   \n",
       "676916              40.75300              -73.98722    43273  Subscriber   \n",
       "\n",
       "        Birth Year Gender  Linear Distance  Age 2020  \n",
       "16134         1984      1          1.07737        36  \n",
       "676916        1962      1          0.00000        58  "
      ]
     },
     "execution_count": 60,
     "metadata": {},
     "output_type": "execute_result"
    }
   ],
   "source": [
    "tripdata_samples_per_month.iloc[[1, -1]]"
   ]
  },
  {
   "cell_type": "markdown",
   "metadata": {},
   "source": [
    "### Export der Daten"
   ]
  },
  {
   "cell_type": "code",
   "execution_count": 61,
   "metadata": {},
   "outputs": [],
   "source": [
    "tripdata_samples_per_month.to_parquet(os.path.join(path, 'samples_per_month-citibike-tripdata.parquet'), index=None)"
   ]
  },
  {
   "cell_type": "code",
   "execution_count": 62,
   "metadata": {},
   "outputs": [],
   "source": [
    "tripdata_samples_per_month.to_csv(os.path.join(path, 'samples_per_month-citibike-tripdata.csv'), index=None)"
   ]
  },
  {
   "cell_type": "markdown",
   "metadata": {},
   "source": [
    "## Für jeden Tag über alle Jahre"
   ]
  },
  {
   "cell_type": "code",
   "execution_count": 63,
   "metadata": {},
   "outputs": [],
   "source": [
    "N_DAY = 10 # Anzahl der Stichproben pro Monat\n",
    "SEED_DAY = 1234567890"
   ]
  },
  {
   "cell_type": "code",
   "execution_count": 64,
   "metadata": {},
   "outputs": [],
   "source": [
    "files_iterator = get_files_iterator(os.path.join(path, 'src'), no_missing_data_file_filter)"
   ]
  },
  {
   "cell_type": "code",
   "execution_count": 65,
   "metadata": {},
   "outputs": [],
   "source": [
    "def get_samples_per_day(number_of_samples, seed, file):\n",
    "    try:\n",
    "        print('Get samples from {}.'.format(file))\n",
    "        df = read(file)\n",
    "        df = fix_missing_data(df)\n",
    "        df = parse_datetimes(file, df)\n",
    "        df = update_tzinfo(df)\n",
    "        \n",
    "        df = add_linear_distance(df)\n",
    "        df = add_age_2020(df)\n",
    "        \n",
    "        df_grouped = df.groupby(df['Start Time'].dt.date)\n",
    "                \n",
    "        # Check number of days to be sure we have all data\n",
    "        _, expected_num_days = monthrange(df['Start Time'].dt.year.unique()[0], df['Start Time'].dt.month.unique()[0])\n",
    "        expected_samples = expected_num_days * number_of_samples\n",
    "        \n",
    "        samples = df_grouped.apply(lambda group_df: group_df.sample(number_of_samples, random_state=seed)).reset_index(drop=True)\n",
    "        if len(samples) != expected_samples:\n",
    "            print('WARN: Got {} samples, but should be {}. Month has {} days, file has {} days of data (file: {})!'.format(len(samples), expected_samples, expected_num_days, len(df_grouped), file))\n",
    "        \n",
    "        return samples\n",
    "    except Exception as e:\n",
    "        print('ERROR: Exception when getting samples for file {}: {}'.format(file, e))"
   ]
  },
  {
   "cell_type": "code",
   "execution_count": 66,
   "metadata": {},
   "outputs": [
    {
     "name": "stdout",
     "output_type": "stream",
     "text": [
      "Get samples from ./../data/citibike/tripdata/src/201706-citibike-tripdata.csv.Get samples from ./../data/citibike/tripdata/src/201510-citibike-tripdata.csv.Get samples from ./../data/citibike/tripdata/src/201311-citibike-tripdata.csv.Get samples from ./../data/citibike/tripdata/src/201902-citibike-tripdata.csv.Get samples from ./../data/citibike/tripdata/src/201905-citibike-tripdata.csv.Get samples from ./../data/citibike/tripdata/src/201912-citibike-tripdata.csv.Get samples from ./../data/citibike/tripdata/src/201810-citibike-tripdata.csv.Get samples from ./../data/citibike/tripdata/src/201405-citibike-tripdata.csv.Get samples from ./../data/citibike/tripdata/src/201412-citibike-tripdata.csv.\n",
      "Get samples from ./../data/citibike/tripdata/src/201605-citibike-tripdata.csv.Get samples from ./../data/citibike/tripdata/src/201309-citibike-tripdata.csv.Get samples from ./../data/citibike/tripdata/src/202004-citibike-tripdata.csv.Get samples from ./../data/citibike/tripdata/src/201606-citibike-tripdata.csv.Get samples from ./../data/citibike/tripdata/src/201307-citibike-tripdata.csv.Get samples from ./../data/citibike/tripdata/src/201508-citibike-tripdata.csv.Get samples from ./../data/citibike/tripdata/src/201811-citibike-tripdata.csv.Get samples from ./../data/citibike/tripdata/src/201407-citibike-tripdata.csv.Get samples from ./../data/citibike/tripdata/src/201909-citibike-tripdata.csv.\n",
      "\n",
      "\n",
      "Get samples from ./../data/citibike/tripdata/src/201609-citibike-tripdata.csv.Get samples from ./../data/citibike/tripdata/src/201910-citibike-tripdata.csv.Get samples from ./../data/citibike/tripdata/src/202002-citibike-tripdata.csv.\n",
      "Get samples from ./../data/citibike/tripdata/src/201808-citibike-tripdata.csv.\n",
      "Get samples from ./../data/citibike/tripdata/src/201601-citibike-tripdata.csv.\n",
      "Get samples from ./../data/citibike/tripdata/src/201504-citibike-tripdata.csv.\n",
      "Get samples from ./../data/citibike/tripdata/src/201906-citibike-tripdata.csv.Get samples from ./../data/citibike/tripdata/src/201607-citibike-tripdata.csv.Get samples from ./../data/citibike/tripdata/src/201907-citibike-tripdata.csv.Get samples from ./../data/citibike/tripdata/src/201712-citibike-tripdata.csv.Get samples from ./../data/citibike/tripdata/src/201806-citibike-tripdata.csv.Get samples from ./../data/citibike/tripdata/src/201512-citibike-tripdata.csv.\n",
      "\n",
      "Get samples from ./../data/citibike/tripdata/src/201409-citibike-tripdata.csv.\n",
      "\n",
      "\n",
      "\n",
      "\n",
      "\n",
      "\n",
      "\n",
      "Get samples from ./../data/citibike/tripdata/src/201703-citibike-tripdata.csv.\n",
      "\n",
      "\n",
      "\n",
      "\n",
      "\n",
      "\n",
      "\n",
      "\n",
      "\n",
      "\n",
      "\n",
      "\n",
      "\n",
      "Get samples from ./../data/citibike/tripdata/src/201702-citibike-tripdata.csv.\n",
      "Get samples from ./../data/citibike/tripdata/src/201602-citibike-tripdata.csv.\n",
      "WARN: Got 280 samples, but should be 310. Month has 31 days, file has 28 days of data (file: ./../data/citibike/tripdata/src/201703-citibike-tripdata.csv)!\n",
      "Get samples from ./../data/citibike/tripdata/src/201803-citibike-tripdata.csv.\n",
      "WARN: Got 270 samples, but should be 310. Month has 31 days, file has 27 days of data (file: ./../data/citibike/tripdata/src/201601-citibike-tripdata.csv)!\n",
      "Get samples from ./../data/citibike/tripdata/src/201707-citibike-tripdata.csv.\n",
      "Get samples from ./../data/citibike/tripdata/src/202003-citibike-tripdata.csv.\n",
      "Get samples from ./../data/citibike/tripdata/src/201410-citibike-tripdata.csv.\n",
      "Get samples from ./../data/citibike/tripdata/src/201308-citibike-tripdata.csv.\n",
      "Get samples from ./../data/citibike/tripdata/src/201804-citibike-tripdata.csv.\n",
      "Get samples from ./../data/citibike/tripdata/src/201608-citibike-tripdata.csv.\n",
      "Get samples from ./../data/citibike/tripdata/src/202001-citibike-tripdata.csv.\n",
      "Get samples from ./../data/citibike/tripdata/src/201802-citibike-tripdata.csv.\n",
      "Get samples from ./../data/citibike/tripdata/src/201408-citibike-tripdata.csv.\n",
      "Get samples from ./../data/citibike/tripdata/src/201505-citibike-tripdata.csv.\n",
      "Get samples from ./../data/citibike/tripdata/src/201709-citibike-tripdata.csv.\n",
      "Get samples from ./../data/citibike/tripdata/src/201411-citibike-tripdata.csv.\n",
      "Get samples from ./../data/citibike/tripdata/src/201805-citibike-tripdata.csv.\n",
      "Get samples from ./../data/citibike/tripdata/src/201904-citibike-tripdata.csv.\n",
      "WARN: Got 270 samples, but should be 280. Month has 28 days, file has 27 days of data (file: ./../data/citibike/tripdata/src/201702-citibike-tripdata.csv)!\n",
      "Get samples from ./../data/citibike/tripdata/src/201506-citibike-tripdata.csv.\n",
      "Get samples from ./../data/citibike/tripdata/src/201502-citibike-tripdata.csv.\n",
      "Get samples from ./../data/citibike/tripdata/src/201705-citibike-tripdata.csv.\n",
      "Get samples from ./../data/citibike/tripdata/src/201801-citibike-tripdata.csv.\n",
      "Get samples from ./../data/citibike/tripdata/src/201901-citibike-tripdata.csv.\n",
      "Get samples from ./../data/citibike/tripdata/src/201603-citibike-tripdata.csv.\n",
      "Get samples from ./../data/citibike/tripdata/src/201310-citibike-tripdata.csv.\n",
      "Get samples from ./../data/citibike/tripdata/src/201612-citibike-tripdata.csv.\n",
      "Get samples from ./../data/citibike/tripdata/src/201903-citibike-tripdata.csv.\n",
      "Get samples from ./../data/citibike/tripdata/src/201809-citibike-tripdata.csv.\n",
      "Get samples from ./../data/citibike/tripdata/src/201312-citibike-tripdata.csv.\n",
      "Get samples from ./../data/citibike/tripdata/src/201503-citibike-tripdata.csv.\n",
      "Get samples from ./../data/citibike/tripdata/src/201604-citibike-tripdata.csv.\n",
      "Get samples from ./../data/citibike/tripdata/src/201403-citibike-tripdata.csv.\n",
      "Get samples from ./../data/citibike/tripdata/src/201708-citibike-tripdata.csv.\n",
      "Get samples from ./../data/citibike/tripdata/src/201509-citibike-tripdata.csv.\n",
      "Get samples from ./../data/citibike/tripdata/src/201610-citibike-tripdata.csv.\n",
      "Get samples from ./../data/citibike/tripdata/src/201911-citibike-tripdata.csv.\n",
      "Get samples from ./../data/citibike/tripdata/src/201501-citibike-tripdata.csv.\n",
      "Get samples from ./../data/citibike/tripdata/src/201812-citibike-tripdata.csv.\n",
      "Get samples from ./../data/citibike/tripdata/src/201402-citibike-tripdata.csv.\n",
      "Get samples from ./../data/citibike/tripdata/src/201704-citibike-tripdata.csv.\n",
      "Get samples from ./../data/citibike/tripdata/src/201710-citibike-tripdata.csv.\n",
      "Get samples from ./../data/citibike/tripdata/src/201711-citibike-tripdata.csv.\n",
      "Get samples from ./../data/citibike/tripdata/src/201807-citibike-tripdata.csv.\n",
      "Get samples from ./../data/citibike/tripdata/src/201401-citibike-tripdata.csv.\n",
      "Get samples from ./../data/citibike/tripdata/src/201611-citibike-tripdata.csv.\n",
      "Get samples from ./../data/citibike/tripdata/src/201404-citibike-tripdata.csv.\n",
      "Get samples from ./../data/citibike/tripdata/src/201701-citibike-tripdata.csv.\n",
      "Get samples from ./../data/citibike/tripdata/src/201507-citibike-tripdata.csv.\n",
      "Get samples from ./../data/citibike/tripdata/src/201406-citibike-tripdata.csv.\n",
      "Get samples from ./../data/citibike/tripdata/src/201511-citibike-tripdata.csv.\n",
      "Get samples from ./../data/citibike/tripdata/src/201908-citibike-tripdata.csv.\n",
      "*** Completed! ***\n"
     ]
    }
   ],
   "source": [
    "func = partial(get_samples_per_day, N_DAY, SEED_DAY)\n",
    "\n",
    "try:\n",
    "    # see https://www.machinelearningplus.com/python/parallel-processing-python/\n",
    "    pool = mp.Pool(mp.cpu_count())\n",
    "    samples_per_day = pool.map(func=func, iterable=files_iterator)\n",
    "finally:\n",
    "    pool.close()\n",
    "    \n",
    "print(\"*** Completed! ***\")"
   ]
  },
  {
   "cell_type": "code",
   "execution_count": 67,
   "metadata": {},
   "outputs": [],
   "source": [
    "tripdata_samples_per_day = pd.concat(samples_per_day)"
   ]
  },
  {
   "cell_type": "code",
   "execution_count": 68,
   "metadata": {},
   "outputs": [
    {
     "data": {
      "text/plain": [
       "(24880, 17)"
      ]
     },
     "execution_count": 68,
     "metadata": {},
     "output_type": "execute_result"
    }
   ],
   "source": [
    "tripdata_samples_per_day.shape"
   ]
  },
  {
   "cell_type": "code",
   "execution_count": 69,
   "metadata": {},
   "outputs": [
    {
     "data": {
      "text/html": [
       "<div>\n",
       "<style scoped>\n",
       "    .dataframe tbody tr th:only-of-type {\n",
       "        vertical-align: middle;\n",
       "    }\n",
       "\n",
       "    .dataframe tbody tr th {\n",
       "        vertical-align: top;\n",
       "    }\n",
       "\n",
       "    .dataframe thead th {\n",
       "        text-align: right;\n",
       "    }\n",
       "</style>\n",
       "<table border=\"1\" class=\"dataframe\">\n",
       "  <thead>\n",
       "    <tr style=\"text-align: right;\">\n",
       "      <th></th>\n",
       "      <th>Count</th>\n",
       "      <th>Percent</th>\n",
       "    </tr>\n",
       "  </thead>\n",
       "  <tbody>\n",
       "    <tr>\n",
       "      <th>Trip Duration</th>\n",
       "      <td>0</td>\n",
       "      <td>0.00000</td>\n",
       "    </tr>\n",
       "    <tr>\n",
       "      <th>Start Time</th>\n",
       "      <td>0</td>\n",
       "      <td>0.00000</td>\n",
       "    </tr>\n",
       "    <tr>\n",
       "      <th>Stop Time</th>\n",
       "      <td>0</td>\n",
       "      <td>0.00000</td>\n",
       "    </tr>\n",
       "    <tr>\n",
       "      <th>Start Station ID</th>\n",
       "      <td>0</td>\n",
       "      <td>0.00000</td>\n",
       "    </tr>\n",
       "    <tr>\n",
       "      <th>Start Station Name</th>\n",
       "      <td>0</td>\n",
       "      <td>0.00000</td>\n",
       "    </tr>\n",
       "    <tr>\n",
       "      <th>Start Station Latitude</th>\n",
       "      <td>0</td>\n",
       "      <td>0.00000</td>\n",
       "    </tr>\n",
       "    <tr>\n",
       "      <th>Start Station Longitude</th>\n",
       "      <td>0</td>\n",
       "      <td>0.00000</td>\n",
       "    </tr>\n",
       "    <tr>\n",
       "      <th>End Station ID</th>\n",
       "      <td>0</td>\n",
       "      <td>0.00000</td>\n",
       "    </tr>\n",
       "    <tr>\n",
       "      <th>End Station Name</th>\n",
       "      <td>0</td>\n",
       "      <td>0.00000</td>\n",
       "    </tr>\n",
       "    <tr>\n",
       "      <th>End Station Latitude</th>\n",
       "      <td>0</td>\n",
       "      <td>0.00000</td>\n",
       "    </tr>\n",
       "    <tr>\n",
       "      <th>End Station Longitude</th>\n",
       "      <td>0</td>\n",
       "      <td>0.00000</td>\n",
       "    </tr>\n",
       "    <tr>\n",
       "      <th>Bike ID</th>\n",
       "      <td>0</td>\n",
       "      <td>0.00000</td>\n",
       "    </tr>\n",
       "    <tr>\n",
       "      <th>User Type</th>\n",
       "      <td>0</td>\n",
       "      <td>0.00000</td>\n",
       "    </tr>\n",
       "    <tr>\n",
       "      <th>Birth Year</th>\n",
       "      <td>1713</td>\n",
       "      <td>6.88505</td>\n",
       "    </tr>\n",
       "    <tr>\n",
       "      <th>Gender</th>\n",
       "      <td>0</td>\n",
       "      <td>0.00000</td>\n",
       "    </tr>\n",
       "    <tr>\n",
       "      <th>Linear Distance</th>\n",
       "      <td>0</td>\n",
       "      <td>0.00000</td>\n",
       "    </tr>\n",
       "    <tr>\n",
       "      <th>Age 2020</th>\n",
       "      <td>1713</td>\n",
       "      <td>6.88505</td>\n",
       "    </tr>\n",
       "  </tbody>\n",
       "</table>\n",
       "</div>"
      ],
      "text/plain": [
       "                         Count  Percent\n",
       "Trip Duration                0  0.00000\n",
       "Start Time                   0  0.00000\n",
       "Stop Time                    0  0.00000\n",
       "Start Station ID             0  0.00000\n",
       "Start Station Name           0  0.00000\n",
       "Start Station Latitude       0  0.00000\n",
       "Start Station Longitude      0  0.00000\n",
       "End Station ID               0  0.00000\n",
       "End Station Name             0  0.00000\n",
       "End Station Latitude         0  0.00000\n",
       "End Station Longitude        0  0.00000\n",
       "Bike ID                      0  0.00000\n",
       "User Type                    0  0.00000\n",
       "Birth Year                1713  6.88505\n",
       "Gender                       0  0.00000\n",
       "Linear Distance              0  0.00000\n",
       "Age 2020                  1713  6.88505"
      ]
     },
     "execution_count": 69,
     "metadata": {},
     "output_type": "execute_result"
    }
   ],
   "source": [
    "missing_values(tripdata_samples_per_day)"
   ]
  },
  {
   "cell_type": "code",
   "execution_count": 70,
   "metadata": {},
   "outputs": [
    {
     "name": "stdout",
     "output_type": "stream",
     "text": [
      "<class 'pandas.core.frame.DataFrame'>\n",
      "Int64Index: 24880 entries, 0 to 309\n",
      "Data columns (total 17 columns):\n",
      " #   Column                   Non-Null Count  Dtype                     \n",
      "---  ------                   --------------  -----                     \n",
      " 0   Trip Duration            24880 non-null  Int64                     \n",
      " 1   Start Time               24880 non-null  datetime64[ns, US/Eastern]\n",
      " 2   Stop Time                24880 non-null  datetime64[ns, US/Eastern]\n",
      " 3   Start Station ID         24880 non-null  Int64                     \n",
      " 4   Start Station Name       24880 non-null  object                    \n",
      " 5   Start Station Latitude   24880 non-null  float64                   \n",
      " 6   Start Station Longitude  24880 non-null  float64                   \n",
      " 7   End Station ID           24880 non-null  Int64                     \n",
      " 8   End Station Name         24880 non-null  object                    \n",
      " 9   End Station Latitude     24880 non-null  float64                   \n",
      " 10  End Station Longitude    24880 non-null  float64                   \n",
      " 11  Bike ID                  24880 non-null  Int64                     \n",
      " 12  User Type                24880 non-null  category                  \n",
      " 13  Birth Year               23167 non-null  Int64                     \n",
      " 14  Gender                   24880 non-null  category                  \n",
      " 15  Linear Distance          24880 non-null  float64                   \n",
      " 16  Age 2020                 23167 non-null  Int64                     \n",
      "dtypes: Int64(6), category(2), datetime64[ns, US/Eastern](2), float64(5), object(2)\n",
      "memory usage: 3.2+ MB\n"
     ]
    }
   ],
   "source": [
    "tripdata_samples_per_day.info()"
   ]
  },
  {
   "cell_type": "code",
   "execution_count": 71,
   "metadata": {},
   "outputs": [
    {
     "data": {
      "text/html": [
       "<div>\n",
       "<style scoped>\n",
       "    .dataframe tbody tr th:only-of-type {\n",
       "        vertical-align: middle;\n",
       "    }\n",
       "\n",
       "    .dataframe tbody tr th {\n",
       "        vertical-align: top;\n",
       "    }\n",
       "\n",
       "    .dataframe thead th {\n",
       "        text-align: right;\n",
       "    }\n",
       "</style>\n",
       "<table border=\"1\" class=\"dataframe\">\n",
       "  <thead>\n",
       "    <tr style=\"text-align: right;\">\n",
       "      <th></th>\n",
       "      <th>Trip Duration</th>\n",
       "      <th>Start Time</th>\n",
       "      <th>Stop Time</th>\n",
       "      <th>Start Station ID</th>\n",
       "      <th>Start Station Name</th>\n",
       "      <th>Start Station Latitude</th>\n",
       "      <th>Start Station Longitude</th>\n",
       "      <th>End Station ID</th>\n",
       "      <th>End Station Name</th>\n",
       "      <th>End Station Latitude</th>\n",
       "      <th>End Station Longitude</th>\n",
       "      <th>Bike ID</th>\n",
       "      <th>User Type</th>\n",
       "      <th>Birth Year</th>\n",
       "      <th>Gender</th>\n",
       "      <th>Linear Distance</th>\n",
       "      <th>Age 2020</th>\n",
       "    </tr>\n",
       "  </thead>\n",
       "  <tbody>\n",
       "    <tr>\n",
       "      <th>0</th>\n",
       "      <td>971</td>\n",
       "      <td>2017-06-01 23:35:37-04:00</td>\n",
       "      <td>2017-06-01 23:51:49-04:00</td>\n",
       "      <td>428</td>\n",
       "      <td>E 3 St &amp; 1 Ave</td>\n",
       "      <td>40.72468</td>\n",
       "      <td>-73.98783</td>\n",
       "      <td>3428</td>\n",
       "      <td>8 Ave &amp; W 16 St</td>\n",
       "      <td>40.74098</td>\n",
       "      <td>-74.00170</td>\n",
       "      <td>14766</td>\n",
       "      <td>Customer</td>\n",
       "      <td>1970</td>\n",
       "      <td>2</td>\n",
       "      <td>2.15703</td>\n",
       "      <td>50</td>\n",
       "    </tr>\n",
       "    <tr>\n",
       "      <th>1</th>\n",
       "      <td>2097</td>\n",
       "      <td>2017-06-01 16:07:59-04:00</td>\n",
       "      <td>2017-06-01 16:42:57-04:00</td>\n",
       "      <td>385</td>\n",
       "      <td>E 55 St &amp; 2 Ave</td>\n",
       "      <td>40.75797</td>\n",
       "      <td>-73.96603</td>\n",
       "      <td>482</td>\n",
       "      <td>W 15 St &amp; 7 Ave</td>\n",
       "      <td>40.73936</td>\n",
       "      <td>-73.99932</td>\n",
       "      <td>25237</td>\n",
       "      <td>Subscriber</td>\n",
       "      <td>1949</td>\n",
       "      <td>1</td>\n",
       "      <td>3.48532</td>\n",
       "      <td>71</td>\n",
       "    </tr>\n",
       "    <tr>\n",
       "      <th>2</th>\n",
       "      <td>1711</td>\n",
       "      <td>2017-06-01 17:41:35-04:00</td>\n",
       "      <td>2017-06-01 18:10:07-04:00</td>\n",
       "      <td>3221</td>\n",
       "      <td>47 Ave &amp; 31 St</td>\n",
       "      <td>40.74300</td>\n",
       "      <td>-73.93561</td>\n",
       "      <td>366</td>\n",
       "      <td>Clinton Ave &amp; Myrtle Ave</td>\n",
       "      <td>40.69326</td>\n",
       "      <td>-73.96890</td>\n",
       "      <td>25676</td>\n",
       "      <td>Subscriber</td>\n",
       "      <td>1980</td>\n",
       "      <td>1</td>\n",
       "      <td>6.20149</td>\n",
       "      <td>40</td>\n",
       "    </tr>\n",
       "    <tr>\n",
       "      <th>3</th>\n",
       "      <td>169</td>\n",
       "      <td>2017-06-01 11:55:45-04:00</td>\n",
       "      <td>2017-06-01 11:58:34-04:00</td>\n",
       "      <td>3117</td>\n",
       "      <td>Franklin St &amp; Dupont St</td>\n",
       "      <td>40.73564</td>\n",
       "      <td>-73.95866</td>\n",
       "      <td>3112</td>\n",
       "      <td>Milton St &amp; Franklin St</td>\n",
       "      <td>40.72906</td>\n",
       "      <td>-73.95779</td>\n",
       "      <td>21264</td>\n",
       "      <td>Subscriber</td>\n",
       "      <td>1989</td>\n",
       "      <td>2</td>\n",
       "      <td>0.73533</td>\n",
       "      <td>31</td>\n",
       "    </tr>\n",
       "    <tr>\n",
       "      <th>4</th>\n",
       "      <td>1776</td>\n",
       "      <td>2017-06-01 11:38:02-04:00</td>\n",
       "      <td>2017-06-01 12:07:39-04:00</td>\n",
       "      <td>3166</td>\n",
       "      <td>Riverside Dr &amp; W 72 St</td>\n",
       "      <td>40.78058</td>\n",
       "      <td>-73.98562</td>\n",
       "      <td>491</td>\n",
       "      <td>E 24 St &amp; Park Ave S</td>\n",
       "      <td>40.74096</td>\n",
       "      <td>-73.98602</td>\n",
       "      <td>29022</td>\n",
       "      <td>Subscriber</td>\n",
       "      <td>1990</td>\n",
       "      <td>2</td>\n",
       "      <td>4.40503</td>\n",
       "      <td>30</td>\n",
       "    </tr>\n",
       "  </tbody>\n",
       "</table>\n",
       "</div>"
      ],
      "text/plain": [
       "   Trip Duration                Start Time                 Stop Time  \\\n",
       "0            971 2017-06-01 23:35:37-04:00 2017-06-01 23:51:49-04:00   \n",
       "1           2097 2017-06-01 16:07:59-04:00 2017-06-01 16:42:57-04:00   \n",
       "2           1711 2017-06-01 17:41:35-04:00 2017-06-01 18:10:07-04:00   \n",
       "3            169 2017-06-01 11:55:45-04:00 2017-06-01 11:58:34-04:00   \n",
       "4           1776 2017-06-01 11:38:02-04:00 2017-06-01 12:07:39-04:00   \n",
       "\n",
       "   Start Station ID       Start Station Name  Start Station Latitude  \\\n",
       "0               428           E 3 St & 1 Ave                40.72468   \n",
       "1               385          E 55 St & 2 Ave                40.75797   \n",
       "2              3221           47 Ave & 31 St                40.74300   \n",
       "3              3117  Franklin St & Dupont St                40.73564   \n",
       "4              3166   Riverside Dr & W 72 St                40.78058   \n",
       "\n",
       "   Start Station Longitude  End Station ID          End Station Name  \\\n",
       "0                -73.98783            3428           8 Ave & W 16 St   \n",
       "1                -73.96603             482           W 15 St & 7 Ave   \n",
       "2                -73.93561             366  Clinton Ave & Myrtle Ave   \n",
       "3                -73.95866            3112   Milton St & Franklin St   \n",
       "4                -73.98562             491      E 24 St & Park Ave S   \n",
       "\n",
       "   End Station Latitude  End Station Longitude  Bike ID   User Type  \\\n",
       "0              40.74098              -74.00170    14766    Customer   \n",
       "1              40.73936              -73.99932    25237  Subscriber   \n",
       "2              40.69326              -73.96890    25676  Subscriber   \n",
       "3              40.72906              -73.95779    21264  Subscriber   \n",
       "4              40.74096              -73.98602    29022  Subscriber   \n",
       "\n",
       "   Birth Year Gender  Linear Distance  Age 2020  \n",
       "0        1970      2          2.15703        50  \n",
       "1        1949      1          3.48532        71  \n",
       "2        1980      1          6.20149        40  \n",
       "3        1989      2          0.73533        31  \n",
       "4        1990      2          4.40503        30  "
      ]
     },
     "execution_count": 71,
     "metadata": {},
     "output_type": "execute_result"
    }
   ],
   "source": [
    "tripdata_samples_per_day.head()"
   ]
  },
  {
   "cell_type": "markdown",
   "metadata": {},
   "source": [
    "### Sortierung"
   ]
  },
  {
   "cell_type": "code",
   "execution_count": 72,
   "metadata": {},
   "outputs": [],
   "source": [
    "tripdata_samples_per_day = tripdata_samples_per_day.sort_values('Start Time')"
   ]
  },
  {
   "cell_type": "code",
   "execution_count": 73,
   "metadata": {},
   "outputs": [
    {
     "data": {
      "text/html": [
       "<div>\n",
       "<style scoped>\n",
       "    .dataframe tbody tr th:only-of-type {\n",
       "        vertical-align: middle;\n",
       "    }\n",
       "\n",
       "    .dataframe tbody tr th {\n",
       "        vertical-align: top;\n",
       "    }\n",
       "\n",
       "    .dataframe thead th {\n",
       "        text-align: right;\n",
       "    }\n",
       "</style>\n",
       "<table border=\"1\" class=\"dataframe\">\n",
       "  <thead>\n",
       "    <tr style=\"text-align: right;\">\n",
       "      <th></th>\n",
       "      <th>Trip Duration</th>\n",
       "      <th>Start Time</th>\n",
       "      <th>Stop Time</th>\n",
       "      <th>Start Station ID</th>\n",
       "      <th>Start Station Name</th>\n",
       "      <th>Start Station Latitude</th>\n",
       "      <th>Start Station Longitude</th>\n",
       "      <th>End Station ID</th>\n",
       "      <th>End Station Name</th>\n",
       "      <th>End Station Latitude</th>\n",
       "      <th>End Station Longitude</th>\n",
       "      <th>Bike ID</th>\n",
       "      <th>User Type</th>\n",
       "      <th>Birth Year</th>\n",
       "      <th>Gender</th>\n",
       "      <th>Linear Distance</th>\n",
       "      <th>Age 2020</th>\n",
       "    </tr>\n",
       "  </thead>\n",
       "  <tbody>\n",
       "    <tr>\n",
       "      <th>5</th>\n",
       "      <td>632</td>\n",
       "      <td>2013-07-01 08:07:51-04:00</td>\n",
       "      <td>2013-07-01 08:18:23-04:00</td>\n",
       "      <td>307</td>\n",
       "      <td>Canal St &amp; Rutgers St</td>\n",
       "      <td>40.71427</td>\n",
       "      <td>-73.98990</td>\n",
       "      <td>305</td>\n",
       "      <td>E 58 St &amp; 3 Ave</td>\n",
       "      <td>40.76096</td>\n",
       "      <td>-73.96724</td>\n",
       "      <td>19190</td>\n",
       "      <td>Subscriber</td>\n",
       "      <td>1987</td>\n",
       "      <td>2</td>\n",
       "      <td>5.53071</td>\n",
       "      <td>33</td>\n",
       "    </tr>\n",
       "    <tr>\n",
       "      <th>292</th>\n",
       "      <td>1044</td>\n",
       "      <td>2020-04-30 19:30:57-04:00</td>\n",
       "      <td>2020-04-30 19:48:22-04:00</td>\n",
       "      <td>3256</td>\n",
       "      <td>Pier 40 - Hudson River Park</td>\n",
       "      <td>40.72771</td>\n",
       "      <td>-74.01130</td>\n",
       "      <td>458</td>\n",
       "      <td>11 Ave &amp; W 27 St</td>\n",
       "      <td>40.75140</td>\n",
       "      <td>-74.00523</td>\n",
       "      <td>27633</td>\n",
       "      <td>Subscriber</td>\n",
       "      <td>1983</td>\n",
       "      <td>2</td>\n",
       "      <td>2.68250</td>\n",
       "      <td>37</td>\n",
       "    </tr>\n",
       "  </tbody>\n",
       "</table>\n",
       "</div>"
      ],
      "text/plain": [
       "     Trip Duration                Start Time                 Stop Time  \\\n",
       "5              632 2013-07-01 08:07:51-04:00 2013-07-01 08:18:23-04:00   \n",
       "292           1044 2020-04-30 19:30:57-04:00 2020-04-30 19:48:22-04:00   \n",
       "\n",
       "     Start Station ID           Start Station Name  Start Station Latitude  \\\n",
       "5                 307        Canal St & Rutgers St                40.71427   \n",
       "292              3256  Pier 40 - Hudson River Park                40.72771   \n",
       "\n",
       "     Start Station Longitude  End Station ID  End Station Name  \\\n",
       "5                  -73.98990             305   E 58 St & 3 Ave   \n",
       "292                -74.01130             458  11 Ave & W 27 St   \n",
       "\n",
       "     End Station Latitude  End Station Longitude  Bike ID   User Type  \\\n",
       "5                40.76096              -73.96724    19190  Subscriber   \n",
       "292              40.75140              -74.00523    27633  Subscriber   \n",
       "\n",
       "     Birth Year Gender  Linear Distance  Age 2020  \n",
       "5          1987      2          5.53071        33  \n",
       "292        1983      2          2.68250        37  "
      ]
     },
     "execution_count": 73,
     "metadata": {},
     "output_type": "execute_result"
    }
   ],
   "source": [
    "tripdata_samples_per_day.iloc[[1, -1]]"
   ]
  },
  {
   "cell_type": "markdown",
   "metadata": {},
   "source": [
    "### Export der Daten"
   ]
  },
  {
   "cell_type": "code",
   "execution_count": 74,
   "metadata": {},
   "outputs": [],
   "source": [
    "tripdata_samples_per_day.to_parquet(os.path.join(path, 'samples_per_day-citibike-tripdata.parquet'), index=None)"
   ]
  },
  {
   "cell_type": "code",
   "execution_count": 75,
   "metadata": {},
   "outputs": [],
   "source": [
    "tripdata_samples_per_day.to_csv(os.path.join(path, 'samples_per_day-citibike-tripdata.csv'), index=None)"
   ]
  },
  {
   "cell_type": "markdown",
   "metadata": {},
   "source": [
    "# Jahresmitglieder"
   ]
  },
  {
   "cell_type": "markdown",
   "metadata": {},
   "source": [
    "## Tägliche Zusammenfassung über alle Jahre"
   ]
  },
  {
   "cell_type": "markdown",
   "metadata": {},
   "source": [
    "Hier wird ein Export über alle Jahre erstellt. Dieser sieht wie folgt aus:\n",
    "\n",
    "* Enthält nur ```User Type == 'Subscriber'```\n",
    "* Enthält nur die Spalten ```Trip Duration```, ```Age 2020``` und ```Linear Distance```\n",
    "* Aggregierte Werte ```mean, std, min, median``` und ```max```\n"
   ]
  },
  {
   "cell_type": "code",
   "execution_count": 76,
   "metadata": {},
   "outputs": [],
   "source": [
    "files_iterator = get_files_iterator(os.path.join(path, 'src'), no_missing_data_file_filter)"
   ]
  },
  {
   "cell_type": "code",
   "execution_count": 77,
   "metadata": {},
   "outputs": [],
   "source": [
    "def get_summary_per_day(file):\n",
    "    try:\n",
    "        print('Get summary from {}.'.format(file))\n",
    "        df = read(file)\n",
    "        \n",
    "        df = df[df['User Type'] == 'Subscriber']\n",
    "        \n",
    "        df = fix_missing_data(df)\n",
    "        df = parse_datetimes(file, df)\n",
    "        df = update_tzinfo(df)\n",
    "        \n",
    "        df = add_linear_distance(df)\n",
    "        df = add_age_2020(df)\n",
    "        \n",
    "        df = clean_up_for_summary(df)\n",
    "        \n",
    "        df_idx = df.set_index(pd.DatetimeIndex(data=df['Start Time'].dt.date, name='Date'))\n",
    "        \n",
    "        df_summary = (\n",
    "            df_idx.groupby(by=['Date'])\n",
    "            [['Trip Duration', 'Linear Distance', 'Age 2020']]\n",
    "            .describe()\n",
    "        )\n",
    "        \n",
    "        # flatten and rename columns\n",
    "        df_summary.columns = df_summary.columns.to_flat_index().map(lambda tup: ' '.join(tup))\n",
    "        \n",
    "        # rename columns\n",
    "        df_summary = df_summary.rename({\n",
    "            'Trip Duration count': 'Trip count',\n",
    "            'Trip Duration 50%': 'Trip Duration median',\n",
    "            'Age 2020 50%': 'Age 2020 median',\n",
    "            'Linear Distance 50%': 'Linear Distance median'\n",
    "        }, axis=1)\n",
    "        \n",
    "        # drop not needed columns\n",
    "        df_summary = df_summary.drop(columns=[\n",
    "            'Trip Duration 25%', 'Trip Duration 75%',\n",
    "            'Age 2020 25%', 'Age 2020 75%',\n",
    "            'Linear Distance count', 'Linear Distance 25%', 'Linear Distance 75%'\n",
    "        ])\n",
    "        \n",
    "        # replace all NaN values with positive infinity\n",
    "        df_summary = df_summary.fillna(np.inf)\n",
    "        \n",
    "        return df_summary\n",
    "    \n",
    "    except Exception as e:\n",
    "        print('ERROR: Exception when getting summary for file {}: {}'.format(file, e))"
   ]
  },
  {
   "cell_type": "code",
   "execution_count": 78,
   "metadata": {},
   "outputs": [
    {
     "name": "stdout",
     "output_type": "stream",
     "text": [
      "Get summary from ./../data/citibike/tripdata/src/201706-citibike-tripdata.csv.Get summary from ./../data/citibike/tripdata/src/201510-citibike-tripdata.csv.Get summary from ./../data/citibike/tripdata/src/201311-citibike-tripdata.csv.Get summary from ./../data/citibike/tripdata/src/201405-citibike-tripdata.csv.Get summary from ./../data/citibike/tripdata/src/201912-citibike-tripdata.csv.Get summary from ./../data/citibike/tripdata/src/201810-citibike-tripdata.csv.Get summary from ./../data/citibike/tripdata/src/201905-citibike-tripdata.csv.Get summary from ./../data/citibike/tripdata/src/201412-citibike-tripdata.csv.Get summary from ./../data/citibike/tripdata/src/201902-citibike-tripdata.csv.Get summary from ./../data/citibike/tripdata/src/201605-citibike-tripdata.csv.Get summary from ./../data/citibike/tripdata/src/202004-citibike-tripdata.csv.Get summary from ./../data/citibike/tripdata/src/201606-citibike-tripdata.csv.Get summary from ./../data/citibike/tripdata/src/201309-citibike-tripdata.csv.Get summary from ./../data/citibike/tripdata/src/201407-citibike-tripdata.csv.Get summary from ./../data/citibike/tripdata/src/201307-citibike-tripdata.csv.Get summary from ./../data/citibike/tripdata/src/201508-citibike-tripdata.csv.Get summary from ./../data/citibike/tripdata/src/201910-citibike-tripdata.csv.\n",
      "Get summary from ./../data/citibike/tripdata/src/201811-citibike-tripdata.csv.\n",
      "Get summary from ./../data/citibike/tripdata/src/201609-citibike-tripdata.csv.\n",
      "Get summary from ./../data/citibike/tripdata/src/201909-citibike-tripdata.csv.Get summary from ./../data/citibike/tripdata/src/201601-citibike-tripdata.csv.\n",
      "Get summary from ./../data/citibike/tripdata/src/201808-citibike-tripdata.csv.Get summary from ./../data/citibike/tripdata/src/202002-citibike-tripdata.csv.Get summary from ./../data/citibike/tripdata/src/201504-citibike-tripdata.csv.Get summary from ./../data/citibike/tripdata/src/201607-citibike-tripdata.csv.Get summary from ./../data/citibike/tripdata/src/201906-citibike-tripdata.csv.Get summary from ./../data/citibike/tripdata/src/201409-citibike-tripdata.csv.Get summary from ./../data/citibike/tripdata/src/201712-citibike-tripdata.csv.\n",
      "\n",
      "\n",
      "\n",
      "Get summary from ./../data/citibike/tripdata/src/201907-citibike-tripdata.csv.Get summary from ./../data/citibike/tripdata/src/201703-citibike-tripdata.csv.\n",
      "\n",
      "Get summary from ./../data/citibike/tripdata/src/201512-citibike-tripdata.csv.\n",
      "\n",
      "\n",
      "Get summary from ./../data/citibike/tripdata/src/201806-citibike-tripdata.csv.\n",
      "\n",
      "\n",
      "\n",
      "\n",
      "\n",
      "\n",
      "\n",
      "\n",
      "\n",
      "\n",
      "\n",
      "\n",
      "\n",
      "\n",
      "\n",
      "\n",
      "\n",
      "\n",
      "Get summary from ./../data/citibike/tripdata/src/201702-citibike-tripdata.csv.\n",
      "Get summary from ./../data/citibike/tripdata/src/201602-citibike-tripdata.csv.\n",
      "Get summary from ./../data/citibike/tripdata/src/201803-citibike-tripdata.csv.\n",
      "Get summary from ./../data/citibike/tripdata/src/201707-citibike-tripdata.csv.\n",
      "Get summary from ./../data/citibike/tripdata/src/202003-citibike-tripdata.csv.\n",
      "Get summary from ./../data/citibike/tripdata/src/201410-citibike-tripdata.csv.\n",
      "Get summary from ./../data/citibike/tripdata/src/201308-citibike-tripdata.csv.\n",
      "Get summary from ./../data/citibike/tripdata/src/201804-citibike-tripdata.csv.Get summary from ./../data/citibike/tripdata/src/201608-citibike-tripdata.csv.\n",
      "\n",
      "Get summary from ./../data/citibike/tripdata/src/202001-citibike-tripdata.csv.\n",
      "Get summary from ./../data/citibike/tripdata/src/201802-citibike-tripdata.csv.\n",
      "Get summary from ./../data/citibike/tripdata/src/201408-citibike-tripdata.csv.\n",
      "Get summary from ./../data/citibike/tripdata/src/201505-citibike-tripdata.csv.\n",
      "Get summary from ./../data/citibike/tripdata/src/201709-citibike-tripdata.csv.\n",
      "Get summary from ./../data/citibike/tripdata/src/201411-citibike-tripdata.csv.\n",
      "Get summary from ./../data/citibike/tripdata/src/201805-citibike-tripdata.csv.\n",
      "Get summary from ./../data/citibike/tripdata/src/201904-citibike-tripdata.csv.\n",
      "Get summary from ./../data/citibike/tripdata/src/201506-citibike-tripdata.csv.\n",
      "Get summary from ./../data/citibike/tripdata/src/201502-citibike-tripdata.csv.\n",
      "Get summary from ./../data/citibike/tripdata/src/201705-citibike-tripdata.csv.\n",
      "Get summary from ./../data/citibike/tripdata/src/201801-citibike-tripdata.csv.\n",
      "Get summary from ./../data/citibike/tripdata/src/201901-citibike-tripdata.csv.\n",
      "Get summary from ./../data/citibike/tripdata/src/201603-citibike-tripdata.csv.\n",
      "Get summary from ./../data/citibike/tripdata/src/201310-citibike-tripdata.csv.\n",
      "Get summary from ./../data/citibike/tripdata/src/201612-citibike-tripdata.csv.\n",
      "Get summary from ./../data/citibike/tripdata/src/201903-citibike-tripdata.csv.\n",
      "Get summary from ./../data/citibike/tripdata/src/201809-citibike-tripdata.csv.\n",
      "Get summary from ./../data/citibike/tripdata/src/201312-citibike-tripdata.csv.\n",
      "Get summary from ./../data/citibike/tripdata/src/201503-citibike-tripdata.csv.\n",
      "Get summary from ./../data/citibike/tripdata/src/201604-citibike-tripdata.csv.\n",
      "Get summary from ./../data/citibike/tripdata/src/201403-citibike-tripdata.csv.\n",
      "Get summary from ./../data/citibike/tripdata/src/201708-citibike-tripdata.csv.\n",
      "Get summary from ./../data/citibike/tripdata/src/201509-citibike-tripdata.csv.\n",
      "Get summary from ./../data/citibike/tripdata/src/201610-citibike-tripdata.csv.\n",
      "Get summary from ./../data/citibike/tripdata/src/201911-citibike-tripdata.csv.\n",
      "Get summary from ./../data/citibike/tripdata/src/201501-citibike-tripdata.csv.\n",
      "Get summary from ./../data/citibike/tripdata/src/201812-citibike-tripdata.csv.\n",
      "Get summary from ./../data/citibike/tripdata/src/201402-citibike-tripdata.csv.\n",
      "Get summary from ./../data/citibike/tripdata/src/201704-citibike-tripdata.csv.\n",
      "Get summary from ./../data/citibike/tripdata/src/201710-citibike-tripdata.csv.\n",
      "Get summary from ./../data/citibike/tripdata/src/201711-citibike-tripdata.csv.\n",
      "Get summary from ./../data/citibike/tripdata/src/201807-citibike-tripdata.csv.\n",
      "Get summary from ./../data/citibike/tripdata/src/201401-citibike-tripdata.csv.\n",
      "Get summary from ./../data/citibike/tripdata/src/201611-citibike-tripdata.csv.\n",
      "Get summary from ./../data/citibike/tripdata/src/201404-citibike-tripdata.csv.\n",
      "Get summary from ./../data/citibike/tripdata/src/201701-citibike-tripdata.csv.\n",
      "Get summary from ./../data/citibike/tripdata/src/201507-citibike-tripdata.csv.\n",
      "Get summary from ./../data/citibike/tripdata/src/201406-citibike-tripdata.csv.\n",
      "Get summary from ./../data/citibike/tripdata/src/201511-citibike-tripdata.csv.\n",
      "Get summary from ./../data/citibike/tripdata/src/201908-citibike-tripdata.csv.\n",
      "*** Completed! ***\n",
      "CPU times: user 209 ms, sys: 241 ms, total: 451 ms\n",
      "Wall time: 58.2 s\n"
     ]
    }
   ],
   "source": [
    "%%time\n",
    "func = partial(get_summary_per_day)\n",
    "\n",
    "try:\n",
    "    # see https://www.machinelearningplus.com/python/parallel-processing-python/\n",
    "    pool = mp.Pool(mp.cpu_count())\n",
    "    summaries_per_day = pool.map(func=func, iterable=files_iterator)\n",
    "finally:\n",
    "    pool.close()\n",
    "    \n",
    "print(\"*** Completed! ***\")"
   ]
  },
  {
   "cell_type": "code",
   "execution_count": 79,
   "metadata": {},
   "outputs": [],
   "source": [
    "summary = pd.concat(summaries_per_day)"
   ]
  },
  {
   "cell_type": "code",
   "execution_count": 80,
   "metadata": {},
   "outputs": [
    {
     "name": "stdout",
     "output_type": "stream",
     "text": [
      "<class 'pandas.core.frame.DataFrame'>\n",
      "DatetimeIndex: 2488 entries, 2017-06-01 to 2019-08-31\n",
      "Data columns (total 17 columns):\n",
      " #   Column                  Non-Null Count  Dtype  \n",
      "---  ------                  --------------  -----  \n",
      " 0   Trip count              2488 non-null   float64\n",
      " 1   Trip Duration mean      2488 non-null   float64\n",
      " 2   Trip Duration std       2488 non-null   float64\n",
      " 3   Trip Duration min       2488 non-null   float64\n",
      " 4   Trip Duration median    2488 non-null   float64\n",
      " 5   Trip Duration max       2488 non-null   float64\n",
      " 6   Linear Distance mean    2488 non-null   float64\n",
      " 7   Linear Distance std     2488 non-null   float64\n",
      " 8   Linear Distance min     2488 non-null   float64\n",
      " 9   Linear Distance median  2488 non-null   float64\n",
      " 10  Linear Distance max     2488 non-null   float64\n",
      " 11  Age 2020 count          2488 non-null   float64\n",
      " 12  Age 2020 mean           2488 non-null   float64\n",
      " 13  Age 2020 std            2488 non-null   float64\n",
      " 14  Age 2020 min            2488 non-null   float64\n",
      " 15  Age 2020 median         2488 non-null   float64\n",
      " 16  Age 2020 max            2488 non-null   float64\n",
      "dtypes: float64(17)\n",
      "memory usage: 349.9 KB\n"
     ]
    }
   ],
   "source": [
    "summary.info()"
   ]
  },
  {
   "cell_type": "code",
   "execution_count": 81,
   "metadata": {},
   "outputs": [
    {
     "data": {
      "text/html": [
       "<div>\n",
       "<style scoped>\n",
       "    .dataframe tbody tr th:only-of-type {\n",
       "        vertical-align: middle;\n",
       "    }\n",
       "\n",
       "    .dataframe tbody tr th {\n",
       "        vertical-align: top;\n",
       "    }\n",
       "\n",
       "    .dataframe thead th {\n",
       "        text-align: right;\n",
       "    }\n",
       "</style>\n",
       "<table border=\"1\" class=\"dataframe\">\n",
       "  <thead>\n",
       "    <tr style=\"text-align: right;\">\n",
       "      <th></th>\n",
       "      <th>Trip count</th>\n",
       "      <th>Trip Duration mean</th>\n",
       "      <th>Trip Duration std</th>\n",
       "      <th>Trip Duration min</th>\n",
       "      <th>Trip Duration median</th>\n",
       "      <th>Trip Duration max</th>\n",
       "      <th>Linear Distance mean</th>\n",
       "      <th>Linear Distance std</th>\n",
       "      <th>Linear Distance min</th>\n",
       "      <th>Linear Distance median</th>\n",
       "      <th>Linear Distance max</th>\n",
       "      <th>Age 2020 count</th>\n",
       "      <th>Age 2020 mean</th>\n",
       "      <th>Age 2020 std</th>\n",
       "      <th>Age 2020 min</th>\n",
       "      <th>Age 2020 median</th>\n",
       "      <th>Age 2020 max</th>\n",
       "    </tr>\n",
       "    <tr>\n",
       "      <th>Date</th>\n",
       "      <th></th>\n",
       "      <th></th>\n",
       "      <th></th>\n",
       "      <th></th>\n",
       "      <th></th>\n",
       "      <th></th>\n",
       "      <th></th>\n",
       "      <th></th>\n",
       "      <th></th>\n",
       "      <th></th>\n",
       "      <th></th>\n",
       "      <th></th>\n",
       "      <th></th>\n",
       "      <th></th>\n",
       "      <th></th>\n",
       "      <th></th>\n",
       "      <th></th>\n",
       "    </tr>\n",
       "  </thead>\n",
       "  <tbody>\n",
       "    <tr>\n",
       "      <th>2017-06-01</th>\n",
       "      <td>60293.00000</td>\n",
       "      <td>791.96826</td>\n",
       "      <td>681.73947</td>\n",
       "      <td>61.00000</td>\n",
       "      <td>618.00000</td>\n",
       "      <td>21157.00000</td>\n",
       "      <td>1.93340</td>\n",
       "      <td>1.49338</td>\n",
       "      <td>0.00000</td>\n",
       "      <td>1.49237</td>\n",
       "      <td>12.16096</td>\n",
       "      <td>60293.00000</td>\n",
       "      <td>41.76584</td>\n",
       "      <td>11.51648</td>\n",
       "      <td>19.00000</td>\n",
       "      <td>39.00000</td>\n",
       "      <td>81.00000</td>\n",
       "    </tr>\n",
       "    <tr>\n",
       "      <th>2017-06-02</th>\n",
       "      <td>58542.00000</td>\n",
       "      <td>793.63107</td>\n",
       "      <td>688.89313</td>\n",
       "      <td>61.00000</td>\n",
       "      <td>617.00000</td>\n",
       "      <td>21474.00000</td>\n",
       "      <td>1.91491</td>\n",
       "      <td>1.48385</td>\n",
       "      <td>0.00000</td>\n",
       "      <td>1.47918</td>\n",
       "      <td>12.29248</td>\n",
       "      <td>58542.00000</td>\n",
       "      <td>41.61809</td>\n",
       "      <td>11.46294</td>\n",
       "      <td>19.00000</td>\n",
       "      <td>39.00000</td>\n",
       "      <td>81.00000</td>\n",
       "    </tr>\n",
       "    <tr>\n",
       "      <th>2017-06-03</th>\n",
       "      <td>41904.00000</td>\n",
       "      <td>866.65989</td>\n",
       "      <td>806.69600</td>\n",
       "      <td>61.00000</td>\n",
       "      <td>653.00000</td>\n",
       "      <td>21012.00000</td>\n",
       "      <td>1.85611</td>\n",
       "      <td>1.44386</td>\n",
       "      <td>0.00000</td>\n",
       "      <td>1.44084</td>\n",
       "      <td>11.62966</td>\n",
       "      <td>41904.00000</td>\n",
       "      <td>40.13393</td>\n",
       "      <td>11.42219</td>\n",
       "      <td>19.00000</td>\n",
       "      <td>37.00000</td>\n",
       "      <td>81.00000</td>\n",
       "    </tr>\n",
       "    <tr>\n",
       "      <th>2017-06-04</th>\n",
       "      <td>31726.00000</td>\n",
       "      <td>750.43888</td>\n",
       "      <td>684.47891</td>\n",
       "      <td>61.00000</td>\n",
       "      <td>559.00000</td>\n",
       "      <td>20446.00000</td>\n",
       "      <td>1.71003</td>\n",
       "      <td>1.36218</td>\n",
       "      <td>0.00000</td>\n",
       "      <td>1.32365</td>\n",
       "      <td>11.92261</td>\n",
       "      <td>31726.00000</td>\n",
       "      <td>40.15183</td>\n",
       "      <td>11.48919</td>\n",
       "      <td>19.00000</td>\n",
       "      <td>37.00000</td>\n",
       "      <td>81.00000</td>\n",
       "    </tr>\n",
       "    <tr>\n",
       "      <th>2017-06-05</th>\n",
       "      <td>50467.00000</td>\n",
       "      <td>741.58040</td>\n",
       "      <td>641.86686</td>\n",
       "      <td>61.00000</td>\n",
       "      <td>579.00000</td>\n",
       "      <td>20031.00000</td>\n",
       "      <td>1.86255</td>\n",
       "      <td>1.44175</td>\n",
       "      <td>0.00000</td>\n",
       "      <td>1.44045</td>\n",
       "      <td>12.36993</td>\n",
       "      <td>50467.00000</td>\n",
       "      <td>41.70351</td>\n",
       "      <td>11.56331</td>\n",
       "      <td>19.00000</td>\n",
       "      <td>39.00000</td>\n",
       "      <td>81.00000</td>\n",
       "    </tr>\n",
       "  </tbody>\n",
       "</table>\n",
       "</div>"
      ],
      "text/plain": [
       "            Trip count  Trip Duration mean  Trip Duration std  \\\n",
       "Date                                                            \n",
       "2017-06-01 60293.00000           791.96826          681.73947   \n",
       "2017-06-02 58542.00000           793.63107          688.89313   \n",
       "2017-06-03 41904.00000           866.65989          806.69600   \n",
       "2017-06-04 31726.00000           750.43888          684.47891   \n",
       "2017-06-05 50467.00000           741.58040          641.86686   \n",
       "\n",
       "            Trip Duration min  Trip Duration median  Trip Duration max  \\\n",
       "Date                                                                     \n",
       "2017-06-01           61.00000             618.00000        21157.00000   \n",
       "2017-06-02           61.00000             617.00000        21474.00000   \n",
       "2017-06-03           61.00000             653.00000        21012.00000   \n",
       "2017-06-04           61.00000             559.00000        20446.00000   \n",
       "2017-06-05           61.00000             579.00000        20031.00000   \n",
       "\n",
       "            Linear Distance mean  Linear Distance std  Linear Distance min  \\\n",
       "Date                                                                         \n",
       "2017-06-01               1.93340              1.49338              0.00000   \n",
       "2017-06-02               1.91491              1.48385              0.00000   \n",
       "2017-06-03               1.85611              1.44386              0.00000   \n",
       "2017-06-04               1.71003              1.36218              0.00000   \n",
       "2017-06-05               1.86255              1.44175              0.00000   \n",
       "\n",
       "            Linear Distance median  Linear Distance max  Age 2020 count  \\\n",
       "Date                                                                      \n",
       "2017-06-01                 1.49237             12.16096     60293.00000   \n",
       "2017-06-02                 1.47918             12.29248     58542.00000   \n",
       "2017-06-03                 1.44084             11.62966     41904.00000   \n",
       "2017-06-04                 1.32365             11.92261     31726.00000   \n",
       "2017-06-05                 1.44045             12.36993     50467.00000   \n",
       "\n",
       "            Age 2020 mean  Age 2020 std  Age 2020 min  Age 2020 median  \\\n",
       "Date                                                                     \n",
       "2017-06-01       41.76584      11.51648      19.00000         39.00000   \n",
       "2017-06-02       41.61809      11.46294      19.00000         39.00000   \n",
       "2017-06-03       40.13393      11.42219      19.00000         37.00000   \n",
       "2017-06-04       40.15183      11.48919      19.00000         37.00000   \n",
       "2017-06-05       41.70351      11.56331      19.00000         39.00000   \n",
       "\n",
       "            Age 2020 max  \n",
       "Date                      \n",
       "2017-06-01      81.00000  \n",
       "2017-06-02      81.00000  \n",
       "2017-06-03      81.00000  \n",
       "2017-06-04      81.00000  \n",
       "2017-06-05      81.00000  "
      ]
     },
     "execution_count": 81,
     "metadata": {},
     "output_type": "execute_result"
    }
   ],
   "source": [
    "summary.head()"
   ]
  },
  {
   "cell_type": "code",
   "execution_count": 82,
   "metadata": {},
   "outputs": [],
   "source": [
    "assert (summary.isna().any(axis=1).sum() == 0), 'Missing values found!'"
   ]
  },
  {
   "cell_type": "markdown",
   "metadata": {},
   "source": [
    "### Sortierung"
   ]
  },
  {
   "cell_type": "code",
   "execution_count": 83,
   "metadata": {},
   "outputs": [],
   "source": [
    "summary = summary.sort_index()"
   ]
  },
  {
   "cell_type": "code",
   "execution_count": 84,
   "metadata": {},
   "outputs": [
    {
     "data": {
      "text/html": [
       "<div>\n",
       "<style scoped>\n",
       "    .dataframe tbody tr th:only-of-type {\n",
       "        vertical-align: middle;\n",
       "    }\n",
       "\n",
       "    .dataframe tbody tr th {\n",
       "        vertical-align: top;\n",
       "    }\n",
       "\n",
       "    .dataframe thead th {\n",
       "        text-align: right;\n",
       "    }\n",
       "</style>\n",
       "<table border=\"1\" class=\"dataframe\">\n",
       "  <thead>\n",
       "    <tr style=\"text-align: right;\">\n",
       "      <th></th>\n",
       "      <th>Trip count</th>\n",
       "      <th>Trip Duration mean</th>\n",
       "      <th>Trip Duration std</th>\n",
       "      <th>Trip Duration min</th>\n",
       "      <th>Trip Duration median</th>\n",
       "      <th>Trip Duration max</th>\n",
       "      <th>Linear Distance mean</th>\n",
       "      <th>Linear Distance std</th>\n",
       "      <th>Linear Distance min</th>\n",
       "      <th>Linear Distance median</th>\n",
       "      <th>Linear Distance max</th>\n",
       "      <th>Age 2020 count</th>\n",
       "      <th>Age 2020 mean</th>\n",
       "      <th>Age 2020 std</th>\n",
       "      <th>Age 2020 min</th>\n",
       "      <th>Age 2020 median</th>\n",
       "      <th>Age 2020 max</th>\n",
       "    </tr>\n",
       "    <tr>\n",
       "      <th>Date</th>\n",
       "      <th></th>\n",
       "      <th></th>\n",
       "      <th></th>\n",
       "      <th></th>\n",
       "      <th></th>\n",
       "      <th></th>\n",
       "      <th></th>\n",
       "      <th></th>\n",
       "      <th></th>\n",
       "      <th></th>\n",
       "      <th></th>\n",
       "      <th></th>\n",
       "      <th></th>\n",
       "      <th></th>\n",
       "      <th></th>\n",
       "      <th></th>\n",
       "      <th></th>\n",
       "    </tr>\n",
       "  </thead>\n",
       "  <tbody>\n",
       "    <tr>\n",
       "      <th>2013-07-02</th>\n",
       "      <td>18641.00000</td>\n",
       "      <td>809.20809</td>\n",
       "      <td>706.63899</td>\n",
       "      <td>60.00000</td>\n",
       "      <td>649.00000</td>\n",
       "      <td>19715.00000</td>\n",
       "      <td>2.03158</td>\n",
       "      <td>1.52694</td>\n",
       "      <td>0.00000</td>\n",
       "      <td>1.59272</td>\n",
       "      <td>10.38871</td>\n",
       "      <td>18641.00000</td>\n",
       "      <td>45.20562</td>\n",
       "      <td>10.65699</td>\n",
       "      <td>23.00000</td>\n",
       "      <td>43.00000</td>\n",
       "      <td>81.00000</td>\n",
       "    </tr>\n",
       "    <tr>\n",
       "      <th>2020-04-30</th>\n",
       "      <td>12297.00000</td>\n",
       "      <td>899.94633</td>\n",
       "      <td>879.19177</td>\n",
       "      <td>61.00000</td>\n",
       "      <td>640.00000</td>\n",
       "      <td>19953.00000</td>\n",
       "      <td>1.77484</td>\n",
       "      <td>1.67552</td>\n",
       "      <td>0.00000</td>\n",
       "      <td>1.27195</td>\n",
       "      <td>16.66022</td>\n",
       "      <td>12297.00000</td>\n",
       "      <td>40.64471</td>\n",
       "      <td>12.09568</td>\n",
       "      <td>17.00000</td>\n",
       "      <td>38.00000</td>\n",
       "      <td>81.00000</td>\n",
       "    </tr>\n",
       "  </tbody>\n",
       "</table>\n",
       "</div>"
      ],
      "text/plain": [
       "            Trip count  Trip Duration mean  Trip Duration std  \\\n",
       "Date                                                            \n",
       "2013-07-02 18641.00000           809.20809          706.63899   \n",
       "2020-04-30 12297.00000           899.94633          879.19177   \n",
       "\n",
       "            Trip Duration min  Trip Duration median  Trip Duration max  \\\n",
       "Date                                                                     \n",
       "2013-07-02           60.00000             649.00000        19715.00000   \n",
       "2020-04-30           61.00000             640.00000        19953.00000   \n",
       "\n",
       "            Linear Distance mean  Linear Distance std  Linear Distance min  \\\n",
       "Date                                                                         \n",
       "2013-07-02               2.03158              1.52694              0.00000   \n",
       "2020-04-30               1.77484              1.67552              0.00000   \n",
       "\n",
       "            Linear Distance median  Linear Distance max  Age 2020 count  \\\n",
       "Date                                                                      \n",
       "2013-07-02                 1.59272             10.38871     18641.00000   \n",
       "2020-04-30                 1.27195             16.66022     12297.00000   \n",
       "\n",
       "            Age 2020 mean  Age 2020 std  Age 2020 min  Age 2020 median  \\\n",
       "Date                                                                     \n",
       "2013-07-02       45.20562      10.65699      23.00000         43.00000   \n",
       "2020-04-30       40.64471      12.09568      17.00000         38.00000   \n",
       "\n",
       "            Age 2020 max  \n",
       "Date                      \n",
       "2013-07-02      81.00000  \n",
       "2020-04-30      81.00000  "
      ]
     },
     "execution_count": 84,
     "metadata": {},
     "output_type": "execute_result"
    }
   ],
   "source": [
    "summary.iloc[[1, -1]]"
   ]
  },
  {
   "cell_type": "markdown",
   "metadata": {},
   "source": [
    "### Export der Daten"
   ]
  },
  {
   "cell_type": "code",
   "execution_count": 85,
   "metadata": {},
   "outputs": [],
   "source": [
    "summary.to_parquet(os.path.join(path, 'summary-daily-subscribers_only-citibike-tripdata.parquet'), index=True)"
   ]
  },
  {
   "cell_type": "code",
   "execution_count": 86,
   "metadata": {},
   "outputs": [],
   "source": [
    "summary.to_csv(os.path.join(path, 'summary-daily-subscribers_only-citibike-tripdata.csv'), index=True)"
   ]
  },
  {
   "cell_type": "markdown",
   "metadata": {},
   "source": [
    "## Tägliche Zusammenfassung über alle Jahre und zusätzlich gruppiert nach Geschlecht"
   ]
  },
  {
   "cell_type": "markdown",
   "metadata": {},
   "source": [
    "Hier wird ein Export über alle Jahre erstellt. Dieser sieht wie folgt aus:\n",
    "\n",
    "* Enthält nur ```User Type == 'Subscriber'```\n",
    "* Gruppiert nach ```Date``` (entnommen aus ```Start Time```) und ```Gender```\n",
    "* Enthält nur die Spalten ```Trip Duration```, ```Linear Distance``` und ```Birth Year```\n",
    "* Aggregation mit ```count, mean, std, min, median``` und ```max```"
   ]
  },
  {
   "cell_type": "code",
   "execution_count": 87,
   "metadata": {},
   "outputs": [],
   "source": [
    "files_iterator = get_files_iterator(os.path.join(path, 'src'), no_missing_data_file_filter)"
   ]
  },
  {
   "cell_type": "code",
   "execution_count": 88,
   "metadata": {},
   "outputs": [],
   "source": [
    "def get_summary_per_day_grouped(file):\n",
    "    try:\n",
    "        print('Get summary from {}.'.format(file))\n",
    "        df = read(file)\n",
    "        \n",
    "        df = df[df['User Type'] == 'Subscriber']\n",
    "        \n",
    "        df = fix_missing_data(df)\n",
    "        df = parse_datetimes(file, df)\n",
    "        df = update_tzinfo(df)\n",
    "        \n",
    "        df = add_linear_distance(df)\n",
    "        df = add_age_2020(df)\n",
    "        \n",
    "        df = clean_up_for_summary(df)\n",
    "        \n",
    "        df_idx = df.set_index(pd.DatetimeIndex(data=df['Start Time'].dt.date, name='Date'))\n",
    "        df_summary_grouped = (df_idx.groupby(by=['Date', 'Gender'])\n",
    "             [['Trip Duration', 'Linear Distance', 'Age 2020']]\n",
    "                 .describe()\n",
    "        )\n",
    "        # flatten and rename columns\n",
    "        df_summary_grouped.columns = df_summary_grouped.columns.to_flat_index().map(lambda tup: ' '.join(tup))\n",
    "        \n",
    "         # rename columns\n",
    "        df_summary_grouped = df_summary_grouped.rename({\n",
    "            'Trip Duration count': 'Trip count',\n",
    "            'Trip Duration 50%': 'Trip Duration median',\n",
    "            'Age 2020 50%': 'Age 2020 median',\n",
    "            'Linear Distance 50%': 'Linear Distance median'\n",
    "        }, axis=1)\n",
    "        \n",
    "        # drop not needed columns\n",
    "        df_summary_grouped = df_summary_grouped.drop(columns=[\n",
    "            'Trip Duration 25%', 'Trip Duration 75%',\n",
    "            'Age 2020 25%', 'Age 2020 75%',\n",
    "            'Linear Distance count', 'Linear Distance 25%', 'Linear Distance 75%'\n",
    "        ])\n",
    "        \n",
    "        # replace all NaN values with 0.0\n",
    "        df_summary_grouped = df_summary_grouped.fillna(0.0)\n",
    "        \n",
    "        return df_summary_grouped\n",
    "    \n",
    "    except Exception as e:\n",
    "        print('ERROR: Exception when getting summary for file {}: {}'.format(file, e))"
   ]
  },
  {
   "cell_type": "code",
   "execution_count": 89,
   "metadata": {},
   "outputs": [
    {
     "name": "stdout",
     "output_type": "stream",
     "text": [
      "Get summary from ./../data/citibike/tripdata/src/201311-citibike-tripdata.csv.Get summary from ./../data/citibike/tripdata/src/201510-citibike-tripdata.csv.Get summary from ./../data/citibike/tripdata/src/201912-citibike-tripdata.csv.Get summary from ./../data/citibike/tripdata/src/201405-citibike-tripdata.csv.Get summary from ./../data/citibike/tripdata/src/201706-citibike-tripdata.csv.Get summary from ./../data/citibike/tripdata/src/201810-citibike-tripdata.csv.Get summary from ./../data/citibike/tripdata/src/201412-citibike-tripdata.csv.Get summary from ./../data/citibike/tripdata/src/201811-citibike-tripdata.csv.Get summary from ./../data/citibike/tripdata/src/201902-citibike-tripdata.csv.Get summary from ./../data/citibike/tripdata/src/201605-citibike-tripdata.csv.Get summary from ./../data/citibike/tripdata/src/202004-citibike-tripdata.csv.Get summary from ./../data/citibike/tripdata/src/201905-citibike-tripdata.csv.Get summary from ./../data/citibike/tripdata/src/201309-citibike-tripdata.csv.Get summary from ./../data/citibike/tripdata/src/201909-citibike-tripdata.csv.Get summary from ./../data/citibike/tripdata/src/201508-citibike-tripdata.csv.\n",
      "Get summary from ./../data/citibike/tripdata/src/201606-citibike-tripdata.csv.\n",
      "Get summary from ./../data/citibike/tripdata/src/201407-citibike-tripdata.csv.Get summary from ./../data/citibike/tripdata/src/201307-citibike-tripdata.csv.\n",
      "Get summary from ./../data/citibike/tripdata/src/201910-citibike-tripdata.csv.Get summary from ./../data/citibike/tripdata/src/201609-citibike-tripdata.csv.Get summary from ./../data/citibike/tripdata/src/201601-citibike-tripdata.csv.Get summary from ./../data/citibike/tripdata/src/201808-citibike-tripdata.csv.\n",
      "\n",
      "\n",
      "Get summary from ./../data/citibike/tripdata/src/202002-citibike-tripdata.csv.\n",
      "Get summary from ./../data/citibike/tripdata/src/201906-citibike-tripdata.csv.Get summary from ./../data/citibike/tripdata/src/201504-citibike-tripdata.csv.Get summary from ./../data/citibike/tripdata/src/201409-citibike-tripdata.csv.Get summary from ./../data/citibike/tripdata/src/201607-citibike-tripdata.csv.\n",
      "\n",
      "Get summary from ./../data/citibike/tripdata/src/201712-citibike-tripdata.csv.Get summary from ./../data/citibike/tripdata/src/201512-citibike-tripdata.csv.Get summary from ./../data/citibike/tripdata/src/201907-citibike-tripdata.csv.Get summary from ./../data/citibike/tripdata/src/201806-citibike-tripdata.csv.\n",
      "\n",
      "Get summary from ./../data/citibike/tripdata/src/201703-citibike-tripdata.csv.\n",
      "\n",
      "\n",
      "\n",
      "\n",
      "\n",
      "\n",
      "\n",
      "\n",
      "\n",
      "\n",
      "\n",
      "\n",
      "\n",
      "\n",
      "\n",
      "\n",
      "\n",
      "\n",
      "\n",
      "\n",
      "Get summary from ./../data/citibike/tripdata/src/201702-citibike-tripdata.csv.\n",
      "Get summary from ./../data/citibike/tripdata/src/201602-citibike-tripdata.csv.\n",
      "Get summary from ./../data/citibike/tripdata/src/201803-citibike-tripdata.csv.\n",
      "Get summary from ./../data/citibike/tripdata/src/201707-citibike-tripdata.csv.\n",
      "Get summary from ./../data/citibike/tripdata/src/202003-citibike-tripdata.csv.\n",
      "Get summary from ./../data/citibike/tripdata/src/201410-citibike-tripdata.csv.\n",
      "Get summary from ./../data/citibike/tripdata/src/201308-citibike-tripdata.csv.\n",
      "Get summary from ./../data/citibike/tripdata/src/201804-citibike-tripdata.csv.\n",
      "Get summary from ./../data/citibike/tripdata/src/201608-citibike-tripdata.csv.\n",
      "Get summary from ./../data/citibike/tripdata/src/202001-citibike-tripdata.csv.\n",
      "Get summary from ./../data/citibike/tripdata/src/201802-citibike-tripdata.csv.\n",
      "Get summary from ./../data/citibike/tripdata/src/201408-citibike-tripdata.csv.\n",
      "Get summary from ./../data/citibike/tripdata/src/201505-citibike-tripdata.csv.\n",
      "Get summary from ./../data/citibike/tripdata/src/201709-citibike-tripdata.csv.\n",
      "Get summary from ./../data/citibike/tripdata/src/201411-citibike-tripdata.csv.\n",
      "Get summary from ./../data/citibike/tripdata/src/201805-citibike-tripdata.csv.\n",
      "Get summary from ./../data/citibike/tripdata/src/201904-citibike-tripdata.csv.\n",
      "Get summary from ./../data/citibike/tripdata/src/201506-citibike-tripdata.csv.\n",
      "Get summary from ./../data/citibike/tripdata/src/201502-citibike-tripdata.csv.\n",
      "Get summary from ./../data/citibike/tripdata/src/201705-citibike-tripdata.csv.\n",
      "Get summary from ./../data/citibike/tripdata/src/201801-citibike-tripdata.csv.\n",
      "Get summary from ./../data/citibike/tripdata/src/201901-citibike-tripdata.csv.\n",
      "Get summary from ./../data/citibike/tripdata/src/201603-citibike-tripdata.csv.\n",
      "Get summary from ./../data/citibike/tripdata/src/201310-citibike-tripdata.csv.\n",
      "Get summary from ./../data/citibike/tripdata/src/201612-citibike-tripdata.csv.\n",
      "Get summary from ./../data/citibike/tripdata/src/201903-citibike-tripdata.csv.\n",
      "Get summary from ./../data/citibike/tripdata/src/201809-citibike-tripdata.csv.\n",
      "Get summary from ./../data/citibike/tripdata/src/201312-citibike-tripdata.csv.\n",
      "Get summary from ./../data/citibike/tripdata/src/201503-citibike-tripdata.csv.\n",
      "Get summary from ./../data/citibike/tripdata/src/201604-citibike-tripdata.csv.\n",
      "Get summary from ./../data/citibike/tripdata/src/201403-citibike-tripdata.csv.\n",
      "Get summary from ./../data/citibike/tripdata/src/201708-citibike-tripdata.csv.\n",
      "Get summary from ./../data/citibike/tripdata/src/201509-citibike-tripdata.csv.\n",
      "Get summary from ./../data/citibike/tripdata/src/201610-citibike-tripdata.csv.\n",
      "Get summary from ./../data/citibike/tripdata/src/201911-citibike-tripdata.csv.\n",
      "Get summary from ./../data/citibike/tripdata/src/201501-citibike-tripdata.csv.\n",
      "Get summary from ./../data/citibike/tripdata/src/201812-citibike-tripdata.csv.\n",
      "Get summary from ./../data/citibike/tripdata/src/201402-citibike-tripdata.csv.\n",
      "Get summary from ./../data/citibike/tripdata/src/201704-citibike-tripdata.csv.\n",
      "Get summary from ./../data/citibike/tripdata/src/201710-citibike-tripdata.csv.\n",
      "Get summary from ./../data/citibike/tripdata/src/201711-citibike-tripdata.csv.\n",
      "Get summary from ./../data/citibike/tripdata/src/201807-citibike-tripdata.csv.\n",
      "Get summary from ./../data/citibike/tripdata/src/201401-citibike-tripdata.csv.\n",
      "Get summary from ./../data/citibike/tripdata/src/201611-citibike-tripdata.csv.Get summary from ./../data/citibike/tripdata/src/201404-citibike-tripdata.csv.\n",
      "\n",
      "Get summary from ./../data/citibike/tripdata/src/201701-citibike-tripdata.csv.\n",
      "Get summary from ./../data/citibike/tripdata/src/201507-citibike-tripdata.csv.\n",
      "Get summary from ./../data/citibike/tripdata/src/201406-citibike-tripdata.csv.\n",
      "Get summary from ./../data/citibike/tripdata/src/201511-citibike-tripdata.csv.\n",
      "Get summary from ./../data/citibike/tripdata/src/201908-citibike-tripdata.csv.\n",
      "*** Completed! ***\n",
      "CPU times: user 422 ms, sys: 317 ms, total: 739 ms\n",
      "Wall time: 58.1 s\n"
     ]
    }
   ],
   "source": [
    "%%time\n",
    "func = partial(get_summary_per_day_grouped)\n",
    "\n",
    "try:\n",
    "    # see https://www.machinelearningplus.com/python/parallel-processing-python/\n",
    "    pool = mp.Pool(mp.cpu_count())\n",
    "    summaries_per_day_grouped = pool.map(func=func, iterable=files_iterator)\n",
    "finally:\n",
    "    pool.close()\n",
    "    \n",
    "print(\"*** Completed! ***\")"
   ]
  },
  {
   "cell_type": "code",
   "execution_count": 90,
   "metadata": {},
   "outputs": [],
   "source": [
    "summary_grouped = pd.concat(summaries_per_day_grouped)"
   ]
  },
  {
   "cell_type": "code",
   "execution_count": 91,
   "metadata": {},
   "outputs": [
    {
     "name": "stdout",
     "output_type": "stream",
     "text": [
      "<class 'pandas.core.frame.DataFrame'>\n",
      "MultiIndex: 7277 entries, (Timestamp('2017-06-01 00:00:00'), '0') to (Timestamp('2019-08-31 00:00:00'), '2')\n",
      "Data columns (total 17 columns):\n",
      " #   Column                  Non-Null Count  Dtype  \n",
      "---  ------                  --------------  -----  \n",
      " 0   Trip count              7277 non-null   float64\n",
      " 1   Trip Duration mean      7277 non-null   float64\n",
      " 2   Trip Duration std       7277 non-null   float64\n",
      " 3   Trip Duration min       7277 non-null   float64\n",
      " 4   Trip Duration median    7277 non-null   float64\n",
      " 5   Trip Duration max       7277 non-null   float64\n",
      " 6   Linear Distance mean    7277 non-null   float64\n",
      " 7   Linear Distance std     7277 non-null   float64\n",
      " 8   Linear Distance min     7277 non-null   float64\n",
      " 9   Linear Distance median  7277 non-null   float64\n",
      " 10  Linear Distance max     7277 non-null   float64\n",
      " 11  Age 2020 count          7277 non-null   float64\n",
      " 12  Age 2020 mean           7277 non-null   float64\n",
      " 13  Age 2020 std            7277 non-null   float64\n",
      " 14  Age 2020 min            7277 non-null   float64\n",
      " 15  Age 2020 median         7277 non-null   float64\n",
      " 16  Age 2020 max            7277 non-null   float64\n",
      "dtypes: float64(17)\n",
      "memory usage: 1007.4 KB\n"
     ]
    }
   ],
   "source": [
    "summary_grouped.info()"
   ]
  },
  {
   "cell_type": "code",
   "execution_count": 92,
   "metadata": {},
   "outputs": [
    {
     "data": {
      "text/html": [
       "<div>\n",
       "<style scoped>\n",
       "    .dataframe tbody tr th:only-of-type {\n",
       "        vertical-align: middle;\n",
       "    }\n",
       "\n",
       "    .dataframe tbody tr th {\n",
       "        vertical-align: top;\n",
       "    }\n",
       "\n",
       "    .dataframe thead th {\n",
       "        text-align: right;\n",
       "    }\n",
       "</style>\n",
       "<table border=\"1\" class=\"dataframe\">\n",
       "  <thead>\n",
       "    <tr style=\"text-align: right;\">\n",
       "      <th></th>\n",
       "      <th></th>\n",
       "      <th>Trip count</th>\n",
       "      <th>Trip Duration mean</th>\n",
       "      <th>Trip Duration std</th>\n",
       "      <th>Trip Duration min</th>\n",
       "      <th>Trip Duration median</th>\n",
       "      <th>Trip Duration max</th>\n",
       "      <th>Linear Distance mean</th>\n",
       "      <th>Linear Distance std</th>\n",
       "      <th>Linear Distance min</th>\n",
       "      <th>Linear Distance median</th>\n",
       "      <th>Linear Distance max</th>\n",
       "      <th>Age 2020 count</th>\n",
       "      <th>Age 2020 mean</th>\n",
       "      <th>Age 2020 std</th>\n",
       "      <th>Age 2020 min</th>\n",
       "      <th>Age 2020 median</th>\n",
       "      <th>Age 2020 max</th>\n",
       "    </tr>\n",
       "    <tr>\n",
       "      <th>Date</th>\n",
       "      <th>Gender</th>\n",
       "      <th></th>\n",
       "      <th></th>\n",
       "      <th></th>\n",
       "      <th></th>\n",
       "      <th></th>\n",
       "      <th></th>\n",
       "      <th></th>\n",
       "      <th></th>\n",
       "      <th></th>\n",
       "      <th></th>\n",
       "      <th></th>\n",
       "      <th></th>\n",
       "      <th></th>\n",
       "      <th></th>\n",
       "      <th></th>\n",
       "      <th></th>\n",
       "      <th></th>\n",
       "    </tr>\n",
       "  </thead>\n",
       "  <tbody>\n",
       "    <tr>\n",
       "      <th rowspan=\"3\" valign=\"top\">2017-06-01</th>\n",
       "      <th>0</th>\n",
       "      <td>203.00000</td>\n",
       "      <td>1496.37931</td>\n",
       "      <td>3160.99429</td>\n",
       "      <td>63.00000</td>\n",
       "      <td>648.00000</td>\n",
       "      <td>15734.00000</td>\n",
       "      <td>1.70919</td>\n",
       "      <td>1.42591</td>\n",
       "      <td>0.00000</td>\n",
       "      <td>1.33354</td>\n",
       "      <td>6.92261</td>\n",
       "      <td>203.00000</td>\n",
       "      <td>40.57143</td>\n",
       "      <td>11.17097</td>\n",
       "      <td>21.00000</td>\n",
       "      <td>39.00000</td>\n",
       "      <td>71.00000</td>\n",
       "    </tr>\n",
       "    <tr>\n",
       "      <th>1</th>\n",
       "      <td>44963.00000</td>\n",
       "      <td>757.79385</td>\n",
       "      <td>628.79358</td>\n",
       "      <td>61.00000</td>\n",
       "      <td>591.00000</td>\n",
       "      <td>18784.00000</td>\n",
       "      <td>1.90699</td>\n",
       "      <td>1.48688</td>\n",
       "      <td>0.00000</td>\n",
       "      <td>1.46288</td>\n",
       "      <td>12.16096</td>\n",
       "      <td>44963.00000</td>\n",
       "      <td>42.08525</td>\n",
       "      <td>11.50679</td>\n",
       "      <td>19.00000</td>\n",
       "      <td>40.00000</td>\n",
       "      <td>81.00000</td>\n",
       "    </tr>\n",
       "    <tr>\n",
       "      <th>2</th>\n",
       "      <td>15127.00000</td>\n",
       "      <td>884.09414</td>\n",
       "      <td>724.73135</td>\n",
       "      <td>61.00000</td>\n",
       "      <td>705.00000</td>\n",
       "      <td>21157.00000</td>\n",
       "      <td>2.01491</td>\n",
       "      <td>1.51041</td>\n",
       "      <td>0.00000</td>\n",
       "      <td>1.58558</td>\n",
       "      <td>11.62966</td>\n",
       "      <td>15127.00000</td>\n",
       "      <td>40.83248</td>\n",
       "      <td>11.49875</td>\n",
       "      <td>20.00000</td>\n",
       "      <td>38.00000</td>\n",
       "      <td>80.00000</td>\n",
       "    </tr>\n",
       "    <tr>\n",
       "      <th rowspan=\"2\" valign=\"top\">2017-06-02</th>\n",
       "      <th>0</th>\n",
       "      <td>236.00000</td>\n",
       "      <td>1487.11864</td>\n",
       "      <td>3162.07872</td>\n",
       "      <td>91.00000</td>\n",
       "      <td>679.50000</td>\n",
       "      <td>17056.00000</td>\n",
       "      <td>1.81515</td>\n",
       "      <td>1.51650</td>\n",
       "      <td>0.00000</td>\n",
       "      <td>1.39103</td>\n",
       "      <td>6.67682</td>\n",
       "      <td>236.00000</td>\n",
       "      <td>41.46610</td>\n",
       "      <td>10.29289</td>\n",
       "      <td>22.00000</td>\n",
       "      <td>40.00000</td>\n",
       "      <td>71.00000</td>\n",
       "    </tr>\n",
       "    <tr>\n",
       "      <th>1</th>\n",
       "      <td>43710.00000</td>\n",
       "      <td>761.57044</td>\n",
       "      <td>632.07655</td>\n",
       "      <td>61.00000</td>\n",
       "      <td>592.00000</td>\n",
       "      <td>21474.00000</td>\n",
       "      <td>1.89930</td>\n",
       "      <td>1.48225</td>\n",
       "      <td>0.00000</td>\n",
       "      <td>1.46575</td>\n",
       "      <td>12.29248</td>\n",
       "      <td>43710.00000</td>\n",
       "      <td>41.95587</td>\n",
       "      <td>11.45778</td>\n",
       "      <td>19.00000</td>\n",
       "      <td>40.00000</td>\n",
       "      <td>81.00000</td>\n",
       "    </tr>\n",
       "  </tbody>\n",
       "</table>\n",
       "</div>"
      ],
      "text/plain": [
       "                   Trip count  Trip Duration mean  Trip Duration std  \\\n",
       "Date       Gender                                                      \n",
       "2017-06-01 0        203.00000          1496.37931         3160.99429   \n",
       "           1      44963.00000           757.79385          628.79358   \n",
       "           2      15127.00000           884.09414          724.73135   \n",
       "2017-06-02 0        236.00000          1487.11864         3162.07872   \n",
       "           1      43710.00000           761.57044          632.07655   \n",
       "\n",
       "                   Trip Duration min  Trip Duration median  Trip Duration max  \\\n",
       "Date       Gender                                                               \n",
       "2017-06-01 0                63.00000             648.00000        15734.00000   \n",
       "           1                61.00000             591.00000        18784.00000   \n",
       "           2                61.00000             705.00000        21157.00000   \n",
       "2017-06-02 0                91.00000             679.50000        17056.00000   \n",
       "           1                61.00000             592.00000        21474.00000   \n",
       "\n",
       "                   Linear Distance mean  Linear Distance std  \\\n",
       "Date       Gender                                              \n",
       "2017-06-01 0                    1.70919              1.42591   \n",
       "           1                    1.90699              1.48688   \n",
       "           2                    2.01491              1.51041   \n",
       "2017-06-02 0                    1.81515              1.51650   \n",
       "           1                    1.89930              1.48225   \n",
       "\n",
       "                   Linear Distance min  Linear Distance median  \\\n",
       "Date       Gender                                                \n",
       "2017-06-01 0                   0.00000                 1.33354   \n",
       "           1                   0.00000                 1.46288   \n",
       "           2                   0.00000                 1.58558   \n",
       "2017-06-02 0                   0.00000                 1.39103   \n",
       "           1                   0.00000                 1.46575   \n",
       "\n",
       "                   Linear Distance max  Age 2020 count  Age 2020 mean  \\\n",
       "Date       Gender                                                       \n",
       "2017-06-01 0                   6.92261       203.00000       40.57143   \n",
       "           1                  12.16096     44963.00000       42.08525   \n",
       "           2                  11.62966     15127.00000       40.83248   \n",
       "2017-06-02 0                   6.67682       236.00000       41.46610   \n",
       "           1                  12.29248     43710.00000       41.95587   \n",
       "\n",
       "                   Age 2020 std  Age 2020 min  Age 2020 median  Age 2020 max  \n",
       "Date       Gender                                                             \n",
       "2017-06-01 0           11.17097      21.00000         39.00000      71.00000  \n",
       "           1           11.50679      19.00000         40.00000      81.00000  \n",
       "           2           11.49875      20.00000         38.00000      80.00000  \n",
       "2017-06-02 0           10.29289      22.00000         40.00000      71.00000  \n",
       "           1           11.45778      19.00000         40.00000      81.00000  "
      ]
     },
     "execution_count": 92,
     "metadata": {},
     "output_type": "execute_result"
    }
   ],
   "source": [
    "summary_grouped.head()"
   ]
  },
  {
   "cell_type": "code",
   "execution_count": 93,
   "metadata": {},
   "outputs": [],
   "source": [
    "assert (summary_grouped.isna().any(axis=1).sum() == 0), 'Missing values found!'"
   ]
  },
  {
   "cell_type": "markdown",
   "metadata": {},
   "source": [
    "### Sortierung"
   ]
  },
  {
   "cell_type": "code",
   "execution_count": 94,
   "metadata": {},
   "outputs": [],
   "source": [
    "summary_grouped = summary_grouped.sort_index()"
   ]
  },
  {
   "cell_type": "code",
   "execution_count": 95,
   "metadata": {},
   "outputs": [
    {
     "data": {
      "text/html": [
       "<div>\n",
       "<style scoped>\n",
       "    .dataframe tbody tr th:only-of-type {\n",
       "        vertical-align: middle;\n",
       "    }\n",
       "\n",
       "    .dataframe tbody tr th {\n",
       "        vertical-align: top;\n",
       "    }\n",
       "\n",
       "    .dataframe thead th {\n",
       "        text-align: right;\n",
       "    }\n",
       "</style>\n",
       "<table border=\"1\" class=\"dataframe\">\n",
       "  <thead>\n",
       "    <tr style=\"text-align: right;\">\n",
       "      <th></th>\n",
       "      <th></th>\n",
       "      <th>Trip count</th>\n",
       "      <th>Trip Duration mean</th>\n",
       "      <th>Trip Duration std</th>\n",
       "      <th>Trip Duration min</th>\n",
       "      <th>Trip Duration median</th>\n",
       "      <th>Trip Duration max</th>\n",
       "      <th>Linear Distance mean</th>\n",
       "      <th>Linear Distance std</th>\n",
       "      <th>Linear Distance min</th>\n",
       "      <th>Linear Distance median</th>\n",
       "      <th>Linear Distance max</th>\n",
       "      <th>Age 2020 count</th>\n",
       "      <th>Age 2020 mean</th>\n",
       "      <th>Age 2020 std</th>\n",
       "      <th>Age 2020 min</th>\n",
       "      <th>Age 2020 median</th>\n",
       "      <th>Age 2020 max</th>\n",
       "    </tr>\n",
       "    <tr>\n",
       "      <th>Date</th>\n",
       "      <th>Gender</th>\n",
       "      <th></th>\n",
       "      <th></th>\n",
       "      <th></th>\n",
       "      <th></th>\n",
       "      <th></th>\n",
       "      <th></th>\n",
       "      <th></th>\n",
       "      <th></th>\n",
       "      <th></th>\n",
       "      <th></th>\n",
       "      <th></th>\n",
       "      <th></th>\n",
       "      <th></th>\n",
       "      <th></th>\n",
       "      <th></th>\n",
       "      <th></th>\n",
       "      <th></th>\n",
       "    </tr>\n",
       "  </thead>\n",
       "  <tbody>\n",
       "    <tr>\n",
       "      <th>2013-07-01</th>\n",
       "      <th>2</th>\n",
       "      <td>2808.00000</td>\n",
       "      <td>907.32621</td>\n",
       "      <td>736.53408</td>\n",
       "      <td>62.00000</td>\n",
       "      <td>740.00000</td>\n",
       "      <td>17260.00000</td>\n",
       "      <td>2.04062</td>\n",
       "      <td>1.49039</td>\n",
       "      <td>0.00000</td>\n",
       "      <td>1.64602</td>\n",
       "      <td>8.91266</td>\n",
       "      <td>2808.00000</td>\n",
       "      <td>43.21261</td>\n",
       "      <td>10.56697</td>\n",
       "      <td>24.00000</td>\n",
       "      <td>40.00000</td>\n",
       "      <td>78.00000</td>\n",
       "    </tr>\n",
       "    <tr>\n",
       "      <th>2020-04-30</th>\n",
       "      <th>2</th>\n",
       "      <td>3221.00000</td>\n",
       "      <td>976.06644</td>\n",
       "      <td>846.63441</td>\n",
       "      <td>61.00000</td>\n",
       "      <td>739.00000</td>\n",
       "      <td>13597.00000</td>\n",
       "      <td>1.90184</td>\n",
       "      <td>1.69891</td>\n",
       "      <td>0.00000</td>\n",
       "      <td>1.40006</td>\n",
       "      <td>11.43502</td>\n",
       "      <td>3221.00000</td>\n",
       "      <td>39.40515</td>\n",
       "      <td>11.78659</td>\n",
       "      <td>17.00000</td>\n",
       "      <td>36.00000</td>\n",
       "      <td>77.00000</td>\n",
       "    </tr>\n",
       "  </tbody>\n",
       "</table>\n",
       "</div>"
      ],
      "text/plain": [
       "                   Trip count  Trip Duration mean  Trip Duration std  \\\n",
       "Date       Gender                                                      \n",
       "2013-07-01 2       2808.00000           907.32621          736.53408   \n",
       "2020-04-30 2       3221.00000           976.06644          846.63441   \n",
       "\n",
       "                   Trip Duration min  Trip Duration median  Trip Duration max  \\\n",
       "Date       Gender                                                               \n",
       "2013-07-01 2                62.00000             740.00000        17260.00000   \n",
       "2020-04-30 2                61.00000             739.00000        13597.00000   \n",
       "\n",
       "                   Linear Distance mean  Linear Distance std  \\\n",
       "Date       Gender                                              \n",
       "2013-07-01 2                    2.04062              1.49039   \n",
       "2020-04-30 2                    1.90184              1.69891   \n",
       "\n",
       "                   Linear Distance min  Linear Distance median  \\\n",
       "Date       Gender                                                \n",
       "2013-07-01 2                   0.00000                 1.64602   \n",
       "2020-04-30 2                   0.00000                 1.40006   \n",
       "\n",
       "                   Linear Distance max  Age 2020 count  Age 2020 mean  \\\n",
       "Date       Gender                                                       \n",
       "2013-07-01 2                   8.91266      2808.00000       43.21261   \n",
       "2020-04-30 2                  11.43502      3221.00000       39.40515   \n",
       "\n",
       "                   Age 2020 std  Age 2020 min  Age 2020 median  Age 2020 max  \n",
       "Date       Gender                                                             \n",
       "2013-07-01 2           10.56697      24.00000         40.00000      78.00000  \n",
       "2020-04-30 2           11.78659      17.00000         36.00000      77.00000  "
      ]
     },
     "execution_count": 95,
     "metadata": {},
     "output_type": "execute_result"
    }
   ],
   "source": [
    "summary_grouped.iloc[[1, -1]]"
   ]
  },
  {
   "cell_type": "markdown",
   "metadata": {},
   "source": [
    "### Export der Daten"
   ]
  },
  {
   "cell_type": "code",
   "execution_count": 96,
   "metadata": {},
   "outputs": [],
   "source": [
    "summary_grouped.to_parquet(os.path.join(path, 'summary-daily-subscribers_only-gender_grouped-citibike-tripdata.parquet'), index=True)"
   ]
  },
  {
   "cell_type": "code",
   "execution_count": 97,
   "metadata": {},
   "outputs": [],
   "source": [
    "summary_grouped.to_csv(os.path.join(path, 'summary-daily-subscribers_only-gender_grouped-citibike-tripdata.csv'), index=True)"
   ]
  },
  {
   "cell_type": "code",
   "execution_count": null,
   "metadata": {},
   "outputs": [],
   "source": []
  }
 ],
 "metadata": {
  "kernelspec": {
   "display_name": "Python 3",
   "language": "python",
   "name": "python3"
  },
  "language_info": {
   "codemirror_mode": {
    "name": "ipython",
    "version": 3
   },
   "file_extension": ".py",
   "mimetype": "text/x-python",
   "name": "python",
   "nbconvert_exporter": "python",
   "pygments_lexer": "ipython3",
   "version": "3.8.0"
  }
 },
 "nbformat": 4,
 "nbformat_minor": 4
}
