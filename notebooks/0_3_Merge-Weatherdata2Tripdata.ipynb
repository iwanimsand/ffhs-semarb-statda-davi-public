{
 "cells": [
  {
   "cell_type": "markdown",
   "metadata": {},
   "source": [
    "FFHS DAS Data Science  \n",
    "Semesterarbeit FS20  \n",
    "Iwan Imsand"
   ]
  },
  {
   "cell_type": "markdown",
   "metadata": {},
   "source": [
    "# Zusammenführung ```tripdata``` und ```weatherdata```"
   ]
  },
  {
   "cell_type": "markdown",
   "metadata": {},
   "source": [
    "# Einleitung"
   ]
  },
  {
   "cell_type": "markdown",
   "metadata": {},
   "source": [
    "In diesem Notebook werden die aufbereiteten Tripdaten mit den Wetterdaten zusammengeführt."
   ]
  },
  {
   "cell_type": "markdown",
   "metadata": {},
   "source": [
    "# Imports und Einstellung "
   ]
  },
  {
   "cell_type": "code",
   "execution_count": 1,
   "metadata": {},
   "outputs": [],
   "source": [
    "import os\n",
    "import pandas as pd"
   ]
  },
  {
   "cell_type": "markdown",
   "metadata": {},
   "source": [
    "# Globale Variablen"
   ]
  },
  {
   "cell_type": "markdown",
   "metadata": {},
   "source": [
    "Damit immer die gleichen Stichproben generiert werden, falls das Notebook wieder ausgeführt wird, wird hier ein SEED gesetzt. Dieser muss bei der Ausführung von ```sample()``` immer mitgegeben werden!"
   ]
  },
  {
   "cell_type": "code",
   "execution_count": 2,
   "metadata": {},
   "outputs": [],
   "source": [
    "SEED=104210"
   ]
  },
  {
   "cell_type": "markdown",
   "metadata": {},
   "source": [
    "Festlegung der Pfade aus welchem die Daten gelesen werden."
   ]
  },
  {
   "cell_type": "code",
   "execution_count": 3,
   "metadata": {
    "pycharm": {
     "name": "#%%\n"
    }
   },
   "outputs": [],
   "source": [
    "path_tripdata = './../data/citibike/tripdata'"
   ]
  },
  {
   "cell_type": "code",
   "execution_count": 4,
   "metadata": {},
   "outputs": [],
   "source": [
    "path_weatherdata = './../data/openweathermap'"
   ]
  },
  {
   "cell_type": "markdown",
   "metadata": {},
   "source": [
    "## Weatherdata"
   ]
  },
  {
   "cell_type": "code",
   "execution_count": 5,
   "metadata": {},
   "outputs": [],
   "source": [
    "weatherdata = pd.read_parquet(os.path.join(path_weatherdata, 'openweathermap-weatherdata.parquet'))"
   ]
  },
  {
   "cell_type": "code",
   "execution_count": 6,
   "metadata": {},
   "outputs": [
    {
     "name": "stdout",
     "output_type": "stream",
     "text": [
      "<class 'pandas.core.frame.DataFrame'>\n",
      "Int64Index: 66751 entries, 328669 to 395419\n",
      "Data columns (total 11 columns):\n",
      " #   Column               Non-Null Count  Dtype              \n",
      "---  ------               --------------  -----              \n",
      " 0   dt_utc               66751 non-null  datetime64[ns, UTC]\n",
      " 1   temp                 66751 non-null  float64            \n",
      " 2   pressure             66751 non-null  int64              \n",
      " 3   humidity             66751 non-null  int64              \n",
      " 4   wind_speed           66751 non-null  float64            \n",
      " 5   rain_1h              66751 non-null  float64            \n",
      " 6   snow_1h              66751 non-null  float64            \n",
      " 7   clouds_all           66751 non-null  int64              \n",
      " 8   weather_id           66751 non-null  int64              \n",
      " 9   weather_main         66751 non-null  object             \n",
      " 10  weather_description  66751 non-null  object             \n",
      "dtypes: datetime64[ns, UTC](1), float64(4), int64(4), object(2)\n",
      "memory usage: 6.1+ MB\n"
     ]
    }
   ],
   "source": [
    "weatherdata.info()"
   ]
  },
  {
   "cell_type": "code",
   "execution_count": 7,
   "metadata": {},
   "outputs": [
    {
     "data": {
      "text/html": [
       "<div>\n",
       "<style scoped>\n",
       "    .dataframe tbody tr th:only-of-type {\n",
       "        vertical-align: middle;\n",
       "    }\n",
       "\n",
       "    .dataframe tbody tr th {\n",
       "        vertical-align: top;\n",
       "    }\n",
       "\n",
       "    .dataframe thead th {\n",
       "        text-align: right;\n",
       "    }\n",
       "</style>\n",
       "<table border=\"1\" class=\"dataframe\">\n",
       "  <thead>\n",
       "    <tr style=\"text-align: right;\">\n",
       "      <th></th>\n",
       "      <th>dt_utc</th>\n",
       "      <th>temp</th>\n",
       "      <th>pressure</th>\n",
       "      <th>humidity</th>\n",
       "      <th>wind_speed</th>\n",
       "      <th>rain_1h</th>\n",
       "      <th>snow_1h</th>\n",
       "      <th>clouds_all</th>\n",
       "      <th>weather_id</th>\n",
       "      <th>weather_main</th>\n",
       "      <th>weather_description</th>\n",
       "    </tr>\n",
       "  </thead>\n",
       "  <tbody>\n",
       "    <tr>\n",
       "      <th>395415</th>\n",
       "      <td>2020-05-05 19:00:00+00:00</td>\n",
       "      <td>15.30</td>\n",
       "      <td>1011</td>\n",
       "      <td>21</td>\n",
       "      <td>2.1</td>\n",
       "      <td>0.0</td>\n",
       "      <td>0.0</td>\n",
       "      <td>1</td>\n",
       "      <td>800</td>\n",
       "      <td>Clear</td>\n",
       "      <td>sky is clear</td>\n",
       "    </tr>\n",
       "    <tr>\n",
       "      <th>395416</th>\n",
       "      <td>2020-05-05 20:00:00+00:00</td>\n",
       "      <td>16.47</td>\n",
       "      <td>1010</td>\n",
       "      <td>18</td>\n",
       "      <td>2.6</td>\n",
       "      <td>0.0</td>\n",
       "      <td>0.0</td>\n",
       "      <td>1</td>\n",
       "      <td>800</td>\n",
       "      <td>Clear</td>\n",
       "      <td>sky is clear</td>\n",
       "    </tr>\n",
       "    <tr>\n",
       "      <th>395417</th>\n",
       "      <td>2020-05-05 21:00:00+00:00</td>\n",
       "      <td>17.03</td>\n",
       "      <td>1010</td>\n",
       "      <td>18</td>\n",
       "      <td>3.6</td>\n",
       "      <td>0.0</td>\n",
       "      <td>0.0</td>\n",
       "      <td>1</td>\n",
       "      <td>800</td>\n",
       "      <td>Clear</td>\n",
       "      <td>sky is clear</td>\n",
       "    </tr>\n",
       "    <tr>\n",
       "      <th>395418</th>\n",
       "      <td>2020-05-05 22:00:00+00:00</td>\n",
       "      <td>17.03</td>\n",
       "      <td>1010</td>\n",
       "      <td>18</td>\n",
       "      <td>2.1</td>\n",
       "      <td>0.0</td>\n",
       "      <td>0.0</td>\n",
       "      <td>1</td>\n",
       "      <td>800</td>\n",
       "      <td>Clear</td>\n",
       "      <td>sky is clear</td>\n",
       "    </tr>\n",
       "    <tr>\n",
       "      <th>395419</th>\n",
       "      <td>2020-05-05 23:00:00+00:00</td>\n",
       "      <td>16.36</td>\n",
       "      <td>1010</td>\n",
       "      <td>25</td>\n",
       "      <td>2.1</td>\n",
       "      <td>0.0</td>\n",
       "      <td>0.0</td>\n",
       "      <td>1</td>\n",
       "      <td>800</td>\n",
       "      <td>Clear</td>\n",
       "      <td>sky is clear</td>\n",
       "    </tr>\n",
       "  </tbody>\n",
       "</table>\n",
       "</div>"
      ],
      "text/plain": [
       "                          dt_utc   temp  pressure  humidity  wind_speed  \\\n",
       "395415 2020-05-05 19:00:00+00:00  15.30      1011        21         2.1   \n",
       "395416 2020-05-05 20:00:00+00:00  16.47      1010        18         2.6   \n",
       "395417 2020-05-05 21:00:00+00:00  17.03      1010        18         3.6   \n",
       "395418 2020-05-05 22:00:00+00:00  17.03      1010        18         2.1   \n",
       "395419 2020-05-05 23:00:00+00:00  16.36      1010        25         2.1   \n",
       "\n",
       "        rain_1h  snow_1h  clouds_all  weather_id weather_main  \\\n",
       "395415      0.0      0.0           1         800        Clear   \n",
       "395416      0.0      0.0           1         800        Clear   \n",
       "395417      0.0      0.0           1         800        Clear   \n",
       "395418      0.0      0.0           1         800        Clear   \n",
       "395419      0.0      0.0           1         800        Clear   \n",
       "\n",
       "       weather_description  \n",
       "395415        sky is clear  \n",
       "395416        sky is clear  \n",
       "395417        sky is clear  \n",
       "395418        sky is clear  \n",
       "395419        sky is clear  "
      ]
     },
     "execution_count": 7,
     "metadata": {},
     "output_type": "execute_result"
    }
   ],
   "source": [
    "weatherdata.tail()"
   ]
  },
  {
   "cell_type": "markdown",
   "metadata": {},
   "source": [
    "### Weatherdata daily"
   ]
  },
  {
   "cell_type": "code",
   "execution_count": 8,
   "metadata": {},
   "outputs": [],
   "source": [
    "weatherdata_daily = pd.read_parquet(os.path.join(path_weatherdata, 'openweathermap-weatherdata-daily.parquet'))"
   ]
  },
  {
   "cell_type": "code",
   "execution_count": 9,
   "metadata": {},
   "outputs": [
    {
     "name": "stdout",
     "output_type": "stream",
     "text": [
      "<class 'pandas.core.frame.DataFrame'>\n",
      "DatetimeIndex: 2682 entries, 2013-01-01 to 2020-05-05\n",
      "Data columns (total 21 columns):\n",
      " #   Column             Non-Null Count  Dtype  \n",
      "---  ------             --------------  -----  \n",
      " 0   temp mean          2682 non-null   float64\n",
      " 1   temp std           2682 non-null   float64\n",
      " 2   temp median        2682 non-null   float64\n",
      " 3   temp min           2682 non-null   float64\n",
      " 4   temp max           2682 non-null   float64\n",
      " 5   humidity mean      2682 non-null   float64\n",
      " 6   humidity std       2682 non-null   float64\n",
      " 7   humidity median    2682 non-null   float64\n",
      " 8   humidity min       2682 non-null   int64  \n",
      " 9   humidity max       2682 non-null   int64  \n",
      " 10  wind_speed mean    2682 non-null   float64\n",
      " 11  wind_speed std     2682 non-null   float64\n",
      " 12  wind_speed median  2682 non-null   float64\n",
      " 13  wind_speed min     2682 non-null   float64\n",
      " 14  wind_speed max     2682 non-null   float64\n",
      " 15  rain_1h sum        2682 non-null   float64\n",
      " 16  rain_1h min        2682 non-null   float64\n",
      " 17  rain_1h max        2682 non-null   float64\n",
      " 18  snow_1h sum        2682 non-null   float64\n",
      " 19  snow_1h min        2682 non-null   float64\n",
      " 20  snow_1h max        2682 non-null   float64\n",
      "dtypes: float64(19), int64(2)\n",
      "memory usage: 461.0 KB\n"
     ]
    }
   ],
   "source": [
    "weatherdata_daily.info()"
   ]
  },
  {
   "cell_type": "code",
   "execution_count": 10,
   "metadata": {},
   "outputs": [
    {
     "data": {
      "text/html": [
       "<div>\n",
       "<style scoped>\n",
       "    .dataframe tbody tr th:only-of-type {\n",
       "        vertical-align: middle;\n",
       "    }\n",
       "\n",
       "    .dataframe tbody tr th {\n",
       "        vertical-align: top;\n",
       "    }\n",
       "\n",
       "    .dataframe thead th {\n",
       "        text-align: right;\n",
       "    }\n",
       "</style>\n",
       "<table border=\"1\" class=\"dataframe\">\n",
       "  <thead>\n",
       "    <tr style=\"text-align: right;\">\n",
       "      <th></th>\n",
       "      <th>temp mean</th>\n",
       "      <th>temp std</th>\n",
       "      <th>temp median</th>\n",
       "      <th>temp min</th>\n",
       "      <th>temp max</th>\n",
       "      <th>humidity mean</th>\n",
       "      <th>humidity std</th>\n",
       "      <th>humidity median</th>\n",
       "      <th>humidity min</th>\n",
       "      <th>humidity max</th>\n",
       "      <th>...</th>\n",
       "      <th>wind_speed std</th>\n",
       "      <th>wind_speed median</th>\n",
       "      <th>wind_speed min</th>\n",
       "      <th>wind_speed max</th>\n",
       "      <th>rain_1h sum</th>\n",
       "      <th>rain_1h min</th>\n",
       "      <th>rain_1h max</th>\n",
       "      <th>snow_1h sum</th>\n",
       "      <th>snow_1h min</th>\n",
       "      <th>snow_1h max</th>\n",
       "    </tr>\n",
       "    <tr>\n",
       "      <th>Date</th>\n",
       "      <th></th>\n",
       "      <th></th>\n",
       "      <th></th>\n",
       "      <th></th>\n",
       "      <th></th>\n",
       "      <th></th>\n",
       "      <th></th>\n",
       "      <th></th>\n",
       "      <th></th>\n",
       "      <th></th>\n",
       "      <th></th>\n",
       "      <th></th>\n",
       "      <th></th>\n",
       "      <th></th>\n",
       "      <th></th>\n",
       "      <th></th>\n",
       "      <th></th>\n",
       "      <th></th>\n",
       "      <th></th>\n",
       "      <th></th>\n",
       "      <th></th>\n",
       "    </tr>\n",
       "  </thead>\n",
       "  <tbody>\n",
       "    <tr>\n",
       "      <th>2013-01-01</th>\n",
       "      <td>3.684783</td>\n",
       "      <td>0.547356</td>\n",
       "      <td>3.730</td>\n",
       "      <td>2.04</td>\n",
       "      <td>4.45</td>\n",
       "      <td>56.173913</td>\n",
       "      <td>5.898013</td>\n",
       "      <td>59.0</td>\n",
       "      <td>45</td>\n",
       "      <td>64</td>\n",
       "      <td>...</td>\n",
       "      <td>0.940476</td>\n",
       "      <td>3.10</td>\n",
       "      <td>1.5</td>\n",
       "      <td>5.19</td>\n",
       "      <td>0.0</td>\n",
       "      <td>0.0</td>\n",
       "      <td>0.0</td>\n",
       "      <td>0.0</td>\n",
       "      <td>0.0</td>\n",
       "      <td>0.0</td>\n",
       "    </tr>\n",
       "    <tr>\n",
       "      <th>2013-01-02</th>\n",
       "      <td>-1.867917</td>\n",
       "      <td>1.922008</td>\n",
       "      <td>-2.155</td>\n",
       "      <td>-4.61</td>\n",
       "      <td>1.12</td>\n",
       "      <td>48.541667</td>\n",
       "      <td>4.699483</td>\n",
       "      <td>48.5</td>\n",
       "      <td>40</td>\n",
       "      <td>56</td>\n",
       "      <td>...</td>\n",
       "      <td>1.092734</td>\n",
       "      <td>3.35</td>\n",
       "      <td>1.5</td>\n",
       "      <td>5.10</td>\n",
       "      <td>0.0</td>\n",
       "      <td>0.0</td>\n",
       "      <td>0.0</td>\n",
       "      <td>0.0</td>\n",
       "      <td>0.0</td>\n",
       "      <td>0.0</td>\n",
       "    </tr>\n",
       "    <tr>\n",
       "      <th>2013-01-03</th>\n",
       "      <td>-1.497917</td>\n",
       "      <td>1.318955</td>\n",
       "      <td>-1.500</td>\n",
       "      <td>-3.52</td>\n",
       "      <td>0.62</td>\n",
       "      <td>54.250000</td>\n",
       "      <td>7.278617</td>\n",
       "      <td>54.0</td>\n",
       "      <td>42</td>\n",
       "      <td>65</td>\n",
       "      <td>...</td>\n",
       "      <td>0.707152</td>\n",
       "      <td>2.28</td>\n",
       "      <td>1.5</td>\n",
       "      <td>4.10</td>\n",
       "      <td>0.0</td>\n",
       "      <td>0.0</td>\n",
       "      <td>0.0</td>\n",
       "      <td>0.0</td>\n",
       "      <td>0.0</td>\n",
       "      <td>0.0</td>\n",
       "    </tr>\n",
       "    <tr>\n",
       "      <th>2013-01-04</th>\n",
       "      <td>1.041667</td>\n",
       "      <td>1.350149</td>\n",
       "      <td>0.825</td>\n",
       "      <td>-0.48</td>\n",
       "      <td>3.04</td>\n",
       "      <td>53.458333</td>\n",
       "      <td>4.471933</td>\n",
       "      <td>52.0</td>\n",
       "      <td>47</td>\n",
       "      <td>60</td>\n",
       "      <td>...</td>\n",
       "      <td>1.648414</td>\n",
       "      <td>3.10</td>\n",
       "      <td>1.5</td>\n",
       "      <td>6.70</td>\n",
       "      <td>0.0</td>\n",
       "      <td>0.0</td>\n",
       "      <td>0.0</td>\n",
       "      <td>0.0</td>\n",
       "      <td>0.0</td>\n",
       "      <td>0.0</td>\n",
       "    </tr>\n",
       "    <tr>\n",
       "      <th>2013-01-05</th>\n",
       "      <td>2.600000</td>\n",
       "      <td>2.099561</td>\n",
       "      <td>1.750</td>\n",
       "      <td>0.40</td>\n",
       "      <td>6.36</td>\n",
       "      <td>48.666667</td>\n",
       "      <td>5.096176</td>\n",
       "      <td>51.0</td>\n",
       "      <td>40</td>\n",
       "      <td>55</td>\n",
       "      <td>...</td>\n",
       "      <td>1.385354</td>\n",
       "      <td>3.35</td>\n",
       "      <td>1.5</td>\n",
       "      <td>6.20</td>\n",
       "      <td>0.0</td>\n",
       "      <td>0.0</td>\n",
       "      <td>0.0</td>\n",
       "      <td>0.0</td>\n",
       "      <td>0.0</td>\n",
       "      <td>0.0</td>\n",
       "    </tr>\n",
       "  </tbody>\n",
       "</table>\n",
       "<p>5 rows × 21 columns</p>\n",
       "</div>"
      ],
      "text/plain": [
       "            temp mean  temp std  temp median  temp min  temp max  \\\n",
       "Date                                                               \n",
       "2013-01-01   3.684783  0.547356        3.730      2.04      4.45   \n",
       "2013-01-02  -1.867917  1.922008       -2.155     -4.61      1.12   \n",
       "2013-01-03  -1.497917  1.318955       -1.500     -3.52      0.62   \n",
       "2013-01-04   1.041667  1.350149        0.825     -0.48      3.04   \n",
       "2013-01-05   2.600000  2.099561        1.750      0.40      6.36   \n",
       "\n",
       "            humidity mean  humidity std  humidity median  humidity min  \\\n",
       "Date                                                                     \n",
       "2013-01-01      56.173913      5.898013             59.0            45   \n",
       "2013-01-02      48.541667      4.699483             48.5            40   \n",
       "2013-01-03      54.250000      7.278617             54.0            42   \n",
       "2013-01-04      53.458333      4.471933             52.0            47   \n",
       "2013-01-05      48.666667      5.096176             51.0            40   \n",
       "\n",
       "            humidity max  ...  wind_speed std  wind_speed median  \\\n",
       "Date                      ...                                      \n",
       "2013-01-01            64  ...        0.940476               3.10   \n",
       "2013-01-02            56  ...        1.092734               3.35   \n",
       "2013-01-03            65  ...        0.707152               2.28   \n",
       "2013-01-04            60  ...        1.648414               3.10   \n",
       "2013-01-05            55  ...        1.385354               3.35   \n",
       "\n",
       "            wind_speed min  wind_speed max  rain_1h sum  rain_1h min  \\\n",
       "Date                                                                   \n",
       "2013-01-01             1.5            5.19          0.0          0.0   \n",
       "2013-01-02             1.5            5.10          0.0          0.0   \n",
       "2013-01-03             1.5            4.10          0.0          0.0   \n",
       "2013-01-04             1.5            6.70          0.0          0.0   \n",
       "2013-01-05             1.5            6.20          0.0          0.0   \n",
       "\n",
       "            rain_1h max  snow_1h sum  snow_1h min  snow_1h max  \n",
       "Date                                                            \n",
       "2013-01-01          0.0          0.0          0.0          0.0  \n",
       "2013-01-02          0.0          0.0          0.0          0.0  \n",
       "2013-01-03          0.0          0.0          0.0          0.0  \n",
       "2013-01-04          0.0          0.0          0.0          0.0  \n",
       "2013-01-05          0.0          0.0          0.0          0.0  \n",
       "\n",
       "[5 rows x 21 columns]"
      ]
     },
     "execution_count": 10,
     "metadata": {},
     "output_type": "execute_result"
    }
   ],
   "source": [
    "weatherdata_daily.head()"
   ]
  },
  {
   "cell_type": "markdown",
   "metadata": {},
   "source": [
    "## Tripdata Oktober 2019"
   ]
  },
  {
   "cell_type": "code",
   "execution_count": 11,
   "metadata": {},
   "outputs": [],
   "source": [
    "tripdata = pd.read_parquet(os.path.join(path_tripdata, '201910-citibike-tripdata.parquet'))"
   ]
  },
  {
   "cell_type": "code",
   "execution_count": 12,
   "metadata": {},
   "outputs": [
    {
     "data": {
      "text/html": [
       "<div>\n",
       "<style scoped>\n",
       "    .dataframe tbody tr th:only-of-type {\n",
       "        vertical-align: middle;\n",
       "    }\n",
       "\n",
       "    .dataframe tbody tr th {\n",
       "        vertical-align: top;\n",
       "    }\n",
       "\n",
       "    .dataframe thead th {\n",
       "        text-align: right;\n",
       "    }\n",
       "</style>\n",
       "<table border=\"1\" class=\"dataframe\">\n",
       "  <thead>\n",
       "    <tr style=\"text-align: right;\">\n",
       "      <th></th>\n",
       "      <th>Trip Duration</th>\n",
       "      <th>Start Time</th>\n",
       "      <th>Stop Time</th>\n",
       "      <th>Start Station ID</th>\n",
       "      <th>Start Station Name</th>\n",
       "      <th>Start Station Latitude</th>\n",
       "      <th>Start Station Longitude</th>\n",
       "      <th>End Station ID</th>\n",
       "      <th>End Station Name</th>\n",
       "      <th>End Station Latitude</th>\n",
       "      <th>End Station Longitude</th>\n",
       "      <th>Bike ID</th>\n",
       "      <th>User Type</th>\n",
       "      <th>Birth Year</th>\n",
       "      <th>Gender</th>\n",
       "      <th>Linear Distance</th>\n",
       "      <th>Age 2020</th>\n",
       "    </tr>\n",
       "  </thead>\n",
       "  <tbody>\n",
       "    <tr>\n",
       "      <th>2092568</th>\n",
       "      <td>729</td>\n",
       "      <td>2019-10-31 23:59:12-04:00</td>\n",
       "      <td>2019-11-01 00:11:21-04:00</td>\n",
       "      <td>237</td>\n",
       "      <td>E 11 St &amp; 2 Ave</td>\n",
       "      <td>40.730473</td>\n",
       "      <td>-73.986724</td>\n",
       "      <td>311</td>\n",
       "      <td>Norfolk St &amp; Broome St</td>\n",
       "      <td>40.717227</td>\n",
       "      <td>-73.988021</td>\n",
       "      <td>25725</td>\n",
       "      <td>Subscriber</td>\n",
       "      <td>1995</td>\n",
       "      <td>1</td>\n",
       "      <td>1.476904</td>\n",
       "      <td>25</td>\n",
       "    </tr>\n",
       "    <tr>\n",
       "      <th>2092569</th>\n",
       "      <td>645</td>\n",
       "      <td>2019-10-31 23:59:17-04:00</td>\n",
       "      <td>2019-11-01 00:10:02-04:00</td>\n",
       "      <td>3259</td>\n",
       "      <td>9 Ave &amp; W 28 St</td>\n",
       "      <td>40.749370</td>\n",
       "      <td>-73.999234</td>\n",
       "      <td>461</td>\n",
       "      <td>E 20 St &amp; 2 Ave</td>\n",
       "      <td>40.735877</td>\n",
       "      <td>-73.982050</td>\n",
       "      <td>39583</td>\n",
       "      <td>Customer</td>\n",
       "      <td>1969</td>\n",
       "      <td>0</td>\n",
       "      <td>2.084930</td>\n",
       "      <td>51</td>\n",
       "    </tr>\n",
       "    <tr>\n",
       "      <th>2092570</th>\n",
       "      <td>257</td>\n",
       "      <td>2019-10-31 23:59:22-04:00</td>\n",
       "      <td>2019-11-01 00:03:40-04:00</td>\n",
       "      <td>3798</td>\n",
       "      <td>W 40 St &amp; 5 Ave</td>\n",
       "      <td>40.752269</td>\n",
       "      <td>-73.982079</td>\n",
       "      <td>505</td>\n",
       "      <td>6 Ave &amp; W 33 St</td>\n",
       "      <td>40.749013</td>\n",
       "      <td>-73.988484</td>\n",
       "      <td>21240</td>\n",
       "      <td>Subscriber</td>\n",
       "      <td>1985</td>\n",
       "      <td>1</td>\n",
       "      <td>0.649767</td>\n",
       "      <td>35</td>\n",
       "    </tr>\n",
       "    <tr>\n",
       "      <th>2092571</th>\n",
       "      <td>466</td>\n",
       "      <td>2019-10-31 23:59:23-04:00</td>\n",
       "      <td>2019-11-01 00:07:09-04:00</td>\n",
       "      <td>328</td>\n",
       "      <td>Watts St &amp; Greenwich St</td>\n",
       "      <td>40.724055</td>\n",
       "      <td>-74.009660</td>\n",
       "      <td>361</td>\n",
       "      <td>Allen St &amp; Hester St</td>\n",
       "      <td>40.716059</td>\n",
       "      <td>-73.991908</td>\n",
       "      <td>34916</td>\n",
       "      <td>Subscriber</td>\n",
       "      <td>1989</td>\n",
       "      <td>0</td>\n",
       "      <td>1.740369</td>\n",
       "      <td>31</td>\n",
       "    </tr>\n",
       "    <tr>\n",
       "      <th>2092572</th>\n",
       "      <td>81</td>\n",
       "      <td>2019-10-31 23:59:51-04:00</td>\n",
       "      <td>2019-11-01 00:01:13-04:00</td>\n",
       "      <td>539</td>\n",
       "      <td>Metropolitan Ave &amp; Bedford Ave</td>\n",
       "      <td>40.715348</td>\n",
       "      <td>-73.960241</td>\n",
       "      <td>3093</td>\n",
       "      <td>N 6 St &amp; Bedford Ave</td>\n",
       "      <td>40.717452</td>\n",
       "      <td>-73.958509</td>\n",
       "      <td>25745</td>\n",
       "      <td>Subscriber</td>\n",
       "      <td>1990</td>\n",
       "      <td>1</td>\n",
       "      <td>0.275695</td>\n",
       "      <td>30</td>\n",
       "    </tr>\n",
       "  </tbody>\n",
       "</table>\n",
       "</div>"
      ],
      "text/plain": [
       "         Trip Duration                Start Time                 Stop Time  \\\n",
       "2092568            729 2019-10-31 23:59:12-04:00 2019-11-01 00:11:21-04:00   \n",
       "2092569            645 2019-10-31 23:59:17-04:00 2019-11-01 00:10:02-04:00   \n",
       "2092570            257 2019-10-31 23:59:22-04:00 2019-11-01 00:03:40-04:00   \n",
       "2092571            466 2019-10-31 23:59:23-04:00 2019-11-01 00:07:09-04:00   \n",
       "2092572             81 2019-10-31 23:59:51-04:00 2019-11-01 00:01:13-04:00   \n",
       "\n",
       "         Start Station ID              Start Station Name  \\\n",
       "2092568               237                 E 11 St & 2 Ave   \n",
       "2092569              3259                 9 Ave & W 28 St   \n",
       "2092570              3798                 W 40 St & 5 Ave   \n",
       "2092571               328         Watts St & Greenwich St   \n",
       "2092572               539  Metropolitan Ave & Bedford Ave   \n",
       "\n",
       "         Start Station Latitude  Start Station Longitude  End Station ID  \\\n",
       "2092568               40.730473               -73.986724             311   \n",
       "2092569               40.749370               -73.999234             461   \n",
       "2092570               40.752269               -73.982079             505   \n",
       "2092571               40.724055               -74.009660             361   \n",
       "2092572               40.715348               -73.960241            3093   \n",
       "\n",
       "               End Station Name  End Station Latitude  End Station Longitude  \\\n",
       "2092568  Norfolk St & Broome St             40.717227             -73.988021   \n",
       "2092569         E 20 St & 2 Ave             40.735877             -73.982050   \n",
       "2092570         6 Ave & W 33 St             40.749013             -73.988484   \n",
       "2092571    Allen St & Hester St             40.716059             -73.991908   \n",
       "2092572    N 6 St & Bedford Ave             40.717452             -73.958509   \n",
       "\n",
       "         Bike ID   User Type  Birth Year Gender  Linear Distance  Age 2020  \n",
       "2092568    25725  Subscriber        1995      1         1.476904        25  \n",
       "2092569    39583    Customer        1969      0         2.084930        51  \n",
       "2092570    21240  Subscriber        1985      1         0.649767        35  \n",
       "2092571    34916  Subscriber        1989      0         1.740369        31  \n",
       "2092572    25745  Subscriber        1990      1         0.275695        30  "
      ]
     },
     "execution_count": 12,
     "metadata": {},
     "output_type": "execute_result"
    }
   ],
   "source": [
    "tripdata.tail()"
   ]
  },
  {
   "cell_type": "code",
   "execution_count": 13,
   "metadata": {},
   "outputs": [
    {
     "name": "stdout",
     "output_type": "stream",
     "text": [
      "<class 'pandas.core.frame.DataFrame'>\n",
      "RangeIndex: 2092573 entries, 0 to 2092572\n",
      "Data columns (total 17 columns):\n",
      " #   Column                   Dtype                     \n",
      "---  ------                   -----                     \n",
      " 0   Trip Duration            Int64                     \n",
      " 1   Start Time               datetime64[ns, US/Eastern]\n",
      " 2   Stop Time                datetime64[ns, US/Eastern]\n",
      " 3   Start Station ID         Int64                     \n",
      " 4   Start Station Name       object                    \n",
      " 5   Start Station Latitude   float64                   \n",
      " 6   Start Station Longitude  float64                   \n",
      " 7   End Station ID           Int64                     \n",
      " 8   End Station Name         object                    \n",
      " 9   End Station Latitude     float64                   \n",
      " 10  End Station Longitude    float64                   \n",
      " 11  Bike ID                  Int64                     \n",
      " 12  User Type                category                  \n",
      " 13  Birth Year               Int64                     \n",
      " 14  Gender                   category                  \n",
      " 15  Linear Distance          float64                   \n",
      " 16  Age 2020                 Int64                     \n",
      "dtypes: Int64(6), category(2), datetime64[ns, US/Eastern](2), float64(5), object(2)\n",
      "memory usage: 255.4+ MB\n"
     ]
    }
   ],
   "source": [
    "tripdata.info()"
   ]
  },
  {
   "cell_type": "code",
   "execution_count": 14,
   "metadata": {},
   "outputs": [],
   "source": [
    "# Add utc time for merge\n",
    "tripdata.insert(0, 'dt_utc', tripdata['Start Time'].dt.tz_convert('UTC'))"
   ]
  },
  {
   "cell_type": "code",
   "execution_count": 15,
   "metadata": {},
   "outputs": [
    {
     "data": {
      "text/html": [
       "<div>\n",
       "<style scoped>\n",
       "    .dataframe tbody tr th:only-of-type {\n",
       "        vertical-align: middle;\n",
       "    }\n",
       "\n",
       "    .dataframe tbody tr th {\n",
       "        vertical-align: top;\n",
       "    }\n",
       "\n",
       "    .dataframe thead th {\n",
       "        text-align: right;\n",
       "    }\n",
       "</style>\n",
       "<table border=\"1\" class=\"dataframe\">\n",
       "  <thead>\n",
       "    <tr style=\"text-align: right;\">\n",
       "      <th></th>\n",
       "      <th>dt_utc</th>\n",
       "      <th>Trip Duration</th>\n",
       "      <th>Start Time</th>\n",
       "      <th>Stop Time</th>\n",
       "      <th>Start Station ID</th>\n",
       "      <th>Start Station Name</th>\n",
       "      <th>Start Station Latitude</th>\n",
       "      <th>Start Station Longitude</th>\n",
       "      <th>End Station ID</th>\n",
       "      <th>End Station Name</th>\n",
       "      <th>End Station Latitude</th>\n",
       "      <th>End Station Longitude</th>\n",
       "      <th>Bike ID</th>\n",
       "      <th>User Type</th>\n",
       "      <th>Birth Year</th>\n",
       "      <th>Gender</th>\n",
       "      <th>Linear Distance</th>\n",
       "      <th>Age 2020</th>\n",
       "    </tr>\n",
       "  </thead>\n",
       "  <tbody>\n",
       "    <tr>\n",
       "      <th>0</th>\n",
       "      <td>2019-10-01 04:00:05+00:00</td>\n",
       "      <td>527</td>\n",
       "      <td>2019-10-01 00:00:05-04:00</td>\n",
       "      <td>2019-10-01 00:08:52-04:00</td>\n",
       "      <td>3746</td>\n",
       "      <td>6 Ave &amp; Broome St</td>\n",
       "      <td>40.724308</td>\n",
       "      <td>-74.004730</td>\n",
       "      <td>223</td>\n",
       "      <td>W 13 St &amp; 7 Ave</td>\n",
       "      <td>40.737815</td>\n",
       "      <td>-73.999947</td>\n",
       "      <td>41750</td>\n",
       "      <td>Subscriber</td>\n",
       "      <td>1993</td>\n",
       "      <td>1</td>\n",
       "      <td>1.555035</td>\n",
       "      <td>27</td>\n",
       "    </tr>\n",
       "    <tr>\n",
       "      <th>1</th>\n",
       "      <td>2019-10-01 04:00:15+00:00</td>\n",
       "      <td>174</td>\n",
       "      <td>2019-10-01 00:00:15-04:00</td>\n",
       "      <td>2019-10-01 00:03:10-04:00</td>\n",
       "      <td>3301</td>\n",
       "      <td>Columbus Ave &amp; W 95 St</td>\n",
       "      <td>40.791956</td>\n",
       "      <td>-73.968087</td>\n",
       "      <td>3283</td>\n",
       "      <td>W 89 St &amp; Columbus Ave</td>\n",
       "      <td>40.788221</td>\n",
       "      <td>-73.970416</td>\n",
       "      <td>18264</td>\n",
       "      <td>Subscriber</td>\n",
       "      <td>1992</td>\n",
       "      <td>1</td>\n",
       "      <td>0.459195</td>\n",
       "      <td>28</td>\n",
       "    </tr>\n",
       "    <tr>\n",
       "      <th>2</th>\n",
       "      <td>2019-10-01 04:00:19+00:00</td>\n",
       "      <td>759</td>\n",
       "      <td>2019-10-01 00:00:19-04:00</td>\n",
       "      <td>2019-10-01 00:12:59-04:00</td>\n",
       "      <td>161</td>\n",
       "      <td>LaGuardia Pl &amp; W 3 St</td>\n",
       "      <td>40.729170</td>\n",
       "      <td>-73.998102</td>\n",
       "      <td>174</td>\n",
       "      <td>E 25 St &amp; 1 Ave</td>\n",
       "      <td>40.738177</td>\n",
       "      <td>-73.977387</td>\n",
       "      <td>25525</td>\n",
       "      <td>Subscriber</td>\n",
       "      <td>1995</td>\n",
       "      <td>1</td>\n",
       "      <td>2.012348</td>\n",
       "      <td>25</td>\n",
       "    </tr>\n",
       "    <tr>\n",
       "      <th>3</th>\n",
       "      <td>2019-10-01 04:00:21+00:00</td>\n",
       "      <td>615</td>\n",
       "      <td>2019-10-01 00:00:21-04:00</td>\n",
       "      <td>2019-10-01 00:10:36-04:00</td>\n",
       "      <td>254</td>\n",
       "      <td>W 11 St &amp; 6 Ave</td>\n",
       "      <td>40.735324</td>\n",
       "      <td>-73.998004</td>\n",
       "      <td>477</td>\n",
       "      <td>W 41 St &amp; 8 Ave</td>\n",
       "      <td>40.756405</td>\n",
       "      <td>-73.990026</td>\n",
       "      <td>30186</td>\n",
       "      <td>Subscriber</td>\n",
       "      <td>1992</td>\n",
       "      <td>1</td>\n",
       "      <td>2.438568</td>\n",
       "      <td>28</td>\n",
       "    </tr>\n",
       "    <tr>\n",
       "      <th>4</th>\n",
       "      <td>2019-10-01 04:00:26+00:00</td>\n",
       "      <td>761</td>\n",
       "      <td>2019-10-01 00:00:26-04:00</td>\n",
       "      <td>2019-10-01 00:13:08-04:00</td>\n",
       "      <td>161</td>\n",
       "      <td>LaGuardia Pl &amp; W 3 St</td>\n",
       "      <td>40.729170</td>\n",
       "      <td>-73.998102</td>\n",
       "      <td>174</td>\n",
       "      <td>E 25 St &amp; 1 Ave</td>\n",
       "      <td>40.738177</td>\n",
       "      <td>-73.977387</td>\n",
       "      <td>25597</td>\n",
       "      <td>Subscriber</td>\n",
       "      <td>1992</td>\n",
       "      <td>1</td>\n",
       "      <td>2.012348</td>\n",
       "      <td>28</td>\n",
       "    </tr>\n",
       "  </tbody>\n",
       "</table>\n",
       "</div>"
      ],
      "text/plain": [
       "                     dt_utc  Trip Duration                Start Time  \\\n",
       "0 2019-10-01 04:00:05+00:00            527 2019-10-01 00:00:05-04:00   \n",
       "1 2019-10-01 04:00:15+00:00            174 2019-10-01 00:00:15-04:00   \n",
       "2 2019-10-01 04:00:19+00:00            759 2019-10-01 00:00:19-04:00   \n",
       "3 2019-10-01 04:00:21+00:00            615 2019-10-01 00:00:21-04:00   \n",
       "4 2019-10-01 04:00:26+00:00            761 2019-10-01 00:00:26-04:00   \n",
       "\n",
       "                  Stop Time  Start Station ID      Start Station Name  \\\n",
       "0 2019-10-01 00:08:52-04:00              3746       6 Ave & Broome St   \n",
       "1 2019-10-01 00:03:10-04:00              3301  Columbus Ave & W 95 St   \n",
       "2 2019-10-01 00:12:59-04:00               161   LaGuardia Pl & W 3 St   \n",
       "3 2019-10-01 00:10:36-04:00               254         W 11 St & 6 Ave   \n",
       "4 2019-10-01 00:13:08-04:00               161   LaGuardia Pl & W 3 St   \n",
       "\n",
       "   Start Station Latitude  Start Station Longitude  End Station ID  \\\n",
       "0               40.724308               -74.004730             223   \n",
       "1               40.791956               -73.968087            3283   \n",
       "2               40.729170               -73.998102             174   \n",
       "3               40.735324               -73.998004             477   \n",
       "4               40.729170               -73.998102             174   \n",
       "\n",
       "         End Station Name  End Station Latitude  End Station Longitude  \\\n",
       "0         W 13 St & 7 Ave             40.737815             -73.999947   \n",
       "1  W 89 St & Columbus Ave             40.788221             -73.970416   \n",
       "2         E 25 St & 1 Ave             40.738177             -73.977387   \n",
       "3         W 41 St & 8 Ave             40.756405             -73.990026   \n",
       "4         E 25 St & 1 Ave             40.738177             -73.977387   \n",
       "\n",
       "   Bike ID   User Type  Birth Year Gender  Linear Distance  Age 2020  \n",
       "0    41750  Subscriber        1993      1         1.555035        27  \n",
       "1    18264  Subscriber        1992      1         0.459195        28  \n",
       "2    25525  Subscriber        1995      1         2.012348        25  \n",
       "3    30186  Subscriber        1992      1         2.438568        28  \n",
       "4    25597  Subscriber        1992      1         2.012348        28  "
      ]
     },
     "execution_count": 15,
     "metadata": {},
     "output_type": "execute_result"
    }
   ],
   "source": [
    "tripdata.head()"
   ]
  },
  {
   "cell_type": "markdown",
   "metadata": {},
   "source": [
    "### Zusammenführen"
   ]
  },
  {
   "cell_type": "code",
   "execution_count": 16,
   "metadata": {},
   "outputs": [],
   "source": [
    "tripweather = pd.merge_asof(tripdata, weatherdata, on='dt_utc', direction='nearest')"
   ]
  },
  {
   "cell_type": "code",
   "execution_count": 17,
   "metadata": {},
   "outputs": [
    {
     "data": {
      "text/html": [
       "<div>\n",
       "<style scoped>\n",
       "    .dataframe tbody tr th:only-of-type {\n",
       "        vertical-align: middle;\n",
       "    }\n",
       "\n",
       "    .dataframe tbody tr th {\n",
       "        vertical-align: top;\n",
       "    }\n",
       "\n",
       "    .dataframe thead th {\n",
       "        text-align: right;\n",
       "    }\n",
       "</style>\n",
       "<table border=\"1\" class=\"dataframe\">\n",
       "  <thead>\n",
       "    <tr style=\"text-align: right;\">\n",
       "      <th></th>\n",
       "      <th>dt_utc</th>\n",
       "      <th>Trip Duration</th>\n",
       "      <th>Start Time</th>\n",
       "      <th>Stop Time</th>\n",
       "      <th>Start Station ID</th>\n",
       "      <th>Start Station Name</th>\n",
       "      <th>Start Station Latitude</th>\n",
       "      <th>Start Station Longitude</th>\n",
       "      <th>End Station ID</th>\n",
       "      <th>End Station Name</th>\n",
       "      <th>...</th>\n",
       "      <th>temp</th>\n",
       "      <th>pressure</th>\n",
       "      <th>humidity</th>\n",
       "      <th>wind_speed</th>\n",
       "      <th>rain_1h</th>\n",
       "      <th>snow_1h</th>\n",
       "      <th>clouds_all</th>\n",
       "      <th>weather_id</th>\n",
       "      <th>weather_main</th>\n",
       "      <th>weather_description</th>\n",
       "    </tr>\n",
       "  </thead>\n",
       "  <tbody>\n",
       "    <tr>\n",
       "      <th>2092568</th>\n",
       "      <td>2019-11-01 03:59:12+00:00</td>\n",
       "      <td>729</td>\n",
       "      <td>2019-10-31 23:59:12-04:00</td>\n",
       "      <td>2019-11-01 00:11:21-04:00</td>\n",
       "      <td>237</td>\n",
       "      <td>E 11 St &amp; 2 Ave</td>\n",
       "      <td>40.730473</td>\n",
       "      <td>-73.986724</td>\n",
       "      <td>311</td>\n",
       "      <td>Norfolk St &amp; Broome St</td>\n",
       "      <td>...</td>\n",
       "      <td>21.16</td>\n",
       "      <td>1000</td>\n",
       "      <td>86</td>\n",
       "      <td>16.07</td>\n",
       "      <td>0.28</td>\n",
       "      <td>0.0</td>\n",
       "      <td>100</td>\n",
       "      <td>500</td>\n",
       "      <td>Rain</td>\n",
       "      <td>light rain</td>\n",
       "    </tr>\n",
       "    <tr>\n",
       "      <th>2092569</th>\n",
       "      <td>2019-11-01 03:59:17+00:00</td>\n",
       "      <td>645</td>\n",
       "      <td>2019-10-31 23:59:17-04:00</td>\n",
       "      <td>2019-11-01 00:10:02-04:00</td>\n",
       "      <td>3259</td>\n",
       "      <td>9 Ave &amp; W 28 St</td>\n",
       "      <td>40.749370</td>\n",
       "      <td>-73.999234</td>\n",
       "      <td>461</td>\n",
       "      <td>E 20 St &amp; 2 Ave</td>\n",
       "      <td>...</td>\n",
       "      <td>21.16</td>\n",
       "      <td>1000</td>\n",
       "      <td>86</td>\n",
       "      <td>16.07</td>\n",
       "      <td>0.28</td>\n",
       "      <td>0.0</td>\n",
       "      <td>100</td>\n",
       "      <td>500</td>\n",
       "      <td>Rain</td>\n",
       "      <td>light rain</td>\n",
       "    </tr>\n",
       "    <tr>\n",
       "      <th>2092570</th>\n",
       "      <td>2019-11-01 03:59:22+00:00</td>\n",
       "      <td>257</td>\n",
       "      <td>2019-10-31 23:59:22-04:00</td>\n",
       "      <td>2019-11-01 00:03:40-04:00</td>\n",
       "      <td>3798</td>\n",
       "      <td>W 40 St &amp; 5 Ave</td>\n",
       "      <td>40.752269</td>\n",
       "      <td>-73.982079</td>\n",
       "      <td>505</td>\n",
       "      <td>6 Ave &amp; W 33 St</td>\n",
       "      <td>...</td>\n",
       "      <td>21.16</td>\n",
       "      <td>1000</td>\n",
       "      <td>86</td>\n",
       "      <td>16.07</td>\n",
       "      <td>0.28</td>\n",
       "      <td>0.0</td>\n",
       "      <td>100</td>\n",
       "      <td>500</td>\n",
       "      <td>Rain</td>\n",
       "      <td>light rain</td>\n",
       "    </tr>\n",
       "    <tr>\n",
       "      <th>2092571</th>\n",
       "      <td>2019-11-01 03:59:23+00:00</td>\n",
       "      <td>466</td>\n",
       "      <td>2019-10-31 23:59:23-04:00</td>\n",
       "      <td>2019-11-01 00:07:09-04:00</td>\n",
       "      <td>328</td>\n",
       "      <td>Watts St &amp; Greenwich St</td>\n",
       "      <td>40.724055</td>\n",
       "      <td>-74.009660</td>\n",
       "      <td>361</td>\n",
       "      <td>Allen St &amp; Hester St</td>\n",
       "      <td>...</td>\n",
       "      <td>21.16</td>\n",
       "      <td>1000</td>\n",
       "      <td>86</td>\n",
       "      <td>16.07</td>\n",
       "      <td>0.28</td>\n",
       "      <td>0.0</td>\n",
       "      <td>100</td>\n",
       "      <td>500</td>\n",
       "      <td>Rain</td>\n",
       "      <td>light rain</td>\n",
       "    </tr>\n",
       "    <tr>\n",
       "      <th>2092572</th>\n",
       "      <td>2019-11-01 03:59:51+00:00</td>\n",
       "      <td>81</td>\n",
       "      <td>2019-10-31 23:59:51-04:00</td>\n",
       "      <td>2019-11-01 00:01:13-04:00</td>\n",
       "      <td>539</td>\n",
       "      <td>Metropolitan Ave &amp; Bedford Ave</td>\n",
       "      <td>40.715348</td>\n",
       "      <td>-73.960241</td>\n",
       "      <td>3093</td>\n",
       "      <td>N 6 St &amp; Bedford Ave</td>\n",
       "      <td>...</td>\n",
       "      <td>21.16</td>\n",
       "      <td>1000</td>\n",
       "      <td>86</td>\n",
       "      <td>16.07</td>\n",
       "      <td>0.28</td>\n",
       "      <td>0.0</td>\n",
       "      <td>100</td>\n",
       "      <td>500</td>\n",
       "      <td>Rain</td>\n",
       "      <td>light rain</td>\n",
       "    </tr>\n",
       "  </tbody>\n",
       "</table>\n",
       "<p>5 rows × 28 columns</p>\n",
       "</div>"
      ],
      "text/plain": [
       "                           dt_utc  Trip Duration                Start Time  \\\n",
       "2092568 2019-11-01 03:59:12+00:00            729 2019-10-31 23:59:12-04:00   \n",
       "2092569 2019-11-01 03:59:17+00:00            645 2019-10-31 23:59:17-04:00   \n",
       "2092570 2019-11-01 03:59:22+00:00            257 2019-10-31 23:59:22-04:00   \n",
       "2092571 2019-11-01 03:59:23+00:00            466 2019-10-31 23:59:23-04:00   \n",
       "2092572 2019-11-01 03:59:51+00:00             81 2019-10-31 23:59:51-04:00   \n",
       "\n",
       "                        Stop Time  Start Station ID  \\\n",
       "2092568 2019-11-01 00:11:21-04:00               237   \n",
       "2092569 2019-11-01 00:10:02-04:00              3259   \n",
       "2092570 2019-11-01 00:03:40-04:00              3798   \n",
       "2092571 2019-11-01 00:07:09-04:00               328   \n",
       "2092572 2019-11-01 00:01:13-04:00               539   \n",
       "\n",
       "                     Start Station Name  Start Station Latitude  \\\n",
       "2092568                 E 11 St & 2 Ave               40.730473   \n",
       "2092569                 9 Ave & W 28 St               40.749370   \n",
       "2092570                 W 40 St & 5 Ave               40.752269   \n",
       "2092571         Watts St & Greenwich St               40.724055   \n",
       "2092572  Metropolitan Ave & Bedford Ave               40.715348   \n",
       "\n",
       "         Start Station Longitude  End Station ID        End Station Name  ...  \\\n",
       "2092568               -73.986724             311  Norfolk St & Broome St  ...   \n",
       "2092569               -73.999234             461         E 20 St & 2 Ave  ...   \n",
       "2092570               -73.982079             505         6 Ave & W 33 St  ...   \n",
       "2092571               -74.009660             361    Allen St & Hester St  ...   \n",
       "2092572               -73.960241            3093    N 6 St & Bedford Ave  ...   \n",
       "\n",
       "          temp  pressure  humidity wind_speed  rain_1h snow_1h  clouds_all  \\\n",
       "2092568  21.16      1000        86      16.07     0.28     0.0         100   \n",
       "2092569  21.16      1000        86      16.07     0.28     0.0         100   \n",
       "2092570  21.16      1000        86      16.07     0.28     0.0         100   \n",
       "2092571  21.16      1000        86      16.07     0.28     0.0         100   \n",
       "2092572  21.16      1000        86      16.07     0.28     0.0         100   \n",
       "\n",
       "         weather_id  weather_main  weather_description  \n",
       "2092568         500          Rain           light rain  \n",
       "2092569         500          Rain           light rain  \n",
       "2092570         500          Rain           light rain  \n",
       "2092571         500          Rain           light rain  \n",
       "2092572         500          Rain           light rain  \n",
       "\n",
       "[5 rows x 28 columns]"
      ]
     },
     "execution_count": 17,
     "metadata": {},
     "output_type": "execute_result"
    }
   ],
   "source": [
    "tripweather.tail()"
   ]
  },
  {
   "cell_type": "code",
   "execution_count": 18,
   "metadata": {},
   "outputs": [
    {
     "data": {
      "text/plain": [
       "dt_utc                          2019-11-01 03:59:51+00:00\n",
       "Trip Duration                                          81\n",
       "Start Time                      2019-10-31 23:59:51-04:00\n",
       "Stop Time                       2019-11-01 00:01:13-04:00\n",
       "Start Station ID                                      539\n",
       "Start Station Name         Metropolitan Ave & Bedford Ave\n",
       "Start Station Latitude                            40.7153\n",
       "Start Station Longitude                          -73.9602\n",
       "End Station ID                                       3093\n",
       "End Station Name                     N 6 St & Bedford Ave\n",
       "End Station Latitude                              40.7175\n",
       "End Station Longitude                            -73.9585\n",
       "Bike ID                                             25745\n",
       "User Type                                      Subscriber\n",
       "Birth Year                                           1990\n",
       "Gender                                                  1\n",
       "Linear Distance                                  0.275695\n",
       "Age 2020                                               30\n",
       "temp                                                21.16\n",
       "pressure                                             1000\n",
       "humidity                                               86\n",
       "wind_speed                                          16.07\n",
       "rain_1h                                              0.28\n",
       "snow_1h                                                 0\n",
       "clouds_all                                            100\n",
       "weather_id                                            500\n",
       "weather_main                                         Rain\n",
       "weather_description                            light rain\n",
       "Name: 2092572, dtype: object"
      ]
     },
     "execution_count": 18,
     "metadata": {},
     "output_type": "execute_result"
    }
   ],
   "source": [
    "tripweather.iloc[-1]"
   ]
  },
  {
   "cell_type": "markdown",
   "metadata": {},
   "source": [
    "### Export der Daten"
   ]
  },
  {
   "cell_type": "code",
   "execution_count": 19,
   "metadata": {},
   "outputs": [],
   "source": [
    "tripweather.to_parquet(os.path.join(path_tripdata, '201910-citibike-tripweather-data.parquet'), index=None)"
   ]
  },
  {
   "cell_type": "code",
   "execution_count": 20,
   "metadata": {},
   "outputs": [],
   "source": [
    "tripweather.to_csv(os.path.join(path_tripdata, '201910-citibike-tripweather-data.csv'), index=None)"
   ]
  },
  {
   "cell_type": "markdown",
   "metadata": {},
   "source": [
    "### Export der Daten (Samples für Deployment mit wenig Memory)"
   ]
  },
  {
   "cell_type": "code",
   "execution_count": 21,
   "metadata": {},
   "outputs": [],
   "source": [
    "for n in [1000, 5000, 10000, 25000, 50000, 100000]:\n",
    "    tripweather_samples = tripweather.sample(n=n, random_state=SEED)\n",
    "    tripweather_samples.to_parquet(os.path.join(path_tripdata, 'samples_{}_201910-citibike-tripweather-data.parquet'.format(n)), index=None)\n",
    "    tripweather_samples.to_csv(os.path.join(path_tripdata, 'samples_{}_201910-citibike-tripweather-data.csv'.format(n)), index=None)"
   ]
  },
  {
   "cell_type": "markdown",
   "metadata": {},
   "source": [
    "## Stichproben aus jedem Monat über alle Jahre"
   ]
  },
  {
   "cell_type": "code",
   "execution_count": 22,
   "metadata": {},
   "outputs": [],
   "source": [
    "tripdata_samples_per_month = pd.read_parquet(os.path.join(path_tripdata, 'samples_per_month-citibike-tripdata.parquet'))"
   ]
  },
  {
   "cell_type": "code",
   "execution_count": 23,
   "metadata": {},
   "outputs": [],
   "source": [
    "tripdata_samples_per_month.insert(0, 'dt_utc', tripdata_samples_per_month['Start Time'].dt.tz_convert('UTC'))"
   ]
  },
  {
   "cell_type": "code",
   "execution_count": 24,
   "metadata": {},
   "outputs": [],
   "source": [
    "tripweather_samples_per_month = pd.merge_asof(tripdata_samples_per_month, weatherdata, on='dt_utc', direction='nearest')"
   ]
  },
  {
   "cell_type": "code",
   "execution_count": 25,
   "metadata": {},
   "outputs": [],
   "source": [
    "tripweather_samples_per_month.to_parquet(os.path.join(path_tripdata, 'samples_per_month-citibike-tripweather.parquet'), index=None)"
   ]
  },
  {
   "cell_type": "code",
   "execution_count": 26,
   "metadata": {},
   "outputs": [],
   "source": [
    "tripweather_samples_per_month.to_csv(os.path.join(path_tripdata, 'samples_per_month-citibike-tripweather.csv'), index=None)"
   ]
  },
  {
   "cell_type": "markdown",
   "metadata": {},
   "source": [
    "## Stichproben aus jedem Tag über alle Jahre"
   ]
  },
  {
   "cell_type": "code",
   "execution_count": 27,
   "metadata": {},
   "outputs": [],
   "source": [
    "tripdata_samples_per_day = pd.read_parquet(os.path.join(path_tripdata, 'samples_per_day-citibike-tripdata.parquet'))"
   ]
  },
  {
   "cell_type": "code",
   "execution_count": 28,
   "metadata": {},
   "outputs": [],
   "source": [
    "tripdata_samples_per_day.insert(0, 'dt_utc', tripdata_samples_per_day['Start Time'].dt.tz_convert('UTC'))"
   ]
  },
  {
   "cell_type": "code",
   "execution_count": 29,
   "metadata": {},
   "outputs": [],
   "source": [
    "tripweather_samples_per_day = pd.merge_asof(tripdata_samples_per_day, weatherdata, on='dt_utc', direction='nearest')"
   ]
  },
  {
   "cell_type": "code",
   "execution_count": 30,
   "metadata": {},
   "outputs": [],
   "source": [
    "tripweather_samples_per_day.to_parquet(os.path.join(path_tripdata, 'samples_per_day-citibike-tripweather.parquet'), index=None)"
   ]
  },
  {
   "cell_type": "code",
   "execution_count": 31,
   "metadata": {},
   "outputs": [],
   "source": [
    "tripweather_samples_per_day.to_csv(os.path.join(path_tripdata, 'samples_per_day-citibike-tripweather.csv'), index=None)"
   ]
  },
  {
   "cell_type": "markdown",
   "metadata": {},
   "source": [
    "## Tägliche Zusammenfassung"
   ]
  },
  {
   "cell_type": "code",
   "execution_count": 32,
   "metadata": {},
   "outputs": [],
   "source": [
    "tripdata_daily = pd.read_parquet(os.path.join(path_tripdata, 'summary-daily-subscribers_only-citibike-tripdata.parquet'))"
   ]
  },
  {
   "cell_type": "code",
   "execution_count": 33,
   "metadata": {},
   "outputs": [],
   "source": [
    "tripweather_daily = pd.merge(tripdata_daily, weatherdata_daily, on='Date')"
   ]
  },
  {
   "cell_type": "code",
   "execution_count": 34,
   "metadata": {},
   "outputs": [],
   "source": [
    "tripweather_daily.to_parquet(os.path.join(path_tripdata, 'summary-daily-subscribers_only-citibike-tripweather.parquet'), index=None)"
   ]
  },
  {
   "cell_type": "code",
   "execution_count": 35,
   "metadata": {},
   "outputs": [],
   "source": [
    "tripweather_daily.to_csv(os.path.join(path_tripdata, 'summary-daily-subscribers_only-citibike-tripweather.csv'), index=None)"
   ]
  },
  {
   "cell_type": "code",
   "execution_count": 45,
   "metadata": {},
   "outputs": [
    {
     "data": {
      "text/plain": [
       "2488"
      ]
     },
     "execution_count": 45,
     "metadata": {},
     "output_type": "execute_result"
    }
   ],
   "source": [
    "tripweather_daily['Trip count'].count()"
   ]
  },
  {
   "cell_type": "markdown",
   "metadata": {},
   "source": [
    "## Tägliche Zusammenfassung Gruppiert"
   ]
  },
  {
   "cell_type": "code",
   "execution_count": 46,
   "metadata": {},
   "outputs": [],
   "source": [
    "tripdata_daily_grouped = pd.read_parquet(os.path.join(path_tripdata, 'summary-daily-subscribers_only-gender_grouped-citibike-tripdata.parquet'))"
   ]
  },
  {
   "cell_type": "code",
   "execution_count": 47,
   "metadata": {},
   "outputs": [],
   "source": [
    "tripdata_daily_grouped = tripdata_daily_grouped.reset_index(['Gender'])"
   ]
  },
  {
   "cell_type": "code",
   "execution_count": 48,
   "metadata": {},
   "outputs": [],
   "source": [
    "tripweather_daily_grouped = pd.merge(tripdata_daily_grouped, weatherdata_daily, on='Date')"
   ]
  },
  {
   "cell_type": "code",
   "execution_count": 49,
   "metadata": {},
   "outputs": [],
   "source": [
    "tripweather_daily_grouped.to_parquet(os.path.join(path_tripdata, 'summary-daily-subscribers_only-gender_grouped-citibike-tripweather.parquet'), index=None)"
   ]
  },
  {
   "cell_type": "code",
   "execution_count": 50,
   "metadata": {},
   "outputs": [],
   "source": [
    "tripweather_daily_grouped.to_csv(os.path.join(path_tripdata, 'summary-daily-subscribers_only-gender_grouped-citibike-tripweather.csv'), index=None)"
   ]
  },
  {
   "cell_type": "code",
   "execution_count": 52,
   "metadata": {},
   "outputs": [
    {
     "data": {
      "text/plain": [
       "7277"
      ]
     },
     "execution_count": 52,
     "metadata": {},
     "output_type": "execute_result"
    }
   ],
   "source": [
    "tripweather_daily_grouped['Trip count'].count()"
   ]
  },
  {
   "cell_type": "code",
   "execution_count": null,
   "metadata": {},
   "outputs": [],
   "source": []
  }
 ],
 "metadata": {
  "kernelspec": {
   "display_name": "Python 3",
   "language": "python",
   "name": "python3"
  },
  "language_info": {
   "codemirror_mode": {
    "name": "ipython",
    "version": 3
   },
   "file_extension": ".py",
   "mimetype": "text/x-python",
   "name": "python",
   "nbconvert_exporter": "python",
   "pygments_lexer": "ipython3",
   "version": "3.8.0"
  }
 },
 "nbformat": 4,
 "nbformat_minor": 4
}
