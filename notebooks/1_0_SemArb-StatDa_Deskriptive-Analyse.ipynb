{
 "cells": [
  {
   "cell_type": "markdown",
   "metadata": {},
   "source": [
    "FFHS DAS Data Science  \n",
    "Semesterarbeit FS20  \n",
    "Iwan Imsand"
   ]
  },
  {
   "cell_type": "markdown",
   "metadata": {},
   "source": [
    "Statistische Datenanalyse, StatDa  \n",
    "**Nach der ersten Präsenz**"
   ]
  },
  {
   "cell_type": "markdown",
   "metadata": {},
   "source": [
    "# Deskriptive Analyse"
   ]
  },
  {
   "cell_type": "markdown",
   "metadata": {},
   "source": [
    "In diesem Kapitel wird eine deskriptive Analyse für den gewählten Datensatz durchgeführt."
   ]
  },
  {
   "cell_type": "markdown",
   "metadata": {},
   "source": [
    "## Zusammenfassung"
   ]
  },
  {
   "cell_type": "markdown",
   "metadata": {},
   "source": [
    "**<font color='red'>TODO</font>**"
   ]
  },
  {
   "cell_type": "markdown",
   "metadata": {},
   "source": [
    "# Daten\n",
    "\n",
    "## Quelle der Rohdaten\n",
    "\n",
    "Folgende Quellen wurden benutzt:\n",
    "\n",
    "* **[CitiBike NYC](https://www.citibikenyc.com/)**\n",
    "   * Beschreibung: [CitiBike NYC System Data](https://www.citibikenyc.com/system-data)\n",
    "   * Rohdaten: [tripdata](https://s3.amazonaws.com/tripdata/index.html)\n",
    "   * Bemerkung: Daten sind frei verfügubar\n",
    "* **[OpenWeather](https://openweathermap.org/)** (gekaufte Daten)\n",
    "   * Beschreibung: [Weather parameters in History Bulk](https://openweathermap.org/history-bulk#parameter)\n",
    "   * Rohdaten: [History Bulk](https://openweathermap.org/history-bulk)\n",
    "   * Bemerkung: Daten für New York wurden für 10$ gekauft\n",
    "   \n",
    "Die Datenbeschaffung, Bereinigung und Zusammenführung wurde in den Notebooks ```0_*.ipynb``` durchgeführt.\n",
    "\n",
    "## Daten für die Analysen\n",
    "\n",
    "**Als Grundlage für alle nachfolgenden Analysen, dienen die folgenden Daten**:\n",
    "\n",
    "| Dateiname                                                                            | Beschreibung\n",
    "| ------------------------------------------------------------------------------------ | -------------\n",
    "| **```samples_5000_201910-citibike-tripweather-data.parquet```**                      | Enthält 5000 zufällig gewählte Stichproben aus dem Monat Oktober des Jahres 2019.\n",
    "| **```summary-daily-subscribers_only-citibike-tripweather.parquet```**                | Enthält eine aggregierte Zusammenfassung pro Tag über alle Jahre. Es wurden nur Jahresmitglieder berücksichtigt!\n",
    "| **```summary-daily-subscribers_only-gender_grouped-citibike-tripweather.parquet```** | Enthält eine nach Geschlecht gruppierte und aggregierte Zusammenfassung pro Tag über alle Jahre. Es wurden nur Jahresmitglieder berücksichtigt!\n",
    "\n",
    "Alle Dateien befinden sich im Pfad ```./../data/citibike/tripdata/```."
   ]
  },
  {
   "cell_type": "code",
   "execution_count": 3,
   "metadata": {},
   "outputs": [],
   "source": [
    "import os\n",
    "import pandas as pd\n",
    "import numpy as np\n",
    "\n",
    "import matplotlib.pyplot as plt\n",
    "import matplotlib.gridspec as gridspec\n",
    "import seaborn as sns"
   ]
  },
  {
   "cell_type": "code",
   "execution_count": 4,
   "metadata": {},
   "outputs": [],
   "source": [
    "%matplotlib inline"
   ]
  },
  {
   "cell_type": "code",
   "execution_count": 5,
   "metadata": {},
   "outputs": [],
   "source": [
    "pd.options.display.float_format = '{:.5f}'.format"
   ]
  },
  {
   "cell_type": "code",
   "execution_count": 6,
   "metadata": {},
   "outputs": [],
   "source": [
    "path = './../data/citibike/tripdata'"
   ]
  },
  {
   "cell_type": "markdown",
   "metadata": {},
   "source": [
    "# Analyse ```samples_5000_201910-citibike-tripweather-data.parquet```"
   ]
  },
  {
   "cell_type": "markdown",
   "metadata": {},
   "source": [
    "## Merkmale"
   ]
  },
  {
   "cell_type": "code",
   "execution_count": 7,
   "metadata": {},
   "outputs": [],
   "source": [
    "df_oct2019 = pd.read_parquet(os.path.join(path, 'samples_5000_201910-citibike-tripweather-data.parquet'))"
   ]
  },
  {
   "cell_type": "code",
   "execution_count": 8,
   "metadata": {},
   "outputs": [
    {
     "data": {
      "text/html": [
       "<div>\n",
       "<style scoped>\n",
       "    .dataframe tbody tr th:only-of-type {\n",
       "        vertical-align: middle;\n",
       "    }\n",
       "\n",
       "    .dataframe tbody tr th {\n",
       "        vertical-align: top;\n",
       "    }\n",
       "\n",
       "    .dataframe thead th {\n",
       "        text-align: right;\n",
       "    }\n",
       "</style>\n",
       "<table border=\"1\" class=\"dataframe\">\n",
       "  <thead>\n",
       "    <tr style=\"text-align: right;\">\n",
       "      <th></th>\n",
       "      <th>811188</th>\n",
       "      <th>623554</th>\n",
       "      <th>1722948</th>\n",
       "      <th>1493393</th>\n",
       "      <th>909432</th>\n",
       "    </tr>\n",
       "  </thead>\n",
       "  <tbody>\n",
       "    <tr>\n",
       "      <th>dt_utc</th>\n",
       "      <td>2019-10-12 16:20:30+00:00</td>\n",
       "      <td>2019-10-10 01:07:17+00:00</td>\n",
       "      <td>2019-10-25 21:17:12+00:00</td>\n",
       "      <td>2019-10-22 21:36:53+00:00</td>\n",
       "      <td>2019-10-13 20:59:23+00:00</td>\n",
       "    </tr>\n",
       "    <tr>\n",
       "      <th>Trip Duration</th>\n",
       "      <td>357</td>\n",
       "      <td>299</td>\n",
       "      <td>552</td>\n",
       "      <td>220</td>\n",
       "      <td>2063</td>\n",
       "    </tr>\n",
       "    <tr>\n",
       "      <th>Start Time</th>\n",
       "      <td>2019-10-12 12:20:30-04:00</td>\n",
       "      <td>2019-10-09 21:07:17-04:00</td>\n",
       "      <td>2019-10-25 17:17:12-04:00</td>\n",
       "      <td>2019-10-22 17:36:53-04:00</td>\n",
       "      <td>2019-10-13 16:59:23-04:00</td>\n",
       "    </tr>\n",
       "    <tr>\n",
       "      <th>Stop Time</th>\n",
       "      <td>2019-10-12 12:26:27-04:00</td>\n",
       "      <td>2019-10-09 21:12:16-04:00</td>\n",
       "      <td>2019-10-25 17:26:25-04:00</td>\n",
       "      <td>2019-10-22 17:40:34-04:00</td>\n",
       "      <td>2019-10-13 17:33:46-04:00</td>\n",
       "    </tr>\n",
       "    <tr>\n",
       "      <th>Start Station ID</th>\n",
       "      <td>3411</td>\n",
       "      <td>3102</td>\n",
       "      <td>3233</td>\n",
       "      <td>296</td>\n",
       "      <td>3777</td>\n",
       "    </tr>\n",
       "    <tr>\n",
       "      <th>Start Station Name</th>\n",
       "      <td>Bond St &amp; Bergen St</td>\n",
       "      <td>Driggs Ave &amp; Lorimer St</td>\n",
       "      <td>E 48 St &amp; 5 Ave</td>\n",
       "      <td>Division St &amp; Bowery</td>\n",
       "      <td>Stockholm St &amp; Wilson Ave</td>\n",
       "    </tr>\n",
       "    <tr>\n",
       "      <th>Start Station Latitude</th>\n",
       "      <td>40.68497</td>\n",
       "      <td>40.72179</td>\n",
       "      <td>40.75725</td>\n",
       "      <td>40.71413</td>\n",
       "      <td>40.69930</td>\n",
       "    </tr>\n",
       "    <tr>\n",
       "      <th>Start Station Longitude</th>\n",
       "      <td>-73.98621</td>\n",
       "      <td>-73.95042</td>\n",
       "      <td>-73.97806</td>\n",
       "      <td>-73.99705</td>\n",
       "      <td>-73.92304</td>\n",
       "    </tr>\n",
       "    <tr>\n",
       "      <th>End Station ID</th>\n",
       "      <td>83</td>\n",
       "      <td>3094</td>\n",
       "      <td>486</td>\n",
       "      <td>307</td>\n",
       "      <td>3346</td>\n",
       "    </tr>\n",
       "    <tr>\n",
       "      <th>End Station Name</th>\n",
       "      <td>Atlantic Ave &amp; Fort Greene Pl</td>\n",
       "      <td>Graham Ave &amp; Withers St</td>\n",
       "      <td>Broadway &amp; W 29 St</td>\n",
       "      <td>Canal St &amp; Rutgers St</td>\n",
       "      <td>Berkeley Pl &amp; 7 Ave</td>\n",
       "    </tr>\n",
       "    <tr>\n",
       "      <th>End Station Latitude</th>\n",
       "      <td>40.68383</td>\n",
       "      <td>40.71698</td>\n",
       "      <td>40.74620</td>\n",
       "      <td>40.71427</td>\n",
       "      <td>40.67515</td>\n",
       "    </tr>\n",
       "    <tr>\n",
       "      <th>End Station Longitude</th>\n",
       "      <td>-73.97632</td>\n",
       "      <td>-73.94486</td>\n",
       "      <td>-73.98856</td>\n",
       "      <td>-73.98990</td>\n",
       "      <td>-73.97523</td>\n",
       "    </tr>\n",
       "    <tr>\n",
       "      <th>Bike ID</th>\n",
       "      <td>17412</td>\n",
       "      <td>34154</td>\n",
       "      <td>20074</td>\n",
       "      <td>28029</td>\n",
       "      <td>40779</td>\n",
       "    </tr>\n",
       "    <tr>\n",
       "      <th>User Type</th>\n",
       "      <td>Subscriber</td>\n",
       "      <td>Subscriber</td>\n",
       "      <td>Subscriber</td>\n",
       "      <td>Subscriber</td>\n",
       "      <td>Subscriber</td>\n",
       "    </tr>\n",
       "    <tr>\n",
       "      <th>Birth Year</th>\n",
       "      <td>1997</td>\n",
       "      <td>1988</td>\n",
       "      <td>1980</td>\n",
       "      <td>1962</td>\n",
       "      <td>1989</td>\n",
       "    </tr>\n",
       "    <tr>\n",
       "      <th>Gender</th>\n",
       "      <td>1</td>\n",
       "      <td>2</td>\n",
       "      <td>1</td>\n",
       "      <td>1</td>\n",
       "      <td>1</td>\n",
       "    </tr>\n",
       "    <tr>\n",
       "      <th>Linear Distance</th>\n",
       "      <td>0.84306</td>\n",
       "      <td>0.71088</td>\n",
       "      <td>1.51337</td>\n",
       "      <td>0.60254</td>\n",
       "      <td>5.15542</td>\n",
       "    </tr>\n",
       "    <tr>\n",
       "      <th>Age 2020</th>\n",
       "      <td>23</td>\n",
       "      <td>32</td>\n",
       "      <td>40</td>\n",
       "      <td>58</td>\n",
       "      <td>31</td>\n",
       "    </tr>\n",
       "    <tr>\n",
       "      <th>temp</th>\n",
       "      <td>15.38000</td>\n",
       "      <td>12.22000</td>\n",
       "      <td>17.38000</td>\n",
       "      <td>15.35000</td>\n",
       "      <td>18.04000</td>\n",
       "    </tr>\n",
       "    <tr>\n",
       "      <th>pressure</th>\n",
       "      <td>1015</td>\n",
       "      <td>1024</td>\n",
       "      <td>1022</td>\n",
       "      <td>1012</td>\n",
       "      <td>1017</td>\n",
       "    </tr>\n",
       "    <tr>\n",
       "      <th>humidity</th>\n",
       "      <td>69</td>\n",
       "      <td>73</td>\n",
       "      <td>73</td>\n",
       "      <td>92</td>\n",
       "      <td>62</td>\n",
       "    </tr>\n",
       "    <tr>\n",
       "      <th>wind_speed</th>\n",
       "      <td>3.05000</td>\n",
       "      <td>8.20000</td>\n",
       "      <td>5.04000</td>\n",
       "      <td>9.64000</td>\n",
       "      <td>3.66000</td>\n",
       "    </tr>\n",
       "    <tr>\n",
       "      <th>rain_1h</th>\n",
       "      <td>0.00000</td>\n",
       "      <td>0.25000</td>\n",
       "      <td>0.00000</td>\n",
       "      <td>0.39000</td>\n",
       "      <td>0.00000</td>\n",
       "    </tr>\n",
       "    <tr>\n",
       "      <th>snow_1h</th>\n",
       "      <td>0.00000</td>\n",
       "      <td>0.00000</td>\n",
       "      <td>0.00000</td>\n",
       "      <td>0.00000</td>\n",
       "      <td>0.00000</td>\n",
       "    </tr>\n",
       "    <tr>\n",
       "      <th>clouds_all</th>\n",
       "      <td>60</td>\n",
       "      <td>0</td>\n",
       "      <td>100</td>\n",
       "      <td>100</td>\n",
       "      <td>100</td>\n",
       "    </tr>\n",
       "    <tr>\n",
       "      <th>weather_id</th>\n",
       "      <td>803</td>\n",
       "      <td>500</td>\n",
       "      <td>804</td>\n",
       "      <td>500</td>\n",
       "      <td>804</td>\n",
       "    </tr>\n",
       "    <tr>\n",
       "      <th>weather_main</th>\n",
       "      <td>Clouds</td>\n",
       "      <td>Rain</td>\n",
       "      <td>Clouds</td>\n",
       "      <td>Rain</td>\n",
       "      <td>Clouds</td>\n",
       "    </tr>\n",
       "    <tr>\n",
       "      <th>weather_description</th>\n",
       "      <td>broken clouds</td>\n",
       "      <td>light rain</td>\n",
       "      <td>overcast clouds</td>\n",
       "      <td>light rain</td>\n",
       "      <td>overcast clouds</td>\n",
       "    </tr>\n",
       "  </tbody>\n",
       "</table>\n",
       "</div>"
      ],
      "text/plain": [
       "                                               811188   \\\n",
       "dt_utc                       2019-10-12 16:20:30+00:00   \n",
       "Trip Duration                                      357   \n",
       "Start Time                   2019-10-12 12:20:30-04:00   \n",
       "Stop Time                    2019-10-12 12:26:27-04:00   \n",
       "Start Station ID                                  3411   \n",
       "Start Station Name                 Bond St & Bergen St   \n",
       "Start Station Latitude                        40.68497   \n",
       "Start Station Longitude                      -73.98621   \n",
       "End Station ID                                      83   \n",
       "End Station Name         Atlantic Ave & Fort Greene Pl   \n",
       "End Station Latitude                          40.68383   \n",
       "End Station Longitude                        -73.97632   \n",
       "Bike ID                                          17412   \n",
       "User Type                                   Subscriber   \n",
       "Birth Year                                        1997   \n",
       "Gender                                               1   \n",
       "Linear Distance                                0.84306   \n",
       "Age 2020                                            23   \n",
       "temp                                          15.38000   \n",
       "pressure                                          1015   \n",
       "humidity                                            69   \n",
       "wind_speed                                     3.05000   \n",
       "rain_1h                                        0.00000   \n",
       "snow_1h                                        0.00000   \n",
       "clouds_all                                          60   \n",
       "weather_id                                         803   \n",
       "weather_main                                    Clouds   \n",
       "weather_description                      broken clouds   \n",
       "\n",
       "                                           623554                     1722948  \\\n",
       "dt_utc                   2019-10-10 01:07:17+00:00  2019-10-25 21:17:12+00:00   \n",
       "Trip Duration                                  299                        552   \n",
       "Start Time               2019-10-09 21:07:17-04:00  2019-10-25 17:17:12-04:00   \n",
       "Stop Time                2019-10-09 21:12:16-04:00  2019-10-25 17:26:25-04:00   \n",
       "Start Station ID                              3102                       3233   \n",
       "Start Station Name         Driggs Ave & Lorimer St            E 48 St & 5 Ave   \n",
       "Start Station Latitude                    40.72179                   40.75725   \n",
       "Start Station Longitude                  -73.95042                  -73.97806   \n",
       "End Station ID                                3094                        486   \n",
       "End Station Name           Graham Ave & Withers St         Broadway & W 29 St   \n",
       "End Station Latitude                      40.71698                   40.74620   \n",
       "End Station Longitude                    -73.94486                  -73.98856   \n",
       "Bike ID                                      34154                      20074   \n",
       "User Type                               Subscriber                 Subscriber   \n",
       "Birth Year                                    1988                       1980   \n",
       "Gender                                           2                          1   \n",
       "Linear Distance                            0.71088                    1.51337   \n",
       "Age 2020                                        32                         40   \n",
       "temp                                      12.22000                   17.38000   \n",
       "pressure                                      1024                       1022   \n",
       "humidity                                        73                         73   \n",
       "wind_speed                                 8.20000                    5.04000   \n",
       "rain_1h                                    0.25000                    0.00000   \n",
       "snow_1h                                    0.00000                    0.00000   \n",
       "clouds_all                                       0                        100   \n",
       "weather_id                                     500                        804   \n",
       "weather_main                                  Rain                     Clouds   \n",
       "weather_description                     light rain            overcast clouds   \n",
       "\n",
       "                                           1493393                    909432   \n",
       "dt_utc                   2019-10-22 21:36:53+00:00  2019-10-13 20:59:23+00:00  \n",
       "Trip Duration                                  220                       2063  \n",
       "Start Time               2019-10-22 17:36:53-04:00  2019-10-13 16:59:23-04:00  \n",
       "Stop Time                2019-10-22 17:40:34-04:00  2019-10-13 17:33:46-04:00  \n",
       "Start Station ID                               296                       3777  \n",
       "Start Station Name            Division St & Bowery  Stockholm St & Wilson Ave  \n",
       "Start Station Latitude                    40.71413                   40.69930  \n",
       "Start Station Longitude                  -73.99705                  -73.92304  \n",
       "End Station ID                                 307                       3346  \n",
       "End Station Name             Canal St & Rutgers St        Berkeley Pl & 7 Ave  \n",
       "End Station Latitude                      40.71427                   40.67515  \n",
       "End Station Longitude                    -73.98990                  -73.97523  \n",
       "Bike ID                                      28029                      40779  \n",
       "User Type                               Subscriber                 Subscriber  \n",
       "Birth Year                                    1962                       1989  \n",
       "Gender                                           1                          1  \n",
       "Linear Distance                            0.60254                    5.15542  \n",
       "Age 2020                                        58                         31  \n",
       "temp                                      15.35000                   18.04000  \n",
       "pressure                                      1012                       1017  \n",
       "humidity                                        92                         62  \n",
       "wind_speed                                 9.64000                    3.66000  \n",
       "rain_1h                                    0.39000                    0.00000  \n",
       "snow_1h                                    0.00000                    0.00000  \n",
       "clouds_all                                     100                        100  \n",
       "weather_id                                     500                        804  \n",
       "weather_main                                  Rain                     Clouds  \n",
       "weather_description                     light rain            overcast clouds  "
      ]
     },
     "execution_count": 8,
     "metadata": {},
     "output_type": "execute_result"
    }
   ],
   "source": [
    "df_oct2019.head().T"
   ]
  },
  {
   "cell_type": "markdown",
   "metadata": {},
   "source": [
    "Die Merkmale die in der Datei ```samples_5000_201910-citibike-tripweather-data.parquet``` enthalten sind, werden in folgender Tabelle beschrieben."
   ]
  },
  {
   "cell_type": "markdown",
   "metadata": {},
   "source": [
    "| Statistische Einheit | Merkmal                     | Merkmalsausprägung / Beispiel | Skalenniveau   | Kontinuität | Beschreibung\n",
    "| -------------------- | --------------------------- | ----------------------------- | -------------- | ----------- | -------------\n",
    "| Trip                 | **dt_utc**                  | 2019-10-01 400:00:05+00:00    | **Intervall**  | stetig      | Zeitpunkt an welchem der Trip gestartet wurde in 'Koordinierter Weltzeit' (UTC)\n",
    "| Trip                 | **Trip Duration**           | 100 Sekunden                  | **Verhältnis** | stetig      | Dauer des Trips in Sekunden\n",
    "| Trip                 | **Start Time**              | 2019-01-01 00:01:05-04:00     | **Intervall**  | stetig      | Zeitpunkt an welchem der Trip gestartet wurde mit Zeitzone US/Eastern\n",
    "| Trip                 | **Stop Time**               | 2019-01-01 00:07:07-04:00     | **Intervall**  | stetig      | Zeitpunkt an welchem der Trip beendet wurde mit Zeitzone US/Eastern\n",
    "| Trip                 | **Linear Distance**         | 1.55503                       | **Verhältnis** | stetig      | Distanz der Luftlinie zwischen Start und Stop Station in km (Berechnet mit _haversine_)\n",
    "| Station              | **Start Station ID**        | 3160                          | **Nominal**    | diskret     | Eindeutige Identifikation der Station an welcher der Trip gestartet wurde\n",
    "| Station              | **Start Station Name**      | Central Park West & W 76 St   | **Nominal**    | diskret     | Name der Startstation\n",
    "| Station              | **Start Station Latitude**  | 40.778968                     | **Intervall**  | stetig      | Breitengrad der Startstation\n",
    "| Station              | **Start Station Longitude** | -73.973747                    | **Intervall**  | stetig      | Längengrad der Startstation\n",
    "| Station              | **End Station ID**          | 3283                          | **Nominal**    | diskret     | Eindeutige Identifikation der der Station an welcher der Trip beendet wurde\n",
    "| Station              | **End Station Name**        | W 89 St & Columbus Ave        | **Nominal**    | diskret     | Name der Endstation\n",
    "| Station              | **End Station Latitude**    | 40.788221                     | **Intervall**  | stetig      | Breitengrad der Endstation\n",
    "| Station              | **End Station Longitude**   | -74.00597                     | **Intervall**  | stetig      | Längengrad der Endstation\n",
    "| Bike                 | **Bike ID**                 | 15839                         | **Nominal**    | diskret     | Eindeutige Identifikation des Bikes\n",
    "| User                 | **User Type**               | Subscriber                    | **Nominal**    | diskret     | Benutzertyp: ```Customers```=_24-hour pass_ oder _3-day pass_; ```Subscribers```=_Annual Member_\n",
    "| User                 | **Birth Year**              | 1971                          | **Intervall**  | diskret     | Geburtsjahr des Benutzers\n",
    "| User                 | **Gender**                  | 1                             | **Nominal**    | diskret     | Geschlecht des Benutzers: ```0```=_unknown_; ```1```=_male_; ```2```=_female_\n",
    "| User                 | **Age 2020**                | 28                            | **Verhältnis** | diskret     | Alter des Benutzers im Jahr 2020 in Jahren\n",
    "| Temperature          | **temp**                    | 17.52                         | **Intervall**  | stetig      | Temperatur in Grad Celsius\n",
    "| Air                  | **pressure**                | 1023                          | **Intervall**  | stetig      | Luftdruck (auf Meereshöhe), hPa\n",
    "| Air                  | **humidity**                | 75                            | **Intervall**  | stetig      | Luftfeuchtigkeit in %\n",
    "| Wind                 | **wind_speed**              | 5.27                          | **Verhältnis** | stetig      | Windgeschwindigkeit in m/s\n",
    "| Rainfall             | **rain_1h**                 | 0.25                          | **Verhältnis** | stetig      | Regenmenge der letzten Stunde in mm\n",
    "| Snowfall             | **snow_1h**                 | 0.00                          | **Verhältnis** | stetig      | Schneemenge der letzten Stunde in mm\n",
    "| Clouds               | **clouds_all**              | 100                           | **Intervall**  | stetig      | Bewölkung in %\n",
    "| Weather              | **weather_id**              | 500                           | **Nominal**    | diskret     | Code für die Wetterbedingung (Aufgelistet unter https://openweathermap.org/weather-conditions#Weather-Condition-Codes-2)\n",
    "| Weather              | **weather_main**            | Rain                          | **Nominal**    | diskret     | Gruppe der Wetterbedingung (z.B. ```Rain```,```Clear```,```Clouds```, für weitere: https://openweathermap.org/weather-conditions#Weather-Condition-Codes-2)\n",
    "| Weather              | **weather_description**     | light rain                    | **Nominal**    | diskret     | Beschreibung der Wetterbedingung (z.B. ```light rain```, ```sky is clear```, ```few clouds```, für weitere https://openweathermap.org/weather-conditions#Weather-Condition-Codes-2)\n"
   ]
  },
  {
   "cell_type": "markdown",
   "metadata": {},
   "source": [
    "## Trip"
   ]
  },
  {
   "cell_type": "markdown",
   "metadata": {},
   "source": [
    "Untersuchungen zum Trip."
   ]
  },
  {
   "cell_type": "code",
   "execution_count": 199,
   "metadata": {},
   "outputs": [
    {
     "data": {
      "text/html": [
       "<div>\n",
       "<style scoped>\n",
       "    .dataframe tbody tr th:only-of-type {\n",
       "        vertical-align: middle;\n",
       "    }\n",
       "\n",
       "    .dataframe tbody tr th {\n",
       "        vertical-align: top;\n",
       "    }\n",
       "\n",
       "    .dataframe thead th {\n",
       "        text-align: right;\n",
       "    }\n",
       "</style>\n",
       "<table border=\"1\" class=\"dataframe\">\n",
       "  <thead>\n",
       "    <tr style=\"text-align: right;\">\n",
       "      <th></th>\n",
       "      <th>Trip Duration (sec)</th>\n",
       "      <th>Trip Duration (min)</th>\n",
       "      <th>Trip Duration (h)</th>\n",
       "      <th>Trip Duration (d)</th>\n",
       "      <th>Linear Distance (m)</th>\n",
       "      <th>Linear Distance (km)</th>\n",
       "    </tr>\n",
       "  </thead>\n",
       "  <tbody>\n",
       "    <tr>\n",
       "      <th>count</th>\n",
       "      <td>5000.00000</td>\n",
       "      <td>5000.00000</td>\n",
       "      <td>5000.00000</td>\n",
       "      <td>5000.00000</td>\n",
       "      <td>5000.00000</td>\n",
       "      <td>5000.00000</td>\n",
       "    </tr>\n",
       "    <tr>\n",
       "      <th>mean</th>\n",
       "      <td>922.72860</td>\n",
       "      <td>15.37881</td>\n",
       "      <td>0.25631</td>\n",
       "      <td>0.01068</td>\n",
       "      <td>1753.02708</td>\n",
       "      <td>1.75303</td>\n",
       "    </tr>\n",
       "    <tr>\n",
       "      <th>std</th>\n",
       "      <td>5575.16818</td>\n",
       "      <td>92.91947</td>\n",
       "      <td>1.54866</td>\n",
       "      <td>0.06453</td>\n",
       "      <td>1368.16795</td>\n",
       "      <td>1.36817</td>\n",
       "    </tr>\n",
       "    <tr>\n",
       "      <th>min</th>\n",
       "      <td>65.00000</td>\n",
       "      <td>1.08333</td>\n",
       "      <td>0.01806</td>\n",
       "      <td>0.00075</td>\n",
       "      <td>0.00000</td>\n",
       "      <td>0.00000</td>\n",
       "    </tr>\n",
       "    <tr>\n",
       "      <th>25%</th>\n",
       "      <td>362.00000</td>\n",
       "      <td>6.03333</td>\n",
       "      <td>0.10056</td>\n",
       "      <td>0.00419</td>\n",
       "      <td>836.58961</td>\n",
       "      <td>0.83659</td>\n",
       "    </tr>\n",
       "    <tr>\n",
       "      <th>50%</th>\n",
       "      <td>606.00000</td>\n",
       "      <td>10.10000</td>\n",
       "      <td>0.16833</td>\n",
       "      <td>0.00701</td>\n",
       "      <td>1349.02670</td>\n",
       "      <td>1.34903</td>\n",
       "    </tr>\n",
       "    <tr>\n",
       "      <th>75%</th>\n",
       "      <td>1021.25000</td>\n",
       "      <td>17.02083</td>\n",
       "      <td>0.28368</td>\n",
       "      <td>0.01182</td>\n",
       "      <td>2242.74939</td>\n",
       "      <td>2.24275</td>\n",
       "    </tr>\n",
       "    <tr>\n",
       "      <th>max</th>\n",
       "      <td>377055.00000</td>\n",
       "      <td>6284.25000</td>\n",
       "      <td>104.73750</td>\n",
       "      <td>4.36406</td>\n",
       "      <td>11320.95738</td>\n",
       "      <td>11.32096</td>\n",
       "    </tr>\n",
       "  </tbody>\n",
       "</table>\n",
       "</div>"
      ],
      "text/plain": [
       "       Trip Duration (sec)  Trip Duration (min)  Trip Duration (h)  \\\n",
       "count           5000.00000           5000.00000         5000.00000   \n",
       "mean             922.72860             15.37881            0.25631   \n",
       "std             5575.16818             92.91947            1.54866   \n",
       "min               65.00000              1.08333            0.01806   \n",
       "25%              362.00000              6.03333            0.10056   \n",
       "50%              606.00000             10.10000            0.16833   \n",
       "75%             1021.25000             17.02083            0.28368   \n",
       "max           377055.00000           6284.25000          104.73750   \n",
       "\n",
       "       Trip Duration (d)  Linear Distance (m)  Linear Distance (km)  \n",
       "count         5000.00000           5000.00000            5000.00000  \n",
       "mean             0.01068           1753.02708               1.75303  \n",
       "std              0.06453           1368.16795               1.36817  \n",
       "min              0.00075              0.00000               0.00000  \n",
       "25%              0.00419            836.58961               0.83659  \n",
       "50%              0.00701           1349.02670               1.34903  \n",
       "75%              0.01182           2242.74939               2.24275  \n",
       "max              4.36406          11320.95738              11.32096  "
      ]
     },
     "execution_count": 199,
     "metadata": {},
     "output_type": "execute_result"
    }
   ],
   "source": [
    "df_trip = pd.DataFrame(\n",
    "    data={\n",
    "        'Trip Duration (sec)': df_oct2019['Trip Duration'].values,\n",
    "        'Trip Duration (min)': df_oct2019['Trip Duration'].values / 60,\n",
    "        'Trip Duration (h)': df_oct2019['Trip Duration'].values / 60 / 60,\n",
    "        'Trip Duration (d)': df_oct2019['Trip Duration'].values / 60 / 60 / 24,\n",
    "        'Linear Distance (m)': df_oct2019['Linear Distance'].values * 1000,\n",
    "        'Linear Distance (km)': df_oct2019['Linear Distance'].values\n",
    "    }\n",
    ")\n",
    "df_trip.describe()"
   ]
  },
  {
   "cell_type": "code",
   "execution_count": 317,
   "metadata": {},
   "outputs": [
    {
     "data": {
      "image/png": "[encoded data removed]",
      "text/plain": [
       "<Figure size 2160x144 with 2 Axes>"
      ]
     },
     "metadata": {
      "needs_background": "light"
     },
     "output_type": "display_data"
    }
   ],
   "source": [
    "fig = plt.figure(figsize=(30, 2))\n",
    "\n",
    "ax1 = plt.subplot(1, 2, 1)\n",
    "_ = df_trip.hist(ax=ax1, column=['Trip Duration (min)'], figsize=(30,2), bins=30, log=False)\n",
    "ax1.set_xlabel('min')\n",
    "ax1.set_ylabel('Anzahl (linear)')\n",
    "\n",
    "ax2 = plt.subplot(1, 2, 2)\n",
    "_ = df_trip.hist(ax=ax2, column=['Linear Distance (km)'], figsize=(30,2), bins=30, log=False)\n",
    "ax2.set_xlabel('km')\n",
    "ax2.set_ylabel('Anzahl (linear)')\n",
    "\n",
    "plt.show()"
   ]
  },
  {
   "cell_type": "markdown",
   "metadata": {},
   "source": [
    "Es ist ersichtlich, dass bei bei Trip Duration die Werte ziemlich nahe bei null sind. Bei Linear Distance gibt es ab 6 Kilomenter fast keine Werte mehr. Damit die Werte ab 50'0000 Sekunden auch ersichtlich werden, wird das Histogramm noch mit logarithmischer y-Achse erstellt."
   ]
  },
  {
   "cell_type": "code",
   "execution_count": 316,
   "metadata": {},
   "outputs": [
    {
     "data": {
      "image/png": "[encoded data removed]",
      "text/plain": [
       "<Figure size 2160x144 with 2 Axes>"
      ]
     },
     "metadata": {
      "needs_background": "light"
     },
     "output_type": "display_data"
    }
   ],
   "source": [
    "fig = plt.figure(figsize=(30, 2))\n",
    "\n",
    "ax1 = plt.subplot(1, 2, 1)\n",
    "_ = df_trip.hist(ax=ax1, column=['Trip Duration (min)'], figsize=(30,2), bins=30, log=True)\n",
    "ax1.set_xlabel('min')\n",
    "ax1.set_ylabel('Anzahl (logarithmisch)')\n",
    "\n",
    "ax2 = plt.subplot(1, 2, 2)\n",
    "_ = df_trip.hist(ax=ax2, column=['Linear Distance (km)'], figsize=(30,2), bins=30, log=True)\n",
    "ax2.set_xlabel('km')\n",
    "ax2.set_ylabel('Anzahl (logarithmisch)')\n",
    "\n",
    "plt.show()"
   ]
  },
  {
   "cell_type": "markdown",
   "metadata": {},
   "source": [
    "### Trip Duration"
   ]
  },
  {
   "cell_type": "markdown",
   "metadata": {},
   "source": [
    "In diesem Kapitel wird Trip Duration näher untersucht."
   ]
  },
  {
   "cell_type": "code",
   "execution_count": 320,
   "metadata": {},
   "outputs": [
    {
     "data": {
      "image/png": "[encoded data removed]",
      "text/plain": [
       "<Figure size 2160x216 with 1 Axes>"
      ]
     },
     "metadata": {
      "needs_background": "light"
     },
     "output_type": "display_data"
    }
   ],
   "source": [
    "ax = pd.DataFrame.boxplot(df_trip['Trip Duration (h)'], figsize=(30, 3), widths=0.75, vert=False, showmeans=True)\n",
    "ax.set_xlabel('h')\n",
    "ax.set_title('Trip Duration')\n",
    "plt.show()"
   ]
  },
  {
   "cell_type": "markdown",
   "metadata": {},
   "source": [
    "In dem Boxplot ist nicht viel ersichtlich da alle Werte nahe 0 liegen. Daher werden ab hier nur noch Trips berücksichtigt die kürzer als 6 Stunden sind."
   ]
  },
  {
   "cell_type": "code",
   "execution_count": 206,
   "metadata": {},
   "outputs": [
    {
     "data": {
      "text/html": [
       "<div>\n",
       "<style scoped>\n",
       "    .dataframe tbody tr th:only-of-type {\n",
       "        vertical-align: middle;\n",
       "    }\n",
       "\n",
       "    .dataframe tbody tr th {\n",
       "        vertical-align: top;\n",
       "    }\n",
       "\n",
       "    .dataframe thead th {\n",
       "        text-align: right;\n",
       "    }\n",
       "</style>\n",
       "<table border=\"1\" class=\"dataframe\">\n",
       "  <thead>\n",
       "    <tr style=\"text-align: right;\">\n",
       "      <th></th>\n",
       "      <th>Trip Duration (sec)</th>\n",
       "      <th>Trip Duration (min)</th>\n",
       "      <th>Trip Duration (h)</th>\n",
       "      <th>Trip Duration (d)</th>\n",
       "    </tr>\n",
       "  </thead>\n",
       "  <tbody>\n",
       "    <tr>\n",
       "      <th>count</th>\n",
       "      <td>4994.00000</td>\n",
       "      <td>4994.00000</td>\n",
       "      <td>4994.00000</td>\n",
       "      <td>4994.00000</td>\n",
       "    </tr>\n",
       "    <tr>\n",
       "      <th>mean</th>\n",
       "      <td>806.28074</td>\n",
       "      <td>13.43801</td>\n",
       "      <td>0.22397</td>\n",
       "      <td>0.00933</td>\n",
       "    </tr>\n",
       "    <tr>\n",
       "      <th>std</th>\n",
       "      <td>811.20106</td>\n",
       "      <td>13.52002</td>\n",
       "      <td>0.22533</td>\n",
       "      <td>0.00939</td>\n",
       "    </tr>\n",
       "    <tr>\n",
       "      <th>min</th>\n",
       "      <td>65.00000</td>\n",
       "      <td>1.08333</td>\n",
       "      <td>0.01806</td>\n",
       "      <td>0.00075</td>\n",
       "    </tr>\n",
       "    <tr>\n",
       "      <th>5%</th>\n",
       "      <td>182.65000</td>\n",
       "      <td>3.04417</td>\n",
       "      <td>0.05074</td>\n",
       "      <td>0.00211</td>\n",
       "    </tr>\n",
       "    <tr>\n",
       "      <th>25%</th>\n",
       "      <td>362.00000</td>\n",
       "      <td>6.03333</td>\n",
       "      <td>0.10056</td>\n",
       "      <td>0.00419</td>\n",
       "    </tr>\n",
       "    <tr>\n",
       "      <th>50%</th>\n",
       "      <td>605.00000</td>\n",
       "      <td>10.08333</td>\n",
       "      <td>0.16806</td>\n",
       "      <td>0.00700</td>\n",
       "    </tr>\n",
       "    <tr>\n",
       "      <th>75%</th>\n",
       "      <td>1020.00000</td>\n",
       "      <td>17.00000</td>\n",
       "      <td>0.28333</td>\n",
       "      <td>0.01181</td>\n",
       "    </tr>\n",
       "    <tr>\n",
       "      <th>95%</th>\n",
       "      <td>1974.05000</td>\n",
       "      <td>32.90083</td>\n",
       "      <td>0.54835</td>\n",
       "      <td>0.02285</td>\n",
       "    </tr>\n",
       "    <tr>\n",
       "      <th>max</th>\n",
       "      <td>19173.00000</td>\n",
       "      <td>319.55000</td>\n",
       "      <td>5.32583</td>\n",
       "      <td>0.22191</td>\n",
       "    </tr>\n",
       "  </tbody>\n",
       "</table>\n",
       "</div>"
      ],
      "text/plain": [
       "       Trip Duration (sec)  Trip Duration (min)  Trip Duration (h)  \\\n",
       "count           4994.00000           4994.00000         4994.00000   \n",
       "mean             806.28074             13.43801            0.22397   \n",
       "std              811.20106             13.52002            0.22533   \n",
       "min               65.00000              1.08333            0.01806   \n",
       "5%               182.65000              3.04417            0.05074   \n",
       "25%              362.00000              6.03333            0.10056   \n",
       "50%              605.00000             10.08333            0.16806   \n",
       "75%             1020.00000             17.00000            0.28333   \n",
       "95%             1974.05000             32.90083            0.54835   \n",
       "max            19173.00000            319.55000            5.32583   \n",
       "\n",
       "       Trip Duration (d)  \n",
       "count         4994.00000  \n",
       "mean             0.00933  \n",
       "std              0.00939  \n",
       "min              0.00075  \n",
       "5%               0.00211  \n",
       "25%              0.00419  \n",
       "50%              0.00700  \n",
       "75%              0.01181  \n",
       "95%              0.02285  \n",
       "max              0.22191  "
      ]
     },
     "execution_count": 206,
     "metadata": {},
     "output_type": "execute_result"
    }
   ],
   "source": [
    "df_trip_under_6h = df_trip[df_trip['Trip Duration (h)'] < 6][[col for col in df_trip.columns if col.startswith('Trip Duration')]]\n",
    "df_trip_under_6h.describe(percentiles=[0.05, .25, .5, .75, .95])"
   ]
  },
  {
   "cell_type": "markdown",
   "metadata": {},
   "source": [
    "Betreffend Trip Duration sind hier folgende Zahlen erwähnenswert:\n",
    "* Der Median der Tripdauer liegt bei 10.1 Minuten.\n",
    "* Ein Trip dauerte durchschnittlich 13.5 Minuten.\n",
    "* Der längste Trip dauerte 5.3h und der kürzeste 1.1 Minuten.\n",
    "* 5% der Trips dauerten mehr als 32.9 Minuten und 5% der Trips weniger als 3 Minuten."
   ]
  },
  {
   "cell_type": "code",
   "execution_count": 324,
   "metadata": {},
   "outputs": [
    {
     "data": {
      "image/png": "[encoded data removed]",
      "text/plain": [
       "<Figure size 2160x216 with 1 Axes>"
      ]
     },
     "metadata": {
      "needs_background": "light"
     },
     "output_type": "display_data"
    }
   ],
   "source": [
    "ax = (df_trip_under_6h['Trip Duration (min)']).hist(figsize=(30, 3), bins=240, log=False)\n",
    "ax.set_xlabel('min')\n",
    "ax.set_ylabel('Anzahl (linear)')\n",
    "ax.set_title('Trip Duration')\n",
    "plt.show()"
   ]
  },
  {
   "cell_type": "code",
   "execution_count": 333,
   "metadata": {},
   "outputs": [
    {
     "data": {
      "image/png": "[encoded data removed]",
      "text/plain": [
       "<Figure size 2160x216 with 1 Axes>"
      ]
     },
     "metadata": {
      "needs_background": "light"
     },
     "output_type": "display_data"
    }
   ],
   "source": [
    "ax = pd.DataFrame.boxplot(df_trip_under_6h['Trip Duration (min)'], figsize=(30, 3), widths=0.75, vert=False, showmeans=True)\n",
    "ax.set_xlabel('min')\n",
    "ax.set_title('Trip Duration')\n",
    "plt.show()"
   ]
  },
  {
   "cell_type": "markdown",
   "metadata": {},
   "source": [
    "Das Histogramm und der Boxplot zeigen klar das die Trips eher eine kurze Dauer vorweisen und Trips über 50 Minuten eine grosse Ausnahme darstellen."
   ]
  },
  {
   "cell_type": "markdown",
   "metadata": {},
   "source": [
    "#### Trip Duration und User Type / Gender"
   ]
  },
  {
   "cell_type": "markdown",
   "metadata": {},
   "source": [
    "Um einen besseren Vergleich machen zu können, werden ab hier nur noch Trips die weniger als 1h gedauert haben, berücksichtigt."
   ]
  },
  {
   "cell_type": "code",
   "execution_count": 295,
   "metadata": {},
   "outputs": [],
   "source": [
    "df_oct2019_under_1h = df_oct2019[(df_trip['Trip Duration (h)'].values < 1)]\n",
    "df_oct2019_under_1h.insert(loc=2, column='Trip Duration (min)', value=df_oct2019_under_1h['Trip Duration'] / 60)"
   ]
  },
  {
   "cell_type": "code",
   "execution_count": 340,
   "metadata": {},
   "outputs": [],
   "source": [
    "durations_data = [\n",
    "    df_oct2019_under_1h[df_oct2019_under_1h['User Type'] == 'Customer']['Trip Duration (min)'],\n",
    "    df_oct2019_under_1h[df_oct2019_under_1h['User Type'] == 'Subscriber']['Trip Duration (min)'],\n",
    "    df_oct2019_under_1h[df_oct2019_under_1h['Gender'] == '0']['Trip Duration (min)'],\n",
    "    df_oct2019_under_1h[df_oct2019_under_1h['Gender'] == '1']['Trip Duration (min)'],\n",
    "    df_oct2019_under_1h[df_oct2019_under_1h['Gender'] == '2']['Trip Duration (min)'],\n",
    "    df_oct2019_under_1h[(df_oct2019_under_1h['User Type'] == 'Customer') & (df_oct2019_under_1h['Gender'] == '0')]['Trip Duration (min)'],\n",
    "    df_oct2019_under_1h[(df_oct2019_under_1h['User Type'] == 'Customer') & (df_oct2019_under_1h['Gender'] == '1')]['Trip Duration (min)'],\n",
    "    df_oct2019_under_1h[(df_oct2019_under_1h['User Type'] == 'Customer') & (df_oct2019_under_1h['Gender'] == '2')]['Trip Duration (min)'],\n",
    "    df_oct2019_under_1h[(df_oct2019_under_1h['User Type'] == 'Subscriber') & (df_oct2019_under_1h['Gender'] == '0')]['Trip Duration (min)'],\n",
    "    df_oct2019_under_1h[(df_oct2019_under_1h['User Type'] == 'Subscriber') & (df_oct2019_under_1h['Gender'] == '1')]['Trip Duration (min)'],\n",
    "    df_oct2019_under_1h[(df_oct2019_under_1h['User Type'] == 'Subscriber') & (df_oct2019_under_1h['Gender'] == '2')]['Trip Duration (min)'],\n",
    "]\n",
    "durations_labels = [\n",
    "    'Customers',\n",
    "    'Subscribers',\n",
    "    'Gender Unknown',\n",
    "    'Male',\n",
    "    'Women',\n",
    "    'Customers & Gender Unknown',\n",
    "    'Customers & Male',\n",
    "    'Customers & Woman',\n",
    "    'Subscribers & Gender Unknown',\n",
    "    'Subscribers & Male',\n",
    "    'Subscribers & Woman',\n",
    "]"
   ]
  },
  {
   "cell_type": "code",
   "execution_count": 342,
   "metadata": {},
   "outputs": [
    {
     "data": {
      "image/png": "[encoded data removed]",
      "text/plain": [
       "<Figure size 2160x576 with 1 Axes>"
      ]
     },
     "metadata": {
      "needs_background": "light"
     },
     "output_type": "display_data"
    }
   ],
   "source": [
    "fig, ax = plt.subplots(figsize=(30, 8))\n",
    "_ = ax.boxplot(durations_data, vert=True, showmeans=True, labels=durations_labels, showfliers=False)\n",
    "ax.set_ylabel('min')\n",
    "ax.set_title('Trip Duration')\n",
    "plt.grid(b=True)\n",
    "plt.tight_layout()\n",
    "plt.show()"
   ]
  },
  {
   "cell_type": "markdown",
   "metadata": {},
   "source": [
    "Im obigen Boxplot werden die verschiedenen Gruppen miteinander verglichen. Folgendes fällt hier auf:\n",
    "* Trips von Customern dauern länger als solche von Subscribern.\n",
    "* Die Frauen nutzen die Bikes länger als die Männer. Benutzer die kein Geschlecht angeben, fahren länger als solche die ihr Geschlecht angeben.\n",
    "* Bei den Subscribern ist mit Berücksichtigung des Geschlechts kein grosser Unterschied zu sehen und die durchschnittliche Dauer der Fahrten liegt nahe beieinander."
   ]
  },
  {
   "cell_type": "markdown",
   "metadata": {},
   "source": [
    "## Station"
   ]
  },
  {
   "cell_type": "code",
   "execution_count": 94,
   "metadata": {},
   "outputs": [
    {
     "data": {
      "image/png": "[encoded data removed]",
      "text/plain": [
       "<Figure size 2160x360 with 4 Axes>"
      ]
     },
     "metadata": {
      "needs_background": "light"
     },
     "output_type": "display_data"
    }
   ],
   "source": [
    "_ = df_oct2019.hist(column=['Start Station Latitude', 'Start Station Longitude', 'End Station Latitude', 'End Station Longitude'], figsize=(30,5), bins=30, log=False)"
   ]
  },
  {
   "cell_type": "code",
   "execution_count": 22,
   "metadata": {},
   "outputs": [
    {
     "data": {
      "image/png": "[encoded data removed]",
      "text/plain": [
       "<Figure size 2160x144 with 2 Axes>"
      ]
     },
     "metadata": {
      "needs_background": "light"
     },
     "output_type": "display_data"
    }
   ],
   "source": [
    "# quasi-stetig\n",
    "_ = df_oct2019.hist(column=['Birth Year', 'Age 2020'], figsize=(30,2), bins=30, log=True)"
   ]
  },
  {
   "cell_type": "code",
   "execution_count": 45,
   "metadata": {},
   "outputs": [
    {
     "data": {
      "image/png": "[encoded data removed]",
      "text/plain": [
       "<Figure size 2160x1440 with 20 Axes>"
      ]
     },
     "metadata": {
      "needs_background": "light"
     },
     "output_type": "display_data"
    }
   ],
   "source": [
    "_ = df_oct2019.hist(figsize=(30,20), bins=30, log=True)"
   ]
  },
  {
   "cell_type": "code",
   "execution_count": 7,
   "metadata": {},
   "outputs": [
    {
     "data": {
      "text/plain": [
       "dt_utc                     0.04997\n",
       "Trip Duration             62.24698\n",
       "Start Time                 0.04997\n",
       "Stop Time                  0.05014\n",
       "Start Station ID           0.33024\n",
       "Start Station Latitude    -0.07971\n",
       "Start Station Longitude    0.79163\n",
       "End Station ID             0.37894\n",
       "End Station Latitude      -0.03552\n",
       "End Station Longitude      0.78465\n",
       "Bike ID                   -0.48346\n",
       "Birth Year                -0.61146\n",
       "Gender                     0.07628\n",
       "Linear Distance            1.86356\n",
       "Age 2020                   0.61146\n",
       "temp                       1.14378\n",
       "pressure                  -1.21068\n",
       "humidity                   0.13526\n",
       "wind_speed                 0.44530\n",
       "rain_1h                    9.92870\n",
       "snow_1h                    0.00000\n",
       "clouds_all                 1.06425\n",
       "weather_id                -1.18577\n",
       "dtype: float64"
      ]
     },
     "execution_count": 7,
     "metadata": {},
     "output_type": "execute_result"
    }
   ],
   "source": [
    "df_oct2019.skew()"
   ]
  },
  {
   "cell_type": "code",
   "execution_count": 8,
   "metadata": {},
   "outputs": [
    {
     "data": {
      "text/plain": [
       "dt_utc                      -1.22489\n",
       "Trip Duration             4156.34407\n",
       "Start Time                  -1.22489\n",
       "Stop Time                   -1.22501\n",
       "Start Station ID            -1.81327\n",
       "Start Station Latitude      -0.17752\n",
       "Start Station Longitude      0.55638\n",
       "End Station ID              -1.78032\n",
       "End Station Latitude        -0.14341\n",
       "End Station Longitude        0.43759\n",
       "Bike ID                     -0.99737\n",
       "Birth Year                   0.47641\n",
       "Gender                      -0.01853\n",
       "Linear Distance              4.70580\n",
       "Age 2020                     0.47641\n",
       "temp                         2.33898\n",
       "pressure                     2.52941\n",
       "humidity                    -0.86299\n",
       "wind_speed                  -0.14157\n",
       "rain_1h                    120.06672\n",
       "snow_1h                      0.00000\n",
       "clouds_all                  -0.74758\n",
       "weather_id                  -0.59354\n",
       "dtype: float64"
      ]
     },
     "execution_count": 8,
     "metadata": {},
     "output_type": "execute_result"
    }
   ],
   "source": [
    "df_oct2019.kurt()"
   ]
  },
  {
   "cell_type": "code",
   "execution_count": 72,
   "metadata": {},
   "outputs": [
    {
     "data": {
      "image/png": "[encoded data removed]",
      "text/plain": [
       "<Figure size 2160x1440 with 1 Axes>"
      ]
     },
     "metadata": {
      "needs_background": "light"
     },
     "output_type": "display_data"
    }
   ],
   "source": [
    "_ = df_oct2019[df_oct2019['Trip Duration'] < 1*60*60*6].hist(column='Trip Duration', figsize=(30,20), bins=30, log=False)"
   ]
  },
  {
   "cell_type": "code",
   "execution_count": null,
   "metadata": {},
   "outputs": [],
   "source": []
  },
  {
   "cell_type": "code",
   "execution_count": null,
   "metadata": {},
   "outputs": [],
   "source": []
  },
  {
   "cell_type": "code",
   "execution_count": null,
   "metadata": {},
   "outputs": [],
   "source": []
  },
  {
   "cell_type": "code",
   "execution_count": null,
   "metadata": {},
   "outputs": [],
   "source": []
  },
  {
   "cell_type": "code",
   "execution_count": null,
   "metadata": {},
   "outputs": [],
   "source": []
  },
  {
   "cell_type": "code",
   "execution_count": null,
   "metadata": {},
   "outputs": [],
   "source": [
    "##### NEXT ANALYSIS ###"
   ]
  },
  {
   "cell_type": "markdown",
   "metadata": {},
   "source": [
    "# Analyse ```summary-daily-subscribers_only-citibike-tripweather.parquet```"
   ]
  },
  {
   "cell_type": "markdown",
   "metadata": {},
   "source": [
    "## Merkmale"
   ]
  },
  {
   "cell_type": "code",
   "execution_count": null,
   "metadata": {},
   "outputs": [],
   "source": [
    "df_sumsubs = pd.read_parquet(os.path.join(path, 'summary-daily-subscribers_only-citibike-tripweather.parquet'))"
   ]
  },
  {
   "cell_type": "code",
   "execution_count": null,
   "metadata": {},
   "outputs": [],
   "source": [
    "df_sumsubs.tail().T"
   ]
  },
  {
   "cell_type": "markdown",
   "metadata": {},
   "source": [
    "| Statistische Einheit | Merkmal                    | Skalenniveau    | Kontinuität | Beschreibung\n",
    "| ---------------------| ---------------------------| --------------- | ----------- | -------------\n",
    "| Day                  | **Date**                   | **Intervall**   | diskret     | Datum\n",
    "| Trip                 | **Trip count**             | **Verhältnis**  | diskret     | Gesamte Anzahl Trips an diesem Tag\n",
    "| Trip                 | **Trip Duration mean**     | **Verhältnis**  | stetig      | Durchschnittliche Dauer\n",
    "| Trip                 | **Trip Duration std**      | **Verhältnis**  | stetig      | Standardabweichung der Dauer\n",
    "| Trip                 | **Trip Duration min**      | **Verhältnis**  | stetig      | Dauer des schnellsten Trips\n",
    "| Trip                 | **Trip Duration median**   | **Verhältnis**  | stetig      | Median der Dauer\n",
    "| Trip                 | **Trip Duration max**      | **Verhältnis**  | stetig      | Dauer des längsten Trips\n",
    "| Trip                 | **Linear Distance mean**   | **Verhältnis**  | stetig      | Durchschnittliche Distanz (Luftlinie zwischen Stationen)\n",
    "| Trip                 | **Linear Distance std**    | **Verhältnis**  | stetig      | Standardabweichung der Distanz\n",
    "| Trip                 | **Linear Distance min**    | **Verhältnis**  | stetig      | Distanz des kürzesten Trips\n",
    "| Trip                 | **Linear Distance median** | **Verhältnis**  | stetig      | Median der Distanz \n",
    "| Trip                 | **Linear Distance max**    | **Verhältnis**  | stetig      | Distanz des weitesten Trips\n",
    "| User                 | **Age 2020 count**         | **Verhältnis**  | diskret     | Gesamte Anzahl angegebener Alter\n",
    "| User                 | **Age 2020 mean**          | **Verhältnis**  | stetig      | Durchschnittliches Alter\n",
    "| User                 | **Age 2020 std**           | **Verhältnis**  | diskret     | Standardabweichung des Alters\n",
    "| User                 | **Age 2020 min**           | **Verhältnis**  | diskret     | Jüngstes Alter\n",
    "| User                 | **Age 2020 median**        | **Verhältnis**  | stetig      | Median des Alters\n",
    "| User                 | **Age 2020 max**           | **Verhältnis**  | diskret     | Ältestes Alter\n",
    "| Temperature          | **temp mean**              | **Intervall**   | stetig      | Durchschnittliche Temperatur (°C)\n",
    "| Temperature          | **temp std**               | **Intervall**   | stetig      | Standardabweichung der Temperatur (°C)\n",
    "| Temperature          | **temp median**            | **Intervall**   | stetig      | Median der Temperatur (°C)\n",
    "| Temperature          | **temp min**               | **Intervall**   | stetig      | Tiefste Temperatur (°C)\n",
    "| Temperature          | **temp max**               | **Intervall**   | stetig      | Höchste Temperatur (°C)\n",
    "| Wind                 | **wind_speed mean**        | **Verhältnis**  | stetig      | Durchschnittliche Windgeschwindigkeit (m/s)\n",
    "| Wind                 | **wind_speed std**         | **Verhältnis**  | stetig      | Standardabweichung der Windgeschwindigkeit (m/s)\n",
    "| Wind                 | **wind_speed median**      | **Verhältnis**  | stetig      | Median der Windgeschwindigkeit (m/s)\n",
    "| Wind                 | **wind_speed min**         | **Verhältnis**  | stetig      | Tiefste Windgeschwindigkeit (m/s)\n",
    "| Wind                 | **wind_speed max**         | **Verhältnis**  | stetig      | Höchste Windgeschwindigkeit (m/s)\n",
    "| Rainfall             | **rain_1h sum**            | **Verhältnis**  | stetig      | Gesamte Menge an Niederschlag (mm)\n",
    "| Rainfall             | **rain_1h min**            | **Verhältnis**  | stetig      | Tiefste Menge an Niederschlag in 1h am Tag (mm)\n",
    "| Rainfall             | **rain_1h max**            | **Verhältnis**  | stetig      | Höchste Menge an Niederschlag in 1h am Tag (mm)\n",
    "| Snowfall             | **snow_1h sum**            | **Verhältnis**  | stetig      | Gesamte Menge an Schneefall (mm)\n",
    "| Snowfall             | **snow_1h min**            | **Verhältnis**  | stetig      | Tiefste Menge an Schneefall in 1h am Tag (mm)\n",
    "| Snowfall             | **snow_1h max**            | **Verhältnis**  | stetig      | Höchste Menge an Schneefall in 1h am Tag (mm)"
   ]
  },
  {
   "cell_type": "markdown",
   "metadata": {},
   "source": [
    "# Analyse ```summary-daily-subscribers_only-gender_grouped-citibike-tripweather.parquet```"
   ]
  },
  {
   "cell_type": "markdown",
   "metadata": {},
   "source": [
    "## Merkmale"
   ]
  },
  {
   "cell_type": "code",
   "execution_count": null,
   "metadata": {},
   "outputs": [],
   "source": [
    "df_sumsubs_bygen = pd.read_parquet(os.path.join(path, 'summary-daily-subscribers_only-gender_grouped-citibike-tripweather.parquet'))"
   ]
  },
  {
   "cell_type": "code",
   "execution_count": null,
   "metadata": {},
   "outputs": [],
   "source": [
    "df_sumsubs_bygen.tail().T"
   ]
  },
  {
   "cell_type": "markdown",
   "metadata": {},
   "source": [
    "Zusätzlich zu den Merkmalen aus ```summary-daily-subscribers_only-gender_grouped-citibike-tripweather.parquet```, gibt es noch zusätzlich das folgende Merkmal:\n",
    "\n",
    "| Statistische Einheit | Merkmal                    | Skalenniveau   | Beschreibung\n",
    "| ---------------------| ---------------------------| ---------------| -------------\n",
    "| User                 | **Gender**                 | **Nominal**    | Geschlecht des Benutzers: ```0```=_unknown_; ```1```=_male_; ```2```=_female_ "
   ]
  },
  {
   "cell_type": "markdown",
   "metadata": {},
   "source": [
    "# OLD!!!!"
   ]
  },
  {
   "cell_type": "markdown",
   "metadata": {},
   "source": [
    "## Analyse"
   ]
  },
  {
   "cell_type": "code",
   "execution_count": null,
   "metadata": {},
   "outputs": [],
   "source": [
    "import os\n",
    "import pandas as pd\n",
    "import numpy as np\n",
    "\n",
    "import matplotlib.pyplot as plt\n",
    "import matplotlib.gridspec as gridspec"
   ]
  },
  {
   "cell_type": "code",
   "execution_count": null,
   "metadata": {},
   "outputs": [],
   "source": [
    "%matplotlib inline"
   ]
  },
  {
   "cell_type": "code",
   "execution_count": null,
   "metadata": {},
   "outputs": [],
   "source": [
    "pd.options.display.float_format = '{:.5f}'.format"
   ]
  },
  {
   "cell_type": "code",
   "execution_count": null,
   "metadata": {},
   "outputs": [],
   "source": [
    "path = './../data/citibike/tripdata'"
   ]
  },
  {
   "cell_type": "markdown",
   "metadata": {},
   "source": [
    "### Tripweather Oktober 2019"
   ]
  },
  {
   "cell_type": "code",
   "execution_count": null,
   "metadata": {},
   "outputs": [],
   "source": [
    "tripweather = pd.read_parquet(os.path.join(path, 'samples_5000_201910-citibike-tripweather-data.parquet'))"
   ]
  },
  {
   "cell_type": "code",
   "execution_count": null,
   "metadata": {},
   "outputs": [],
   "source": [
    "tripweather.head()"
   ]
  },
  {
   "cell_type": "code",
   "execution_count": null,
   "metadata": {},
   "outputs": [],
   "source": [
    "tripweather.info()"
   ]
  },
  {
   "cell_type": "code",
   "execution_count": null,
   "metadata": {},
   "outputs": [],
   "source": [
    "tripweather.shape"
   ]
  },
  {
   "cell_type": "code",
   "execution_count": null,
   "metadata": {},
   "outputs": [],
   "source": [
    "tripweather.isna().sum().sum()"
   ]
  },
  {
   "cell_type": "code",
   "execution_count": null,
   "metadata": {},
   "outputs": [],
   "source": [
    "def filter_numeric_columns(df):\n",
    "    res = []\n",
    "    for col in df.columns:\n",
    "        if df[col].dtype == np.float64 or df[col].dtype == np.int64 or isinstance(df[col].dtype, pd.Int64Dtype):\n",
    "            res.append(col)\n",
    "    return res"
   ]
  },
  {
   "cell_type": "code",
   "execution_count": null,
   "metadata": {},
   "outputs": [],
   "source": [
    "%%time\n",
    "numeric_columns = filter_numeric_columns(tripweather)\n",
    "\n",
    "fig = plt.figure(figsize=(20, len(numeric_columns) * 2))\n",
    "gs = gridspec.GridSpec(len(numeric_columns), 2, figure=fig)\n",
    "\n",
    "for idx, col in enumerate(numeric_columns):\n",
    "    ax = fig.add_subplot(gs[idx, 0])\n",
    "    ax.set_title(col)\n",
    "    hist = tripweather[col].hist(ax=ax, bins=25)\n",
    "    \n",
    "    ax = fig.add_subplot(gs[idx, 1])\n",
    "    ax.set_title(col + ' (log scale)')\n",
    "    hist = tripweather[col].hist(ax=ax, bins=25)\n",
    "    ax.set_yscale('log')\n",
    "    \n",
    "fig.tight_layout()\n",
    "plt.show()"
   ]
  },
  {
   "cell_type": "markdown",
   "metadata": {},
   "source": [
    "### Tripweather Samples per Day"
   ]
  },
  {
   "cell_type": "code",
   "execution_count": null,
   "metadata": {},
   "outputs": [],
   "source": [
    "tripweather_samples_per_day = pd.read_parquet(os.path.join(path, 'samples_per_day-citibike-tripweather.parquet'))"
   ]
  },
  {
   "cell_type": "code",
   "execution_count": null,
   "metadata": {},
   "outputs": [],
   "source": [
    "tripweather_samples_per_day.shape"
   ]
  },
  {
   "cell_type": "code",
   "execution_count": null,
   "metadata": {},
   "outputs": [],
   "source": [
    "tripweather_samples_per_day.isna().sum()"
   ]
  },
  {
   "cell_type": "code",
   "execution_count": null,
   "metadata": {},
   "outputs": [],
   "source": [
    "def filter_numeric_columns(df):\n",
    "    res = []\n",
    "    for col in df.columns:\n",
    "        if df[col].dtype == np.float64 or df[col].dtype == np.int64 or isinstance(df[col].dtype, pd.Int64Dtype):\n",
    "            res.append(col)\n",
    "    return res"
   ]
  },
  {
   "cell_type": "code",
   "execution_count": null,
   "metadata": {},
   "outputs": [],
   "source": [
    "%%time\n",
    "numeric_columns = filter_numeric_columns(tripweather_samples_per_day)\n",
    "\n",
    "fig = plt.figure(figsize=(20, len(numeric_columns) * 2))\n",
    "gs = gridspec.GridSpec(len(numeric_columns), 2, figure=fig)\n",
    "\n",
    "for idx, col in enumerate(numeric_columns):\n",
    "    ax = fig.add_subplot(gs[idx, 0])\n",
    "    ax.set_title(col)\n",
    "    hist = tripweather_samples_per_day[col].hist(ax=ax, bins=25)\n",
    "    \n",
    "    ax = fig.add_subplot(gs[idx, 1])\n",
    "    ax.set_title(col + ' (log scale)')\n",
    "    hist = tripweather_samples_per_day[col].hist(ax=ax, bins=25)\n",
    "    ax.set_yscale('log')\n",
    "    \n",
    "fig.tight_layout()\n",
    "plt.show()"
   ]
  },
  {
   "cell_type": "markdown",
   "metadata": {},
   "source": [
    "### Tripweather Samples per Month"
   ]
  },
  {
   "cell_type": "code",
   "execution_count": null,
   "metadata": {},
   "outputs": [],
   "source": [
    "tripweather_samples_per_month = pd.read_parquet(os.path.join(path, 'samples_per_month-citibike-tripweather.parquet'))"
   ]
  },
  {
   "cell_type": "code",
   "execution_count": null,
   "metadata": {},
   "outputs": [],
   "source": [
    "tripweather_samples_per_month.shape"
   ]
  },
  {
   "cell_type": "code",
   "execution_count": null,
   "metadata": {},
   "outputs": [],
   "source": [
    "tripweather_samples_per_month.isna().sum()"
   ]
  },
  {
   "cell_type": "code",
   "execution_count": null,
   "metadata": {},
   "outputs": [],
   "source": [
    "def filter_numeric_columns(df):\n",
    "    res = []\n",
    "    for col in df.columns:\n",
    "        if df[col].dtype == np.float64 or df[col].dtype == np.int64 or isinstance(df[col].dtype, pd.Int64Dtype):\n",
    "            res.append(col)\n",
    "    return res"
   ]
  },
  {
   "cell_type": "code",
   "execution_count": null,
   "metadata": {},
   "outputs": [],
   "source": [
    "%%time\n",
    "numeric_columns = filter_numeric_columns(tripweather_samples_per_month)\n",
    "\n",
    "fig = plt.figure(figsize=(20, len(numeric_columns) * 2))\n",
    "gs = gridspec.GridSpec(len(numeric_columns), 2, figure=fig)\n",
    "\n",
    "for idx, col in enumerate(numeric_columns):\n",
    "    ax = fig.add_subplot(gs[idx, 0])\n",
    "    ax.set_title(col)\n",
    "    hist = tripweather_samples_per_month[col].hist(ax=ax, bins=25)\n",
    "    \n",
    "    ax = fig.add_subplot(gs[idx, 1])\n",
    "    ax.set_title(col + ' (log scale)')\n",
    "    hist = tripweather_samples_per_month[col].hist(ax=ax, bins=25)\n",
    "    ax.set_yscale('log')\n",
    "    \n",
    "fig.tight_layout()\n",
    "plt.show()"
   ]
  },
  {
   "cell_type": "markdown",
   "metadata": {},
   "source": [
    "### Tripweather Daily Summary, Subscribers only"
   ]
  },
  {
   "cell_type": "code",
   "execution_count": null,
   "metadata": {},
   "outputs": [],
   "source": [
    "tripweather_summary = pd.read_parquet(os.path.join(path, 'summary-daily-subscribers_only-citibike-tripweather.parquet'))"
   ]
  },
  {
   "cell_type": "code",
   "execution_count": null,
   "metadata": {},
   "outputs": [],
   "source": [
    "tripweather_summary.head()"
   ]
  },
  {
   "cell_type": "code",
   "execution_count": null,
   "metadata": {},
   "outputs": [],
   "source": [
    "tripweather_summary.info()"
   ]
  },
  {
   "cell_type": "code",
   "execution_count": null,
   "metadata": {},
   "outputs": [],
   "source": [
    "tripweather_summary.shape"
   ]
  },
  {
   "cell_type": "code",
   "execution_count": null,
   "metadata": {},
   "outputs": [],
   "source": [
    "tripweather_summary.isna().sum().sum()"
   ]
  },
  {
   "cell_type": "code",
   "execution_count": null,
   "metadata": {},
   "outputs": [],
   "source": [
    "def filter_numeric_columns(df):\n",
    "    res = []\n",
    "    for col in df.columns:\n",
    "        if df[col].dtype == np.float64 or df[col].dtype == np.int64 or isinstance(df[col].dtype, pd.Int64Dtype):\n",
    "            res.append(col)\n",
    "    return res"
   ]
  },
  {
   "cell_type": "code",
   "execution_count": null,
   "metadata": {},
   "outputs": [],
   "source": [
    "%%time\n",
    "numeric_columns = filter_numeric_columns(tripweather_summary)\n",
    "\n",
    "fig = plt.figure(figsize=(20, len(numeric_columns) * 2))\n",
    "gs = gridspec.GridSpec(len(numeric_columns), 2, figure=fig)\n",
    "\n",
    "for idx, col in enumerate(numeric_columns):\n",
    "    ax = fig.add_subplot(gs[idx, 0])\n",
    "    ax.set_title(col)\n",
    "    hist = tripweather_summary[col].hist(ax=ax, bins=25)\n",
    "    \n",
    "    ax = fig.add_subplot(gs[idx, 1])\n",
    "    ax.set_title(col + ' (log scale)')\n",
    "    hist = tripweather_summary[col].hist(ax=ax, bins=25)\n",
    "    ax.set_yscale('log')\n",
    "    \n",
    "fig.tight_layout()\n",
    "plt.show()"
   ]
  },
  {
   "cell_type": "markdown",
   "metadata": {},
   "source": [
    "### Tripweather Daily Summary, Subscribers only, Grouped by Gender"
   ]
  },
  {
   "cell_type": "code",
   "execution_count": null,
   "metadata": {},
   "outputs": [],
   "source": [
    "tripweather_summary_grouped = pd.read_parquet(os.path.join(path, 'summary-daily-subscribers_only-gender_grouped-citibike-tripweather.parquet'))"
   ]
  },
  {
   "cell_type": "code",
   "execution_count": null,
   "metadata": {},
   "outputs": [],
   "source": [
    "tripweather_summary_grouped.head()"
   ]
  },
  {
   "cell_type": "code",
   "execution_count": null,
   "metadata": {},
   "outputs": [],
   "source": [
    "tripweather_summary_grouped.info()"
   ]
  },
  {
   "cell_type": "code",
   "execution_count": null,
   "metadata": {},
   "outputs": [],
   "source": [
    "tripweather_summary_grouped.shape"
   ]
  },
  {
   "cell_type": "code",
   "execution_count": null,
   "metadata": {},
   "outputs": [],
   "source": [
    "tripweather_summary_grouped.isna().sum().sum()"
   ]
  },
  {
   "cell_type": "code",
   "execution_count": null,
   "metadata": {},
   "outputs": [],
   "source": [
    "def filter_numeric_columns(df):\n",
    "    res = []\n",
    "    for col in df.columns:\n",
    "        if df[col].dtype == np.float64 or df[col].dtype == np.int64 or isinstance(df[col].dtype, pd.Int64Dtype):\n",
    "            res.append(col)\n",
    "    return res"
   ]
  },
  {
   "cell_type": "code",
   "execution_count": null,
   "metadata": {},
   "outputs": [],
   "source": [
    "%%time\n",
    "numeric_columns = filter_numeric_columns(tripweather_summary_grouped)\n",
    "\n",
    "fig = plt.figure(figsize=(20, len(numeric_columns) * 2))\n",
    "gs = gridspec.GridSpec(len(numeric_columns), 2, figure=fig)\n",
    "\n",
    "for idx, col in enumerate(numeric_columns):\n",
    "    ax = fig.add_subplot(gs[idx, 0])\n",
    "    ax.set_title(col)\n",
    "    hist = tripweather_summary_grouped[col].hist(ax=ax, bins=25)\n",
    "    \n",
    "    ax = fig.add_subplot(gs[idx, 1])\n",
    "    ax.set_title(col + ' (log scale)')\n",
    "    hist = tripweather_summary_grouped[col].hist(ax=ax, bins=25)\n",
    "    ax.set_yscale('log')\n",
    "    \n",
    "fig.tight_layout()\n",
    "plt.show()"
   ]
  }
 ],
 "metadata": {
  "kernelspec": {
   "display_name": "Python 3",
   "language": "python",
   "name": "python3"
  },
  "language_info": {
   "codemirror_mode": {
    "name": "ipython",
    "version": 3
   },
   "file_extension": ".py",
   "mimetype": "text/x-python",
   "name": "python",
   "nbconvert_exporter": "python",
   "pygments_lexer": "ipython3",
   "version": "3.8.0"
  }
 },
 "nbformat": 4,
 "nbformat_minor": 4
}
